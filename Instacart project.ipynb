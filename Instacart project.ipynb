{
 "cells": [
  {
   "cell_type": "markdown",
   "metadata": {},
   "source": [
    "### INSTACART MARKET BASKET ANALYSIS"
   ]
  },
  {
   "cell_type": "markdown",
   "metadata": {},
   "source": [
    "Instacart Project:\n",
    "Instacart is an online grocery application where a customer can order online and a shopper would do the shopping and deliver the groceries to them.\n",
    "There are 6 datasets available here:\n",
    "1. prior ordered products: Specify the order id,product id, order at which the product is added to the basket per order, and if the product is reordered.\n",
    "\n",
    "2. products: includes the product's id, name of product, aisle id, and department id.\n",
    "\n",
    "3. order products train:\n",
    "\n",
    "4. aisles: includes the aisle id and at what the aisle id correspond to, such as specialty cheeses, energy granola bars, etc.\n",
    "\n",
    "5. orders: includes the order number,user id,\n",
    "\n",
    "6. departments: includes department id and what department is the grocery in."
   ]
  },
  {
   "cell_type": "code",
   "execution_count": 1,
   "metadata": {
    "collapsed": true
   },
   "outputs": [],
   "source": [
    "import pandas as pd\n",
    "import numpy as np\n",
    "import seaborn as sns\n",
    "import matplotlib.pyplot as plt"
   ]
  },
  {
   "cell_type": "code",
   "execution_count": 2,
   "metadata": {
    "collapsed": true
   },
   "outputs": [],
   "source": [
    "prior_order = pd.read_csv('order_products__prior.csv')\n",
    "products = pd.read_csv('products.csv')\n",
    "order_products_train = pd.read_csv('order_products__train.csv')\n",
    "aisles = pd.read_csv('aisles.csv')\n",
    "orders = pd.read_csv('orders.csv')\n",
    "departments = pd.read_csv('departments.csv')"
   ]
  },
  {
   "cell_type": "markdown",
   "metadata": {},
   "source": [
    "# Data Wrangling"
   ]
  },
  {
   "cell_type": "markdown",
   "metadata": {},
   "source": [
    "In data wrangling, we would like to check for any missing values, any variables that are mistakenly input into the data, and fill out the missing values with other values or simply drop them if they do not really help out with the data and if there are not a lot of data to be excluded."
   ]
  },
  {
   "cell_type": "code",
   "execution_count": 3,
   "metadata": {},
   "outputs": [
    {
     "name": "stdout",
     "output_type": "stream",
     "text": [
      "(32434489, 4)\n"
     ]
    },
    {
     "data": {
      "text/html": [
       "<div>\n",
       "<style>\n",
       "    .dataframe thead tr:only-child th {\n",
       "        text-align: right;\n",
       "    }\n",
       "\n",
       "    .dataframe thead th {\n",
       "        text-align: left;\n",
       "    }\n",
       "\n",
       "    .dataframe tbody tr th {\n",
       "        vertical-align: top;\n",
       "    }\n",
       "</style>\n",
       "<table border=\"1\" class=\"dataframe\">\n",
       "  <thead>\n",
       "    <tr style=\"text-align: right;\">\n",
       "      <th></th>\n",
       "      <th>order_id</th>\n",
       "      <th>product_id</th>\n",
       "      <th>add_to_cart_order</th>\n",
       "      <th>reordered</th>\n",
       "    </tr>\n",
       "  </thead>\n",
       "  <tbody>\n",
       "    <tr>\n",
       "      <th>0</th>\n",
       "      <td>2</td>\n",
       "      <td>33120</td>\n",
       "      <td>1</td>\n",
       "      <td>1</td>\n",
       "    </tr>\n",
       "    <tr>\n",
       "      <th>1</th>\n",
       "      <td>2</td>\n",
       "      <td>28985</td>\n",
       "      <td>2</td>\n",
       "      <td>1</td>\n",
       "    </tr>\n",
       "    <tr>\n",
       "      <th>2</th>\n",
       "      <td>2</td>\n",
       "      <td>9327</td>\n",
       "      <td>3</td>\n",
       "      <td>0</td>\n",
       "    </tr>\n",
       "    <tr>\n",
       "      <th>3</th>\n",
       "      <td>2</td>\n",
       "      <td>45918</td>\n",
       "      <td>4</td>\n",
       "      <td>1</td>\n",
       "    </tr>\n",
       "    <tr>\n",
       "      <th>4</th>\n",
       "      <td>2</td>\n",
       "      <td>30035</td>\n",
       "      <td>5</td>\n",
       "      <td>0</td>\n",
       "    </tr>\n",
       "  </tbody>\n",
       "</table>\n",
       "</div>"
      ],
      "text/plain": [
       "   order_id  product_id  add_to_cart_order  reordered\n",
       "0         2       33120                  1          1\n",
       "1         2       28985                  2          1\n",
       "2         2        9327                  3          0\n",
       "3         2       45918                  4          1\n",
       "4         2       30035                  5          0"
      ]
     },
     "execution_count": 3,
     "metadata": {},
     "output_type": "execute_result"
    }
   ],
   "source": [
    "#find out how the prior order table looks like\n",
    "print(prior_order.shape)\n",
    "prior_order.head()"
   ]
  },
  {
   "cell_type": "code",
   "execution_count": 4,
   "metadata": {},
   "outputs": [
    {
     "data": {
      "text/plain": [
       "order_id             0\n",
       "product_id           0\n",
       "add_to_cart_order    0\n",
       "reordered            0\n",
       "dtype: int64"
      ]
     },
     "execution_count": 4,
     "metadata": {},
     "output_type": "execute_result"
    }
   ],
   "source": [
    "#check if there is any missing values in the prior order table\n",
    "prior_order.isnull().sum()"
   ]
  },
  {
   "cell_type": "markdown",
   "metadata": {},
   "source": [
    "Prior order indicates that there are no missing values"
   ]
  },
  {
   "cell_type": "code",
   "execution_count": 5,
   "metadata": {},
   "outputs": [
    {
     "data": {
      "text/plain": [
       "(3421083, 7)"
      ]
     },
     "execution_count": 5,
     "metadata": {},
     "output_type": "execute_result"
    }
   ],
   "source": [
    "orders.shape"
   ]
  },
  {
   "cell_type": "code",
   "execution_count": 6,
   "metadata": {},
   "outputs": [
    {
     "data": {
      "text/html": [
       "<div>\n",
       "<style>\n",
       "    .dataframe thead tr:only-child th {\n",
       "        text-align: right;\n",
       "    }\n",
       "\n",
       "    .dataframe thead th {\n",
       "        text-align: left;\n",
       "    }\n",
       "\n",
       "    .dataframe tbody tr th {\n",
       "        vertical-align: top;\n",
       "    }\n",
       "</style>\n",
       "<table border=\"1\" class=\"dataframe\">\n",
       "  <thead>\n",
       "    <tr style=\"text-align: right;\">\n",
       "      <th></th>\n",
       "      <th>order_id</th>\n",
       "      <th>user_id</th>\n",
       "      <th>eval_set</th>\n",
       "      <th>order_number</th>\n",
       "      <th>order_dow</th>\n",
       "      <th>order_hour_of_day</th>\n",
       "      <th>days_since_prior_order</th>\n",
       "    </tr>\n",
       "  </thead>\n",
       "  <tbody>\n",
       "    <tr>\n",
       "      <th>0</th>\n",
       "      <td>2539329</td>\n",
       "      <td>1</td>\n",
       "      <td>prior</td>\n",
       "      <td>1</td>\n",
       "      <td>2</td>\n",
       "      <td>8</td>\n",
       "      <td>NaN</td>\n",
       "    </tr>\n",
       "    <tr>\n",
       "      <th>1</th>\n",
       "      <td>2398795</td>\n",
       "      <td>1</td>\n",
       "      <td>prior</td>\n",
       "      <td>2</td>\n",
       "      <td>3</td>\n",
       "      <td>7</td>\n",
       "      <td>15.0</td>\n",
       "    </tr>\n",
       "    <tr>\n",
       "      <th>2</th>\n",
       "      <td>473747</td>\n",
       "      <td>1</td>\n",
       "      <td>prior</td>\n",
       "      <td>3</td>\n",
       "      <td>3</td>\n",
       "      <td>12</td>\n",
       "      <td>21.0</td>\n",
       "    </tr>\n",
       "    <tr>\n",
       "      <th>3</th>\n",
       "      <td>2254736</td>\n",
       "      <td>1</td>\n",
       "      <td>prior</td>\n",
       "      <td>4</td>\n",
       "      <td>4</td>\n",
       "      <td>7</td>\n",
       "      <td>29.0</td>\n",
       "    </tr>\n",
       "    <tr>\n",
       "      <th>4</th>\n",
       "      <td>431534</td>\n",
       "      <td>1</td>\n",
       "      <td>prior</td>\n",
       "      <td>5</td>\n",
       "      <td>4</td>\n",
       "      <td>15</td>\n",
       "      <td>28.0</td>\n",
       "    </tr>\n",
       "  </tbody>\n",
       "</table>\n",
       "</div>"
      ],
      "text/plain": [
       "   order_id  user_id eval_set  order_number  order_dow  order_hour_of_day  \\\n",
       "0   2539329        1    prior             1          2                  8   \n",
       "1   2398795        1    prior             2          3                  7   \n",
       "2    473747        1    prior             3          3                 12   \n",
       "3   2254736        1    prior             4          4                  7   \n",
       "4    431534        1    prior             5          4                 15   \n",
       "\n",
       "   days_since_prior_order  \n",
       "0                     NaN  \n",
       "1                    15.0  \n",
       "2                    21.0  \n",
       "3                    29.0  \n",
       "4                    28.0  "
      ]
     },
     "execution_count": 6,
     "metadata": {},
     "output_type": "execute_result"
    }
   ],
   "source": [
    "orders = pd.read_csv('orders.csv')\n",
    "orders.head()"
   ]
  },
  {
   "cell_type": "code",
   "execution_count": 7,
   "metadata": {
    "collapsed": true
   },
   "outputs": [],
   "source": [
    "average_order_hours = orders.groupby('user_id').agg({'order_hour_of_day':'mean'})"
   ]
  },
  {
   "cell_type": "code",
   "execution_count": 8,
   "metadata": {
    "collapsed": true
   },
   "outputs": [],
   "source": [
    "average_order_hours.reset_index(inplace=True,drop=False)"
   ]
  },
  {
   "cell_type": "code",
   "execution_count": 9,
   "metadata": {
    "collapsed": true
   },
   "outputs": [],
   "source": [
    "orders = pd.merge(orders,average_order_hours,on='user_id',how='left')"
   ]
  },
  {
   "cell_type": "markdown",
   "metadata": {},
   "source": [
    "The graph above shows the average hour of day that the customer orders."
   ]
  },
  {
   "cell_type": "code",
   "execution_count": 10,
   "metadata": {},
   "outputs": [
    {
     "data": {
      "text/html": [
       "<div>\n",
       "<style>\n",
       "    .dataframe thead tr:only-child th {\n",
       "        text-align: right;\n",
       "    }\n",
       "\n",
       "    .dataframe thead th {\n",
       "        text-align: left;\n",
       "    }\n",
       "\n",
       "    .dataframe tbody tr th {\n",
       "        vertical-align: top;\n",
       "    }\n",
       "</style>\n",
       "<table border=\"1\" class=\"dataframe\">\n",
       "  <thead>\n",
       "    <tr style=\"text-align: right;\">\n",
       "      <th></th>\n",
       "      <th>order_id</th>\n",
       "      <th>user_id</th>\n",
       "      <th>eval_set</th>\n",
       "      <th>order_number</th>\n",
       "      <th>order_dow</th>\n",
       "      <th>order_hour_of_day_x</th>\n",
       "      <th>days_since_prior_order</th>\n",
       "      <th>order_hour_of_day_y</th>\n",
       "    </tr>\n",
       "  </thead>\n",
       "  <tbody>\n",
       "    <tr>\n",
       "      <th>0</th>\n",
       "      <td>2539329</td>\n",
       "      <td>1</td>\n",
       "      <td>prior</td>\n",
       "      <td>1</td>\n",
       "      <td>2</td>\n",
       "      <td>8</td>\n",
       "      <td>NaN</td>\n",
       "      <td>10.090909</td>\n",
       "    </tr>\n",
       "    <tr>\n",
       "      <th>1</th>\n",
       "      <td>2398795</td>\n",
       "      <td>1</td>\n",
       "      <td>prior</td>\n",
       "      <td>2</td>\n",
       "      <td>3</td>\n",
       "      <td>7</td>\n",
       "      <td>15.0</td>\n",
       "      <td>10.090909</td>\n",
       "    </tr>\n",
       "    <tr>\n",
       "      <th>2</th>\n",
       "      <td>473747</td>\n",
       "      <td>1</td>\n",
       "      <td>prior</td>\n",
       "      <td>3</td>\n",
       "      <td>3</td>\n",
       "      <td>12</td>\n",
       "      <td>21.0</td>\n",
       "      <td>10.090909</td>\n",
       "    </tr>\n",
       "    <tr>\n",
       "      <th>3</th>\n",
       "      <td>2254736</td>\n",
       "      <td>1</td>\n",
       "      <td>prior</td>\n",
       "      <td>4</td>\n",
       "      <td>4</td>\n",
       "      <td>7</td>\n",
       "      <td>29.0</td>\n",
       "      <td>10.090909</td>\n",
       "    </tr>\n",
       "    <tr>\n",
       "      <th>4</th>\n",
       "      <td>431534</td>\n",
       "      <td>1</td>\n",
       "      <td>prior</td>\n",
       "      <td>5</td>\n",
       "      <td>4</td>\n",
       "      <td>15</td>\n",
       "      <td>28.0</td>\n",
       "      <td>10.090909</td>\n",
       "    </tr>\n",
       "  </tbody>\n",
       "</table>\n",
       "</div>"
      ],
      "text/plain": [
       "   order_id  user_id eval_set  order_number  order_dow  order_hour_of_day_x  \\\n",
       "0   2539329        1    prior             1          2                    8   \n",
       "1   2398795        1    prior             2          3                    7   \n",
       "2    473747        1    prior             3          3                   12   \n",
       "3   2254736        1    prior             4          4                    7   \n",
       "4    431534        1    prior             5          4                   15   \n",
       "\n",
       "   days_since_prior_order  order_hour_of_day_y  \n",
       "0                     NaN            10.090909  \n",
       "1                    15.0            10.090909  \n",
       "2                    21.0            10.090909  \n",
       "3                    29.0            10.090909  \n",
       "4                    28.0            10.090909  "
      ]
     },
     "execution_count": 10,
     "metadata": {},
     "output_type": "execute_result"
    }
   ],
   "source": [
    "orders.head()"
   ]
  },
  {
   "cell_type": "code",
   "execution_count": 11,
   "metadata": {
    "collapsed": true
   },
   "outputs": [],
   "source": [
    "#rename all the columns:\n",
    "orders.columns = ['order_id','user_id','eval_set','order_number','order_dow','order_hour_of_day',\n",
    "                  'days_since_prior_order','average_order_hour_of_day']"
   ]
  },
  {
   "cell_type": "code",
   "execution_count": 12,
   "metadata": {},
   "outputs": [
    {
     "data": {
      "text/html": [
       "<div>\n",
       "<style>\n",
       "    .dataframe thead tr:only-child th {\n",
       "        text-align: right;\n",
       "    }\n",
       "\n",
       "    .dataframe thead th {\n",
       "        text-align: left;\n",
       "    }\n",
       "\n",
       "    .dataframe tbody tr th {\n",
       "        vertical-align: top;\n",
       "    }\n",
       "</style>\n",
       "<table border=\"1\" class=\"dataframe\">\n",
       "  <thead>\n",
       "    <tr style=\"text-align: right;\">\n",
       "      <th></th>\n",
       "      <th>order_id</th>\n",
       "      <th>user_id</th>\n",
       "      <th>eval_set</th>\n",
       "      <th>order_number</th>\n",
       "      <th>order_dow</th>\n",
       "      <th>order_hour_of_day</th>\n",
       "      <th>days_since_prior_order</th>\n",
       "      <th>average_order_hour_of_day</th>\n",
       "    </tr>\n",
       "  </thead>\n",
       "  <tbody>\n",
       "    <tr>\n",
       "      <th>0</th>\n",
       "      <td>2539329</td>\n",
       "      <td>1</td>\n",
       "      <td>prior</td>\n",
       "      <td>1</td>\n",
       "      <td>2</td>\n",
       "      <td>8</td>\n",
       "      <td>NaN</td>\n",
       "      <td>10.090909</td>\n",
       "    </tr>\n",
       "    <tr>\n",
       "      <th>1</th>\n",
       "      <td>2398795</td>\n",
       "      <td>1</td>\n",
       "      <td>prior</td>\n",
       "      <td>2</td>\n",
       "      <td>3</td>\n",
       "      <td>7</td>\n",
       "      <td>15.0</td>\n",
       "      <td>10.090909</td>\n",
       "    </tr>\n",
       "    <tr>\n",
       "      <th>2</th>\n",
       "      <td>473747</td>\n",
       "      <td>1</td>\n",
       "      <td>prior</td>\n",
       "      <td>3</td>\n",
       "      <td>3</td>\n",
       "      <td>12</td>\n",
       "      <td>21.0</td>\n",
       "      <td>10.090909</td>\n",
       "    </tr>\n",
       "    <tr>\n",
       "      <th>3</th>\n",
       "      <td>2254736</td>\n",
       "      <td>1</td>\n",
       "      <td>prior</td>\n",
       "      <td>4</td>\n",
       "      <td>4</td>\n",
       "      <td>7</td>\n",
       "      <td>29.0</td>\n",
       "      <td>10.090909</td>\n",
       "    </tr>\n",
       "    <tr>\n",
       "      <th>4</th>\n",
       "      <td>431534</td>\n",
       "      <td>1</td>\n",
       "      <td>prior</td>\n",
       "      <td>5</td>\n",
       "      <td>4</td>\n",
       "      <td>15</td>\n",
       "      <td>28.0</td>\n",
       "      <td>10.090909</td>\n",
       "    </tr>\n",
       "  </tbody>\n",
       "</table>\n",
       "</div>"
      ],
      "text/plain": [
       "   order_id  user_id eval_set  order_number  order_dow  order_hour_of_day  \\\n",
       "0   2539329        1    prior             1          2                  8   \n",
       "1   2398795        1    prior             2          3                  7   \n",
       "2    473747        1    prior             3          3                 12   \n",
       "3   2254736        1    prior             4          4                  7   \n",
       "4    431534        1    prior             5          4                 15   \n",
       "\n",
       "   days_since_prior_order  average_order_hour_of_day  \n",
       "0                     NaN                  10.090909  \n",
       "1                    15.0                  10.090909  \n",
       "2                    21.0                  10.090909  \n",
       "3                    29.0                  10.090909  \n",
       "4                    28.0                  10.090909  "
      ]
     },
     "execution_count": 12,
     "metadata": {},
     "output_type": "execute_result"
    }
   ],
   "source": [
    "orders.head()"
   ]
  },
  {
   "cell_type": "code",
   "execution_count": 13,
   "metadata": {},
   "outputs": [
    {
     "data": {
      "text/plain": [
       "order_id                          0\n",
       "user_id                           0\n",
       "eval_set                          0\n",
       "order_number                      0\n",
       "order_dow                         0\n",
       "order_hour_of_day                 0\n",
       "days_since_prior_order       206209\n",
       "average_order_hour_of_day         0\n",
       "dtype: int64"
      ]
     },
     "execution_count": 13,
     "metadata": {},
     "output_type": "execute_result"
    }
   ],
   "source": [
    "missing_orders = orders.isnull().sum()\n",
    "missing_orders"
   ]
  },
  {
   "cell_type": "markdown",
   "metadata": {},
   "source": [
    "Based on the data above, we can see that there are no missing values for all the columns except for \"days_since_prior_order\", where it has 206209 missing values."
   ]
  },
  {
   "cell_type": "code",
   "execution_count": 14,
   "metadata": {
    "collapsed": true
   },
   "outputs": [],
   "source": [
    "total_orders = orders.isnull().count()"
   ]
  },
  {
   "cell_type": "code",
   "execution_count": 15,
   "metadata": {},
   "outputs": [
    {
     "data": {
      "text/plain": [
       "order_id                     0.000000\n",
       "user_id                      0.000000\n",
       "eval_set                     0.000000\n",
       "order_number                 0.000000\n",
       "order_dow                    0.000000\n",
       "order_hour_of_day            0.000000\n",
       "days_since_prior_order       0.060276\n",
       "average_order_hour_of_day    0.000000\n",
       "dtype: float64"
      ]
     },
     "execution_count": 15,
     "metadata": {},
     "output_type": "execute_result"
    }
   ],
   "source": [
    "percentage_orders = missing_orders/total_orders\n",
    "percentage_orders"
   ]
  },
  {
   "cell_type": "markdown",
   "metadata": {},
   "source": [
    "The table above indicates that the column \"days_since_prior_orders\" has 6% missing values, as we can see they are indicated by \"NaN\". However, this NaN indicates that the person has not previously ordered using instacart. Thus, it is possible that we might have to divide the data into two where one would have ordered previously while the other does not."
   ]
  },
  {
   "cell_type": "code",
   "execution_count": 16,
   "metadata": {},
   "outputs": [
    {
     "data": {
      "text/html": [
       "<div>\n",
       "<style>\n",
       "    .dataframe thead tr:only-child th {\n",
       "        text-align: right;\n",
       "    }\n",
       "\n",
       "    .dataframe thead th {\n",
       "        text-align: left;\n",
       "    }\n",
       "\n",
       "    .dataframe tbody tr th {\n",
       "        vertical-align: top;\n",
       "    }\n",
       "</style>\n",
       "<table border=\"1\" class=\"dataframe\">\n",
       "  <thead>\n",
       "    <tr style=\"text-align: right;\">\n",
       "      <th></th>\n",
       "      <th>order_id</th>\n",
       "      <th>user_id</th>\n",
       "      <th>order_number</th>\n",
       "      <th>order_dow</th>\n",
       "      <th>order_hour_of_day</th>\n",
       "      <th>days_since_prior_order</th>\n",
       "      <th>average_order_hour_of_day</th>\n",
       "    </tr>\n",
       "  </thead>\n",
       "  <tbody>\n",
       "    <tr>\n",
       "      <th>count</th>\n",
       "      <td>3.421083e+06</td>\n",
       "      <td>3.421083e+06</td>\n",
       "      <td>3.421083e+06</td>\n",
       "      <td>3.421083e+06</td>\n",
       "      <td>3.421083e+06</td>\n",
       "      <td>3.214874e+06</td>\n",
       "      <td>3.421083e+06</td>\n",
       "    </tr>\n",
       "    <tr>\n",
       "      <th>mean</th>\n",
       "      <td>1.710542e+06</td>\n",
       "      <td>1.029782e+05</td>\n",
       "      <td>1.715486e+01</td>\n",
       "      <td>2.776219e+00</td>\n",
       "      <td>1.345202e+01</td>\n",
       "      <td>1.111484e+01</td>\n",
       "      <td>1.345202e+01</td>\n",
       "    </tr>\n",
       "    <tr>\n",
       "      <th>std</th>\n",
       "      <td>9.875817e+05</td>\n",
       "      <td>5.953372e+04</td>\n",
       "      <td>1.773316e+01</td>\n",
       "      <td>2.046829e+00</td>\n",
       "      <td>4.226088e+00</td>\n",
       "      <td>9.206737e+00</td>\n",
       "      <td>1.803192e+00</td>\n",
       "    </tr>\n",
       "    <tr>\n",
       "      <th>min</th>\n",
       "      <td>1.000000e+00</td>\n",
       "      <td>1.000000e+00</td>\n",
       "      <td>1.000000e+00</td>\n",
       "      <td>0.000000e+00</td>\n",
       "      <td>0.000000e+00</td>\n",
       "      <td>0.000000e+00</td>\n",
       "      <td>7.500000e-01</td>\n",
       "    </tr>\n",
       "    <tr>\n",
       "      <th>25%</th>\n",
       "      <td>8.552715e+05</td>\n",
       "      <td>5.139400e+04</td>\n",
       "      <td>5.000000e+00</td>\n",
       "      <td>1.000000e+00</td>\n",
       "      <td>1.000000e+01</td>\n",
       "      <td>4.000000e+00</td>\n",
       "      <td>1.226667e+01</td>\n",
       "    </tr>\n",
       "    <tr>\n",
       "      <th>50%</th>\n",
       "      <td>1.710542e+06</td>\n",
       "      <td>1.026890e+05</td>\n",
       "      <td>1.100000e+01</td>\n",
       "      <td>3.000000e+00</td>\n",
       "      <td>1.300000e+01</td>\n",
       "      <td>7.000000e+00</td>\n",
       "      <td>1.345455e+01</td>\n",
       "    </tr>\n",
       "    <tr>\n",
       "      <th>75%</th>\n",
       "      <td>2.565812e+06</td>\n",
       "      <td>1.543850e+05</td>\n",
       "      <td>2.300000e+01</td>\n",
       "      <td>5.000000e+00</td>\n",
       "      <td>1.600000e+01</td>\n",
       "      <td>1.500000e+01</td>\n",
       "      <td>1.462500e+01</td>\n",
       "    </tr>\n",
       "    <tr>\n",
       "      <th>max</th>\n",
       "      <td>3.421083e+06</td>\n",
       "      <td>2.062090e+05</td>\n",
       "      <td>1.000000e+02</td>\n",
       "      <td>6.000000e+00</td>\n",
       "      <td>2.300000e+01</td>\n",
       "      <td>3.000000e+01</td>\n",
       "      <td>2.300000e+01</td>\n",
       "    </tr>\n",
       "  </tbody>\n",
       "</table>\n",
       "</div>"
      ],
      "text/plain": [
       "           order_id       user_id  order_number     order_dow  \\\n",
       "count  3.421083e+06  3.421083e+06  3.421083e+06  3.421083e+06   \n",
       "mean   1.710542e+06  1.029782e+05  1.715486e+01  2.776219e+00   \n",
       "std    9.875817e+05  5.953372e+04  1.773316e+01  2.046829e+00   \n",
       "min    1.000000e+00  1.000000e+00  1.000000e+00  0.000000e+00   \n",
       "25%    8.552715e+05  5.139400e+04  5.000000e+00  1.000000e+00   \n",
       "50%    1.710542e+06  1.026890e+05  1.100000e+01  3.000000e+00   \n",
       "75%    2.565812e+06  1.543850e+05  2.300000e+01  5.000000e+00   \n",
       "max    3.421083e+06  2.062090e+05  1.000000e+02  6.000000e+00   \n",
       "\n",
       "       order_hour_of_day  days_since_prior_order  average_order_hour_of_day  \n",
       "count       3.421083e+06            3.214874e+06               3.421083e+06  \n",
       "mean        1.345202e+01            1.111484e+01               1.345202e+01  \n",
       "std         4.226088e+00            9.206737e+00               1.803192e+00  \n",
       "min         0.000000e+00            0.000000e+00               7.500000e-01  \n",
       "25%         1.000000e+01            4.000000e+00               1.226667e+01  \n",
       "50%         1.300000e+01            7.000000e+00               1.345455e+01  \n",
       "75%         1.600000e+01            1.500000e+01               1.462500e+01  \n",
       "max         2.300000e+01            3.000000e+01               2.300000e+01  "
      ]
     },
     "execution_count": 16,
     "metadata": {},
     "output_type": "execute_result"
    }
   ],
   "source": [
    "orders.describe()"
   ]
  },
  {
   "cell_type": "markdown",
   "metadata": {},
   "source": [
    "The orders indicate that there is no value that lies beyond the reasonable value. For example, order hour of day is between 0:00 and 23:00 and order day of week is between  0 and 6"
   ]
  },
  {
   "cell_type": "code",
   "execution_count": 17,
   "metadata": {},
   "outputs": [
    {
     "data": {
      "text/plain": [
       "(49688, 4)"
      ]
     },
     "execution_count": 17,
     "metadata": {},
     "output_type": "execute_result"
    }
   ],
   "source": [
    "products.shape"
   ]
  },
  {
   "cell_type": "code",
   "execution_count": 18,
   "metadata": {},
   "outputs": [
    {
     "data": {
      "text/html": [
       "<div>\n",
       "<style>\n",
       "    .dataframe thead tr:only-child th {\n",
       "        text-align: right;\n",
       "    }\n",
       "\n",
       "    .dataframe thead th {\n",
       "        text-align: left;\n",
       "    }\n",
       "\n",
       "    .dataframe tbody tr th {\n",
       "        vertical-align: top;\n",
       "    }\n",
       "</style>\n",
       "<table border=\"1\" class=\"dataframe\">\n",
       "  <thead>\n",
       "    <tr style=\"text-align: right;\">\n",
       "      <th></th>\n",
       "      <th>product_id</th>\n",
       "      <th>product_name</th>\n",
       "      <th>aisle_id</th>\n",
       "      <th>department_id</th>\n",
       "    </tr>\n",
       "  </thead>\n",
       "  <tbody>\n",
       "    <tr>\n",
       "      <th>0</th>\n",
       "      <td>1</td>\n",
       "      <td>Chocolate Sandwich Cookies</td>\n",
       "      <td>61</td>\n",
       "      <td>19</td>\n",
       "    </tr>\n",
       "    <tr>\n",
       "      <th>1</th>\n",
       "      <td>2</td>\n",
       "      <td>All-Seasons Salt</td>\n",
       "      <td>104</td>\n",
       "      <td>13</td>\n",
       "    </tr>\n",
       "    <tr>\n",
       "      <th>2</th>\n",
       "      <td>3</td>\n",
       "      <td>Robust Golden Unsweetened Oolong Tea</td>\n",
       "      <td>94</td>\n",
       "      <td>7</td>\n",
       "    </tr>\n",
       "    <tr>\n",
       "      <th>3</th>\n",
       "      <td>4</td>\n",
       "      <td>Smart Ones Classic Favorites Mini Rigatoni Wit...</td>\n",
       "      <td>38</td>\n",
       "      <td>1</td>\n",
       "    </tr>\n",
       "    <tr>\n",
       "      <th>4</th>\n",
       "      <td>5</td>\n",
       "      <td>Green Chile Anytime Sauce</td>\n",
       "      <td>5</td>\n",
       "      <td>13</td>\n",
       "    </tr>\n",
       "  </tbody>\n",
       "</table>\n",
       "</div>"
      ],
      "text/plain": [
       "   product_id                                       product_name  aisle_id  \\\n",
       "0           1                         Chocolate Sandwich Cookies        61   \n",
       "1           2                                   All-Seasons Salt       104   \n",
       "2           3               Robust Golden Unsweetened Oolong Tea        94   \n",
       "3           4  Smart Ones Classic Favorites Mini Rigatoni Wit...        38   \n",
       "4           5                          Green Chile Anytime Sauce         5   \n",
       "\n",
       "   department_id  \n",
       "0             19  \n",
       "1             13  \n",
       "2              7  \n",
       "3              1  \n",
       "4             13  "
      ]
     },
     "execution_count": 18,
     "metadata": {},
     "output_type": "execute_result"
    }
   ],
   "source": [
    "products.head()"
   ]
  },
  {
   "cell_type": "code",
   "execution_count": 19,
   "metadata": {},
   "outputs": [
    {
     "data": {
      "text/html": [
       "<div>\n",
       "<style>\n",
       "    .dataframe thead tr:only-child th {\n",
       "        text-align: right;\n",
       "    }\n",
       "\n",
       "    .dataframe thead th {\n",
       "        text-align: left;\n",
       "    }\n",
       "\n",
       "    .dataframe tbody tr th {\n",
       "        vertical-align: top;\n",
       "    }\n",
       "</style>\n",
       "<table border=\"1\" class=\"dataframe\">\n",
       "  <thead>\n",
       "    <tr style=\"text-align: right;\">\n",
       "      <th></th>\n",
       "      <th>product_id</th>\n",
       "      <th>product_name</th>\n",
       "      <th>aisle_id</th>\n",
       "      <th>department_id</th>\n",
       "    </tr>\n",
       "  </thead>\n",
       "  <tbody>\n",
       "  </tbody>\n",
       "</table>\n",
       "</div>"
      ],
      "text/plain": [
       "Empty DataFrame\n",
       "Columns: [product_id, product_name, aisle_id, department_id]\n",
       "Index: []"
      ]
     },
     "execution_count": 19,
     "metadata": {},
     "output_type": "execute_result"
    }
   ],
   "source": [
    "null_products = products[products.isnull().any(axis=1)]\n",
    "null_products"
   ]
  },
  {
   "cell_type": "markdown",
   "metadata": {},
   "source": [
    "We can see from the above that there is no null values in the products table. "
   ]
  },
  {
   "cell_type": "code",
   "execution_count": 20,
   "metadata": {},
   "outputs": [
    {
     "name": "stdout",
     "output_type": "stream",
     "text": [
      "(1384617, 4)\n"
     ]
    },
    {
     "data": {
      "text/html": [
       "<div>\n",
       "<style>\n",
       "    .dataframe thead tr:only-child th {\n",
       "        text-align: right;\n",
       "    }\n",
       "\n",
       "    .dataframe thead th {\n",
       "        text-align: left;\n",
       "    }\n",
       "\n",
       "    .dataframe tbody tr th {\n",
       "        vertical-align: top;\n",
       "    }\n",
       "</style>\n",
       "<table border=\"1\" class=\"dataframe\">\n",
       "  <thead>\n",
       "    <tr style=\"text-align: right;\">\n",
       "      <th></th>\n",
       "      <th>order_id</th>\n",
       "      <th>product_id</th>\n",
       "      <th>add_to_cart_order</th>\n",
       "      <th>reordered</th>\n",
       "    </tr>\n",
       "  </thead>\n",
       "  <tbody>\n",
       "    <tr>\n",
       "      <th>0</th>\n",
       "      <td>1</td>\n",
       "      <td>49302</td>\n",
       "      <td>1</td>\n",
       "      <td>1</td>\n",
       "    </tr>\n",
       "    <tr>\n",
       "      <th>1</th>\n",
       "      <td>1</td>\n",
       "      <td>11109</td>\n",
       "      <td>2</td>\n",
       "      <td>1</td>\n",
       "    </tr>\n",
       "    <tr>\n",
       "      <th>2</th>\n",
       "      <td>1</td>\n",
       "      <td>10246</td>\n",
       "      <td>3</td>\n",
       "      <td>0</td>\n",
       "    </tr>\n",
       "    <tr>\n",
       "      <th>3</th>\n",
       "      <td>1</td>\n",
       "      <td>49683</td>\n",
       "      <td>4</td>\n",
       "      <td>0</td>\n",
       "    </tr>\n",
       "    <tr>\n",
       "      <th>4</th>\n",
       "      <td>1</td>\n",
       "      <td>43633</td>\n",
       "      <td>5</td>\n",
       "      <td>1</td>\n",
       "    </tr>\n",
       "  </tbody>\n",
       "</table>\n",
       "</div>"
      ],
      "text/plain": [
       "   order_id  product_id  add_to_cart_order  reordered\n",
       "0         1       49302                  1          1\n",
       "1         1       11109                  2          1\n",
       "2         1       10246                  3          0\n",
       "3         1       49683                  4          0\n",
       "4         1       43633                  5          1"
      ]
     },
     "execution_count": 20,
     "metadata": {},
     "output_type": "execute_result"
    }
   ],
   "source": [
    "print(order_products_train.shape)\n",
    "order_products_train.head()"
   ]
  },
  {
   "cell_type": "code",
   "execution_count": 21,
   "metadata": {
    "collapsed": true
   },
   "outputs": [],
   "source": [
    "null_train = order_products_train[order_products_train.isnull().any(axis=1)]"
   ]
  },
  {
   "cell_type": "code",
   "execution_count": 22,
   "metadata": {},
   "outputs": [
    {
     "data": {
      "text/html": [
       "<div>\n",
       "<style>\n",
       "    .dataframe thead tr:only-child th {\n",
       "        text-align: right;\n",
       "    }\n",
       "\n",
       "    .dataframe thead th {\n",
       "        text-align: left;\n",
       "    }\n",
       "\n",
       "    .dataframe tbody tr th {\n",
       "        vertical-align: top;\n",
       "    }\n",
       "</style>\n",
       "<table border=\"1\" class=\"dataframe\">\n",
       "  <thead>\n",
       "    <tr style=\"text-align: right;\">\n",
       "      <th></th>\n",
       "      <th>order_id</th>\n",
       "      <th>product_id</th>\n",
       "      <th>add_to_cart_order</th>\n",
       "      <th>reordered</th>\n",
       "    </tr>\n",
       "  </thead>\n",
       "  <tbody>\n",
       "  </tbody>\n",
       "</table>\n",
       "</div>"
      ],
      "text/plain": [
       "Empty DataFrame\n",
       "Columns: [order_id, product_id, add_to_cart_order, reordered]\n",
       "Index: []"
      ]
     },
     "execution_count": 22,
     "metadata": {},
     "output_type": "execute_result"
    }
   ],
   "source": [
    "null_train"
   ]
  },
  {
   "cell_type": "markdown",
   "metadata": {},
   "source": [
    "Based on the above analysis, we can see that the 'orders' dataframe has missing values which are \"NaN.\" However, the NaN values are only observed in the column 'days since prior order.' This indicates that the customer has never ordered previously."
   ]
  },
  {
   "cell_type": "code",
   "execution_count": 23,
   "metadata": {},
   "outputs": [
    {
     "data": {
      "text/html": [
       "<div>\n",
       "<style>\n",
       "    .dataframe thead tr:only-child th {\n",
       "        text-align: right;\n",
       "    }\n",
       "\n",
       "    .dataframe thead th {\n",
       "        text-align: left;\n",
       "    }\n",
       "\n",
       "    .dataframe tbody tr th {\n",
       "        vertical-align: top;\n",
       "    }\n",
       "</style>\n",
       "<table border=\"1\" class=\"dataframe\">\n",
       "  <thead>\n",
       "    <tr style=\"text-align: right;\">\n",
       "      <th></th>\n",
       "      <th>department_id</th>\n",
       "      <th>department</th>\n",
       "    </tr>\n",
       "  </thead>\n",
       "  <tbody>\n",
       "    <tr>\n",
       "      <th>0</th>\n",
       "      <td>1</td>\n",
       "      <td>frozen</td>\n",
       "    </tr>\n",
       "    <tr>\n",
       "      <th>1</th>\n",
       "      <td>2</td>\n",
       "      <td>other</td>\n",
       "    </tr>\n",
       "    <tr>\n",
       "      <th>2</th>\n",
       "      <td>3</td>\n",
       "      <td>bakery</td>\n",
       "    </tr>\n",
       "    <tr>\n",
       "      <th>3</th>\n",
       "      <td>4</td>\n",
       "      <td>produce</td>\n",
       "    </tr>\n",
       "    <tr>\n",
       "      <th>4</th>\n",
       "      <td>5</td>\n",
       "      <td>alcohol</td>\n",
       "    </tr>\n",
       "  </tbody>\n",
       "</table>\n",
       "</div>"
      ],
      "text/plain": [
       "   department_id department\n",
       "0              1     frozen\n",
       "1              2      other\n",
       "2              3     bakery\n",
       "3              4    produce\n",
       "4              5    alcohol"
      ]
     },
     "execution_count": 23,
     "metadata": {},
     "output_type": "execute_result"
    }
   ],
   "source": [
    "departments.head()"
   ]
  },
  {
   "cell_type": "code",
   "execution_count": 24,
   "metadata": {},
   "outputs": [
    {
     "data": {
      "text/plain": [
       "0     False\n",
       "1     False\n",
       "2     False\n",
       "3     False\n",
       "4     False\n",
       "5     False\n",
       "6     False\n",
       "7     False\n",
       "8     False\n",
       "9     False\n",
       "10    False\n",
       "11    False\n",
       "12    False\n",
       "13    False\n",
       "14    False\n",
       "15    False\n",
       "16    False\n",
       "17    False\n",
       "18    False\n",
       "19    False\n",
       "20    False\n",
       "dtype: bool"
      ]
     },
     "execution_count": 24,
     "metadata": {},
     "output_type": "execute_result"
    }
   ],
   "source": [
    "departments.isnull().any(axis=1)"
   ]
  },
  {
   "cell_type": "markdown",
   "metadata": {},
   "source": [
    "The departments data table also has no missing values after being tested for missing values using is null function."
   ]
  },
  {
   "cell_type": "code",
   "execution_count": 25,
   "metadata": {},
   "outputs": [
    {
     "data": {
      "text/html": [
       "<div>\n",
       "<style>\n",
       "    .dataframe thead tr:only-child th {\n",
       "        text-align: right;\n",
       "    }\n",
       "\n",
       "    .dataframe thead th {\n",
       "        text-align: left;\n",
       "    }\n",
       "\n",
       "    .dataframe tbody tr th {\n",
       "        vertical-align: top;\n",
       "    }\n",
       "</style>\n",
       "<table border=\"1\" class=\"dataframe\">\n",
       "  <thead>\n",
       "    <tr style=\"text-align: right;\">\n",
       "      <th></th>\n",
       "      <th>aisle_id</th>\n",
       "      <th>aisle</th>\n",
       "    </tr>\n",
       "  </thead>\n",
       "  <tbody>\n",
       "    <tr>\n",
       "      <th>0</th>\n",
       "      <td>1</td>\n",
       "      <td>prepared soups salads</td>\n",
       "    </tr>\n",
       "    <tr>\n",
       "      <th>1</th>\n",
       "      <td>2</td>\n",
       "      <td>specialty cheeses</td>\n",
       "    </tr>\n",
       "    <tr>\n",
       "      <th>2</th>\n",
       "      <td>3</td>\n",
       "      <td>energy granola bars</td>\n",
       "    </tr>\n",
       "    <tr>\n",
       "      <th>3</th>\n",
       "      <td>4</td>\n",
       "      <td>instant foods</td>\n",
       "    </tr>\n",
       "    <tr>\n",
       "      <th>4</th>\n",
       "      <td>5</td>\n",
       "      <td>marinades meat preparation</td>\n",
       "    </tr>\n",
       "  </tbody>\n",
       "</table>\n",
       "</div>"
      ],
      "text/plain": [
       "   aisle_id                       aisle\n",
       "0         1       prepared soups salads\n",
       "1         2           specialty cheeses\n",
       "2         3         energy granola bars\n",
       "3         4               instant foods\n",
       "4         5  marinades meat preparation"
      ]
     },
     "execution_count": 25,
     "metadata": {},
     "output_type": "execute_result"
    }
   ],
   "source": [
    "aisles.head()"
   ]
  },
  {
   "cell_type": "code",
   "execution_count": 26,
   "metadata": {},
   "outputs": [
    {
     "data": {
      "text/plain": [
       "aisle_id    0\n",
       "aisle       0\n",
       "dtype: int64"
      ]
     },
     "execution_count": 26,
     "metadata": {},
     "output_type": "execute_result"
    }
   ],
   "source": [
    "aisles.isnull().sum()"
   ]
  },
  {
   "cell_type": "markdown",
   "metadata": {},
   "source": [
    "There are no missing values in aisles table."
   ]
  },
  {
   "cell_type": "markdown",
   "metadata": {},
   "source": [
    "# Conclusion of Data Wrangling:"
   ]
  },
  {
   "cell_type": "markdown",
   "metadata": {},
   "source": [
    "Overall the data is pretty clean and there are no outliers or missing values. The only table that needs to be cleaned is the orders table since it has a \"NaN\" value which includes customers that have no historical order and thus cannot be analyzed. Fortunately, it only compromise 6% of the total data we have and allows us to exclude them from our analysis.\n",
    "\n",
    "Thus, we can see that most of the data wrangling work are joining the different tables together in order to analyze the data."
   ]
  },
  {
   "cell_type": "markdown",
   "metadata": {},
   "source": [
    "# Data Visualization and Data Exploration"
   ]
  },
  {
   "cell_type": "markdown",
   "metadata": {},
   "source": [
    "Since the data is all cleaned now, it would be good to explore the data and visualize them to get an idea of how we could predict our data. For instance, we could do data visualization to figure out how do orders vary in a week. Also, we could use data visualization to figure out how long does it take on average for one to reorder his groceries."
   ]
  },
  {
   "cell_type": "code",
   "execution_count": 27,
   "metadata": {
    "collapsed": true
   },
   "outputs": [],
   "source": [
    "import matplotlib.pyplot as plt\n",
    "import seaborn as sns\n",
    "%matplotlib inline\n",
    "plt.style.use('ggplot')"
   ]
  },
  {
   "cell_type": "code",
   "execution_count": 28,
   "metadata": {},
   "outputs": [
    {
     "data": {
      "text/plain": [
       "prior    0.939724\n",
       "train    0.038353\n",
       "test     0.021923\n",
       "Name: eval_set, dtype: float64"
      ]
     },
     "execution_count": 28,
     "metadata": {},
     "output_type": "execute_result"
    }
   ],
   "source": [
    "\"\"\"Analyze the orders Dataset based on its evaluation set: prior, train, \n",
    "or test to find out how to split them.\"\"\"\n",
    "total_set = orders['eval_set'].count()\n",
    "orders_eval = orders['eval_set'].value_counts()\n",
    "evaluation_ratio = orders_eval/total_set\n",
    "evaluation_ratio"
   ]
  },
  {
   "cell_type": "code",
   "execution_count": 29,
   "metadata": {},
   "outputs": [
    {
     "data": {
      "text/plain": [
       "<matplotlib.text.Text at 0x10d598320>"
      ]
     },
     "execution_count": 29,
     "metadata": {},
     "output_type": "execute_result"
    },
    {
     "data": {
      "image/png": "[encoded data removed]",
      "text/plain": [
       "<matplotlib.figure.Figure at 0x10d4abe48>"
      ]
     },
     "metadata": {},
     "output_type": "display_data"
    }
   ],
   "source": [
    "sns.barplot(x = evaluation_ratio.index,y=evaluation_ratio.values)\n",
    "plt.xlabel(\"Evaluation set type\")\n",
    "plt.ylabel(\"Percentage of Evaluation set type\")\n",
    "plt.title(\"Evaluation Set Percentages\")"
   ]
  },
  {
   "cell_type": "code",
   "execution_count": 30,
   "metadata": {},
   "outputs": [
    {
     "data": {
      "text/plain": [
       "([<matplotlib.axis.XTick at 0x10d7dec88>,\n",
       "  <matplotlib.axis.XTick at 0x10d80bf60>,\n",
       "  <matplotlib.axis.XTick at 0x10d7ed668>,\n",
       "  <matplotlib.axis.XTick at 0x10e26cb70>,\n",
       "  <matplotlib.axis.XTick at 0x10e273668>,\n",
       "  <matplotlib.axis.XTick at 0x10e27a160>,\n",
       "  <matplotlib.axis.XTick at 0x10e27ac18>],\n",
       " <a list of 7 Text xticklabel objects>)"
      ]
     },
     "execution_count": 30,
     "metadata": {},
     "output_type": "execute_result"
    },
    {
     "data": {
      "image/png": "[encoded data removed]",
      "text/plain": [
       "<matplotlib.figure.Figure at 0x10d4abc18>"
      ]
     },
     "metadata": {},
     "output_type": "display_data"
    }
   ],
   "source": [
    "#count how many people shop in each day of the week with 0 = Saturday\n",
    "sns.countplot(x='order_dow',data=orders)\n",
    "plt.xticks(np.arange(7),('Saturday','Sunday','Monday','Tuesday','Wednesday',\n",
    "                         'Thursday','Friday'),rotation='vertical')"
   ]
  },
  {
   "cell_type": "markdown",
   "metadata": {
    "collapsed": true
   },
   "source": [
    "We can see that from the chart above, most people order their groceries on Sunday and Monday, and lowest on Thursday."
   ]
  },
  {
   "cell_type": "code",
   "execution_count": 31,
   "metadata": {},
   "outputs": [
    {
     "data": {
      "image/png": "[encoded data removed]",
      "text/plain": [
       "<matplotlib.figure.Figure at 0x10d4abac8>"
      ]
     },
     "metadata": {},
     "output_type": "display_data"
    }
   ],
   "source": [
    "\"\"\"\n",
    "Figure out how long does it take one to re-order his or her groceries.\n",
    "\"\"\"\n",
    "\n",
    "sns.countplot(orders['days_since_prior_order'],data=orders,color='purple')\n",
    "plt.xticks(rotation=90)\n",
    "plt.show()"
   ]
  },
  {
   "cell_type": "markdown",
   "metadata": {},
   "source": [
    "The plot above shows that most people re-order their items after every 7 days and 30 days. The interquartile range for this data is 4-15 and at first we might think that anything above that might be consider not so relevant but after looking that most people re-order after 30 days, this might have to be kept.\n",
    "\n"
   ]
  },
  {
   "cell_type": "code",
   "execution_count": 32,
   "metadata": {},
   "outputs": [
    {
     "data": {
      "text/plain": [
       "<matplotlib.axes._subplots.AxesSubplot at 0x111266b70>"
      ]
     },
     "execution_count": 32,
     "metadata": {},
     "output_type": "execute_result"
    },
    {
     "data": {
      "image/png": "[encoded data removed]",
      "text/plain": [
       "<matplotlib.figure.Figure at 0x10d575cf8>"
      ]
     },
     "metadata": {},
     "output_type": "display_data"
    }
   ],
   "source": [
    "#find out at which time of the day do people usually shop\n",
    "sns.countplot(x='order_hour_of_day',data=orders)"
   ]
  },
  {
   "cell_type": "markdown",
   "metadata": {},
   "source": [
    "We can see that most people order their groceries between 9am until 4pm,which is during working hours."
   ]
  },
  {
   "cell_type": "code",
   "execution_count": 33,
   "metadata": {},
   "outputs": [
    {
     "data": {
      "image/png": "[encoded data removed]",
      "text/plain": [
       "<matplotlib.figure.Figure at 0x10d57b400>"
      ]
     },
     "metadata": {},
     "output_type": "display_data"
    }
   ],
   "source": [
    "#Figure out days that have the most number of orders and at what time\n",
    "week_vs_hours = orders.groupby(['order_dow','order_hour_of_day'])['user_id'].aggregate(\"count\").reset_index()\n",
    "\n",
    "\n",
    "#use heatmap to indicate at which day and at which hour is the most popular\n",
    "week_vs_hours = week_vs_hours.pivot('order_dow','order_hour_of_day','user_id')\n",
    "plt.figure(figsize=(10,5))\n",
    "sns.heatmap(week_vs_hours)\n",
    "plt.title('Day of week vs Hours in a day order amount')\n",
    "plt.show()\n"
   ]
  },
  {
   "cell_type": "markdown",
   "metadata": {},
   "source": [
    "The heatmap above indicates that most orders occur around 9-10am on Monday and around 2-4pm on Sunday. Least orders happen around 2-4am, which is the time when people sleep."
   ]
  },
  {
   "cell_type": "code",
   "execution_count": 34,
   "metadata": {},
   "outputs": [
    {
     "data": {
      "text/html": [
       "<div>\n",
       "<style>\n",
       "    .dataframe thead tr:only-child th {\n",
       "        text-align: right;\n",
       "    }\n",
       "\n",
       "    .dataframe thead th {\n",
       "        text-align: left;\n",
       "    }\n",
       "\n",
       "    .dataframe tbody tr th {\n",
       "        vertical-align: top;\n",
       "    }\n",
       "</style>\n",
       "<table border=\"1\" class=\"dataframe\">\n",
       "  <thead>\n",
       "    <tr style=\"text-align: right;\">\n",
       "      <th></th>\n",
       "      <th>order_id</th>\n",
       "      <th>product_id</th>\n",
       "      <th>add_to_cart_order</th>\n",
       "      <th>reordered</th>\n",
       "      <th>product_name</th>\n",
       "      <th>aisle_id</th>\n",
       "      <th>department_id</th>\n",
       "    </tr>\n",
       "  </thead>\n",
       "  <tbody>\n",
       "    <tr>\n",
       "      <th>0</th>\n",
       "      <td>2</td>\n",
       "      <td>33120</td>\n",
       "      <td>1</td>\n",
       "      <td>1</td>\n",
       "      <td>Organic Egg Whites</td>\n",
       "      <td>86</td>\n",
       "      <td>16</td>\n",
       "    </tr>\n",
       "    <tr>\n",
       "      <th>1</th>\n",
       "      <td>2</td>\n",
       "      <td>28985</td>\n",
       "      <td>2</td>\n",
       "      <td>1</td>\n",
       "      <td>Michigan Organic Kale</td>\n",
       "      <td>83</td>\n",
       "      <td>4</td>\n",
       "    </tr>\n",
       "    <tr>\n",
       "      <th>2</th>\n",
       "      <td>2</td>\n",
       "      <td>9327</td>\n",
       "      <td>3</td>\n",
       "      <td>0</td>\n",
       "      <td>Garlic Powder</td>\n",
       "      <td>104</td>\n",
       "      <td>13</td>\n",
       "    </tr>\n",
       "    <tr>\n",
       "      <th>3</th>\n",
       "      <td>2</td>\n",
       "      <td>45918</td>\n",
       "      <td>4</td>\n",
       "      <td>1</td>\n",
       "      <td>Coconut Butter</td>\n",
       "      <td>19</td>\n",
       "      <td>13</td>\n",
       "    </tr>\n",
       "    <tr>\n",
       "      <th>4</th>\n",
       "      <td>2</td>\n",
       "      <td>30035</td>\n",
       "      <td>5</td>\n",
       "      <td>0</td>\n",
       "      <td>Natural Sweetener</td>\n",
       "      <td>17</td>\n",
       "      <td>13</td>\n",
       "    </tr>\n",
       "  </tbody>\n",
       "</table>\n",
       "</div>"
      ],
      "text/plain": [
       "   order_id  product_id  add_to_cart_order  reordered           product_name  \\\n",
       "0         2       33120                  1          1     Organic Egg Whites   \n",
       "1         2       28985                  2          1  Michigan Organic Kale   \n",
       "2         2        9327                  3          0          Garlic Powder   \n",
       "3         2       45918                  4          1         Coconut Butter   \n",
       "4         2       30035                  5          0      Natural Sweetener   \n",
       "\n",
       "   aisle_id  department_id  \n",
       "0        86             16  \n",
       "1        83              4  \n",
       "2       104             13  \n",
       "3        19             13  \n",
       "4        17             13  "
      ]
     },
     "execution_count": 34,
     "metadata": {},
     "output_type": "execute_result"
    }
   ],
   "source": [
    "products_ordered = pd.merge(prior_order,products,on='product_id',how='left')\n",
    "products_ordered.head()"
   ]
  },
  {
   "cell_type": "code",
   "execution_count": 35,
   "metadata": {
    "collapsed": true
   },
   "outputs": [],
   "source": [
    "#find out which product is the most popular item\n",
    "popular_products = products_ordered['product_name'].value_counts()"
   ]
  },
  {
   "cell_type": "code",
   "execution_count": 36,
   "metadata": {},
   "outputs": [
    {
     "data": {
      "text/html": [
       "<div>\n",
       "<style>\n",
       "    .dataframe thead tr:only-child th {\n",
       "        text-align: right;\n",
       "    }\n",
       "\n",
       "    .dataframe thead th {\n",
       "        text-align: left;\n",
       "    }\n",
       "\n",
       "    .dataframe tbody tr th {\n",
       "        vertical-align: top;\n",
       "    }\n",
       "</style>\n",
       "<table border=\"1\" class=\"dataframe\">\n",
       "  <thead>\n",
       "    <tr style=\"text-align: right;\">\n",
       "      <th></th>\n",
       "      <th>product_name</th>\n",
       "      <th>number_of_orders</th>\n",
       "    </tr>\n",
       "  </thead>\n",
       "  <tbody>\n",
       "    <tr>\n",
       "      <th>0</th>\n",
       "      <td>Banana</td>\n",
       "      <td>472565</td>\n",
       "    </tr>\n",
       "    <tr>\n",
       "      <th>1</th>\n",
       "      <td>Bag of Organic Bananas</td>\n",
       "      <td>379450</td>\n",
       "    </tr>\n",
       "    <tr>\n",
       "      <th>2</th>\n",
       "      <td>Organic Strawberries</td>\n",
       "      <td>264683</td>\n",
       "    </tr>\n",
       "    <tr>\n",
       "      <th>3</th>\n",
       "      <td>Organic Baby Spinach</td>\n",
       "      <td>241921</td>\n",
       "    </tr>\n",
       "    <tr>\n",
       "      <th>4</th>\n",
       "      <td>Organic Hass Avocado</td>\n",
       "      <td>213584</td>\n",
       "    </tr>\n",
       "    <tr>\n",
       "      <th>5</th>\n",
       "      <td>Organic Avocado</td>\n",
       "      <td>176815</td>\n",
       "    </tr>\n",
       "    <tr>\n",
       "      <th>6</th>\n",
       "      <td>Large Lemon</td>\n",
       "      <td>152657</td>\n",
       "    </tr>\n",
       "    <tr>\n",
       "      <th>7</th>\n",
       "      <td>Strawberries</td>\n",
       "      <td>142951</td>\n",
       "    </tr>\n",
       "    <tr>\n",
       "      <th>8</th>\n",
       "      <td>Limes</td>\n",
       "      <td>140627</td>\n",
       "    </tr>\n",
       "    <tr>\n",
       "      <th>9</th>\n",
       "      <td>Organic Whole Milk</td>\n",
       "      <td>137905</td>\n",
       "    </tr>\n",
       "    <tr>\n",
       "      <th>10</th>\n",
       "      <td>Organic Raspberries</td>\n",
       "      <td>137057</td>\n",
       "    </tr>\n",
       "    <tr>\n",
       "      <th>11</th>\n",
       "      <td>Organic Yellow Onion</td>\n",
       "      <td>113426</td>\n",
       "    </tr>\n",
       "    <tr>\n",
       "      <th>12</th>\n",
       "      <td>Organic Garlic</td>\n",
       "      <td>109778</td>\n",
       "    </tr>\n",
       "    <tr>\n",
       "      <th>13</th>\n",
       "      <td>Organic Zucchini</td>\n",
       "      <td>104823</td>\n",
       "    </tr>\n",
       "    <tr>\n",
       "      <th>14</th>\n",
       "      <td>Organic Blueberries</td>\n",
       "      <td>100060</td>\n",
       "    </tr>\n",
       "    <tr>\n",
       "      <th>15</th>\n",
       "      <td>Cucumber Kirby</td>\n",
       "      <td>97315</td>\n",
       "    </tr>\n",
       "    <tr>\n",
       "      <th>16</th>\n",
       "      <td>Organic Fuji Apple</td>\n",
       "      <td>89632</td>\n",
       "    </tr>\n",
       "    <tr>\n",
       "      <th>17</th>\n",
       "      <td>Organic Lemon</td>\n",
       "      <td>87746</td>\n",
       "    </tr>\n",
       "    <tr>\n",
       "      <th>18</th>\n",
       "      <td>Apple Honeycrisp Organic</td>\n",
       "      <td>85020</td>\n",
       "    </tr>\n",
       "    <tr>\n",
       "      <th>19</th>\n",
       "      <td>Organic Grape Tomatoes</td>\n",
       "      <td>84255</td>\n",
       "    </tr>\n",
       "  </tbody>\n",
       "</table>\n",
       "</div>"
      ],
      "text/plain": [
       "                product_name  number_of_orders\n",
       "0                     Banana            472565\n",
       "1     Bag of Organic Bananas            379450\n",
       "2       Organic Strawberries            264683\n",
       "3       Organic Baby Spinach            241921\n",
       "4       Organic Hass Avocado            213584\n",
       "5            Organic Avocado            176815\n",
       "6                Large Lemon            152657\n",
       "7               Strawberries            142951\n",
       "8                      Limes            140627\n",
       "9         Organic Whole Milk            137905\n",
       "10       Organic Raspberries            137057\n",
       "11      Organic Yellow Onion            113426\n",
       "12            Organic Garlic            109778\n",
       "13          Organic Zucchini            104823\n",
       "14       Organic Blueberries            100060\n",
       "15            Cucumber Kirby             97315\n",
       "16        Organic Fuji Apple             89632\n",
       "17             Organic Lemon             87746\n",
       "18  Apple Honeycrisp Organic             85020\n",
       "19    Organic Grape Tomatoes             84255"
      ]
     },
     "execution_count": 36,
     "metadata": {},
     "output_type": "execute_result"
    }
   ],
   "source": [
    "top20_products = pd.DataFrame(popular_products.sort_values(ascending=False).head(20).reset_index())\n",
    "top20_products.columns = ['product_name','number_of_orders']\n",
    "top20_products"
   ]
  },
  {
   "cell_type": "code",
   "execution_count": 37,
   "metadata": {},
   "outputs": [
    {
     "data": {
      "text/plain": [
       "<matplotlib.text.Text at 0x10e2cacc0>"
      ]
     },
     "execution_count": 37,
     "metadata": {},
     "output_type": "execute_result"
    },
    {
     "data": {
      "image/png": "[encoded data removed]",
      "text/plain": [
       "<matplotlib.figure.Figure at 0x10f35c978>"
      ]
     },
     "metadata": {},
     "output_type": "display_data"
    }
   ],
   "source": [
    "sns.barplot(x = 'product_name',y='number_of_orders', data = top20_products,color = 'green')\n",
    "plt.xticks(rotation=90,fontsize = 15)\n",
    "plt.xlabel('product name',fontsize = 20)\n",
    "plt.ylabel('number of orders',fontsize = 20)\n",
    "plt.title('Top 20 Most popular products',fontsize = 20)"
   ]
  },
  {
   "cell_type": "markdown",
   "metadata": {},
   "source": [
    "We can see that the top 20 items include mostly fruits and vegetables, with banana being the most popular item being ordered, followed strawberries."
   ]
  },
  {
   "cell_type": "code",
   "execution_count": 38,
   "metadata": {},
   "outputs": [
    {
     "data": {
      "text/plain": [
       "product_name\n",
       "Raw Veggie Wrappers                         0.941176\n",
       "Serenity Ultimate Extrema Overnight Pads    0.931034\n",
       "Orange Energy Shots                         0.923077\n",
       "Chocolate Love Bar                          0.920792\n",
       "Soy Powder Infant Formula                   0.914286\n",
       "Simply Sleep Nighttime Sleep Aid            0.911111\n",
       "Energy Shot, Grape Flavor                   0.909091\n",
       "Sparking Water                              0.900000\n",
       "Maca Buttercups                             0.900000\n",
       "Russian River Valley Reserve Pinot Noir     0.900000\n",
       "Bars Peanut Butter                          0.895522\n",
       "Soy Crisps Lightly Salted                   0.893939\n",
       "Jet Fuel Dark Roast Whole Bean Coffee       0.892857\n",
       "High Gravity Lager                          0.891892\n",
       "Benchbreak Chardonnay                       0.891892\n",
       "Buttery Spray                               0.888889\n",
       "Almond Orgeat Syrup                         0.888889\n",
       "Organic Blueberry B Mega                    0.885417\n",
       "Beer Can                                    0.884615\n",
       "Amazake Almond Shake                        0.880000\n",
       "Name: reordered, dtype: float64"
      ]
     },
     "execution_count": 38,
     "metadata": {},
     "output_type": "execute_result"
    }
   ],
   "source": [
    "#find out which products have high reordered rate\n",
    "reordered = products_ordered.groupby('product_name')['reordered'].mean().sort_values(ascending=False)\n",
    "reordered = reordered.head(20)\n",
    "reordered"
   ]
  },
  {
   "cell_type": "code",
   "execution_count": 39,
   "metadata": {},
   "outputs": [
    {
     "data": {
      "text/plain": [
       "<matplotlib.text.Text at 0x1112b77b8>"
      ]
     },
     "execution_count": 39,
     "metadata": {},
     "output_type": "execute_result"
    },
    {
     "data": {
      "image/png": "[encoded data removed]",
      "text/plain": [
       "<matplotlib.figure.Figure at 0x10e217358>"
      ]
     },
     "metadata": {},
     "output_type": "display_data"
    }
   ],
   "source": [
    "sns.barplot(reordered.index,reordered.values,color='pink')\n",
    "plt.xticks(rotation='vertical',fontsize = 15)\n",
    "plt.ylabel('Reorder Rate',fontsize = 20)\n",
    "plt.xlabel('Name of product',fontsize = 20)\n",
    "plt.title('Top 20 items most reordered',fontsize = 20)"
   ]
  },
  {
   "cell_type": "markdown",
   "metadata": {},
   "source": [
    "we can see that from the above graph, the 20 most reodered items. Surprisingly, vegetables and fruits do not make it into the top 20 list."
   ]
  },
  {
   "cell_type": "code",
   "execution_count": 40,
   "metadata": {
    "collapsed": true
   },
   "outputs": [],
   "source": [
    "department_merged_products = pd.merge(products_ordered,departments,how='left',on='department_id')"
   ]
  },
  {
   "cell_type": "code",
   "execution_count": 41,
   "metadata": {},
   "outputs": [
    {
     "data": {
      "text/html": [
       "<div>\n",
       "<style>\n",
       "    .dataframe thead tr:only-child th {\n",
       "        text-align: right;\n",
       "    }\n",
       "\n",
       "    .dataframe thead th {\n",
       "        text-align: left;\n",
       "    }\n",
       "\n",
       "    .dataframe tbody tr th {\n",
       "        vertical-align: top;\n",
       "    }\n",
       "</style>\n",
       "<table border=\"1\" class=\"dataframe\">\n",
       "  <thead>\n",
       "    <tr style=\"text-align: right;\">\n",
       "      <th></th>\n",
       "      <th>order_id</th>\n",
       "      <th>product_id</th>\n",
       "      <th>add_to_cart_order</th>\n",
       "      <th>reordered</th>\n",
       "      <th>product_name</th>\n",
       "      <th>aisle_id</th>\n",
       "      <th>department_id</th>\n",
       "      <th>department</th>\n",
       "    </tr>\n",
       "  </thead>\n",
       "  <tbody>\n",
       "    <tr>\n",
       "      <th>0</th>\n",
       "      <td>2</td>\n",
       "      <td>33120</td>\n",
       "      <td>1</td>\n",
       "      <td>1</td>\n",
       "      <td>Organic Egg Whites</td>\n",
       "      <td>86</td>\n",
       "      <td>16</td>\n",
       "      <td>dairy eggs</td>\n",
       "    </tr>\n",
       "    <tr>\n",
       "      <th>1</th>\n",
       "      <td>2</td>\n",
       "      <td>28985</td>\n",
       "      <td>2</td>\n",
       "      <td>1</td>\n",
       "      <td>Michigan Organic Kale</td>\n",
       "      <td>83</td>\n",
       "      <td>4</td>\n",
       "      <td>produce</td>\n",
       "    </tr>\n",
       "    <tr>\n",
       "      <th>2</th>\n",
       "      <td>2</td>\n",
       "      <td>9327</td>\n",
       "      <td>3</td>\n",
       "      <td>0</td>\n",
       "      <td>Garlic Powder</td>\n",
       "      <td>104</td>\n",
       "      <td>13</td>\n",
       "      <td>pantry</td>\n",
       "    </tr>\n",
       "    <tr>\n",
       "      <th>3</th>\n",
       "      <td>2</td>\n",
       "      <td>45918</td>\n",
       "      <td>4</td>\n",
       "      <td>1</td>\n",
       "      <td>Coconut Butter</td>\n",
       "      <td>19</td>\n",
       "      <td>13</td>\n",
       "      <td>pantry</td>\n",
       "    </tr>\n",
       "    <tr>\n",
       "      <th>4</th>\n",
       "      <td>2</td>\n",
       "      <td>30035</td>\n",
       "      <td>5</td>\n",
       "      <td>0</td>\n",
       "      <td>Natural Sweetener</td>\n",
       "      <td>17</td>\n",
       "      <td>13</td>\n",
       "      <td>pantry</td>\n",
       "    </tr>\n",
       "  </tbody>\n",
       "</table>\n",
       "</div>"
      ],
      "text/plain": [
       "   order_id  product_id  add_to_cart_order  reordered           product_name  \\\n",
       "0         2       33120                  1          1     Organic Egg Whites   \n",
       "1         2       28985                  2          1  Michigan Organic Kale   \n",
       "2         2        9327                  3          0          Garlic Powder   \n",
       "3         2       45918                  4          1         Coconut Butter   \n",
       "4         2       30035                  5          0      Natural Sweetener   \n",
       "\n",
       "   aisle_id  department_id  department  \n",
       "0        86             16  dairy eggs  \n",
       "1        83              4     produce  \n",
       "2       104             13      pantry  \n",
       "3        19             13      pantry  \n",
       "4        17             13      pantry  "
      ]
     },
     "execution_count": 41,
     "metadata": {},
     "output_type": "execute_result"
    }
   ],
   "source": [
    "department_merged_products.head()"
   ]
  },
  {
   "cell_type": "code",
   "execution_count": 42,
   "metadata": {},
   "outputs": [
    {
     "data": {
      "text/plain": [
       "produce            9479291\n",
       "dairy eggs         5414016\n",
       "snacks             2887550\n",
       "beverages          2690129\n",
       "frozen             2236432\n",
       "pantry             1875577\n",
       "bakery             1176787\n",
       "canned goods       1068058\n",
       "deli               1051249\n",
       "dry goods pasta     866627\n",
       "household           738666\n",
       "breakfast           709569\n",
       "meat seafood        708931\n",
       "personal care       447123\n",
       "babies              423802\n",
       "international       269253\n",
       "alcohol             153696\n",
       "pets                 97724\n",
       "missing              69145\n",
       "other                36291\n",
       "Name: department, dtype: int64"
      ]
     },
     "execution_count": 42,
     "metadata": {},
     "output_type": "execute_result"
    }
   ],
   "source": [
    "#figure out what the top 20 aisles are\n",
    "a = department_merged_products['department'].value_counts()\n",
    "a_20 = a.sort_values(ascending=False)[0:20]\n",
    "a_20"
   ]
  },
  {
   "cell_type": "code",
   "execution_count": 43,
   "metadata": {},
   "outputs": [
    {
     "data": {
      "text/plain": [
       "(array([ 0,  1,  2,  3,  4,  5,  6,  7,  8,  9, 10, 11, 12, 13, 14, 15, 16,\n",
       "        17, 18, 19]), <a list of 20 Text xticklabel objects>)"
      ]
     },
     "execution_count": 43,
     "metadata": {},
     "output_type": "execute_result"
    },
    {
     "data": {
      "image/png": "[encoded data removed]",
      "text/plain": [
       "<matplotlib.figure.Figure at 0x10f3109b0>"
      ]
     },
     "metadata": {},
     "output_type": "display_data"
    }
   ],
   "source": [
    "sns.barplot(a_20.index,a_20.values,color='green')\n",
    "plt.xlabel('departments')\n",
    "plt.xticks(rotation='vertical')"
   ]
  },
  {
   "cell_type": "markdown",
   "metadata": {},
   "source": [
    "The top aisles that are most purchased by customers include: produce, dairy eggs,snacks,beverages,etc."
   ]
  },
  {
   "cell_type": "code",
   "execution_count": 44,
   "metadata": {
    "collapsed": true
   },
   "outputs": [],
   "source": [
    "\"\"\"merge the two data tables: orders and prior order to figure out the correlation \n",
    "between the number of items per order and how long it takes one to reorder afterwards.\n",
    "By doing so, we can figure out if people who order more items take longer time to reorder?\n",
    "\"\"\"\n",
    "\n",
    "#we only want 'prior' order here\n",
    "orders_and_prior = pd.merge(orders,prior_order,how='right',on='order_id')"
   ]
  },
  {
   "cell_type": "code",
   "execution_count": 45,
   "metadata": {},
   "outputs": [
    {
     "data": {
      "text/html": [
       "<div>\n",
       "<style>\n",
       "    .dataframe thead tr:only-child th {\n",
       "        text-align: right;\n",
       "    }\n",
       "\n",
       "    .dataframe thead th {\n",
       "        text-align: left;\n",
       "    }\n",
       "\n",
       "    .dataframe tbody tr th {\n",
       "        vertical-align: top;\n",
       "    }\n",
       "</style>\n",
       "<table border=\"1\" class=\"dataframe\">\n",
       "  <thead>\n",
       "    <tr style=\"text-align: right;\">\n",
       "      <th></th>\n",
       "      <th>order_id</th>\n",
       "      <th>user_id</th>\n",
       "      <th>eval_set</th>\n",
       "      <th>order_number</th>\n",
       "      <th>order_dow</th>\n",
       "      <th>order_hour_of_day</th>\n",
       "      <th>days_since_prior_order</th>\n",
       "      <th>average_order_hour_of_day</th>\n",
       "      <th>product_id</th>\n",
       "      <th>add_to_cart_order</th>\n",
       "      <th>reordered</th>\n",
       "    </tr>\n",
       "  </thead>\n",
       "  <tbody>\n",
       "    <tr>\n",
       "      <th>0</th>\n",
       "      <td>2539329</td>\n",
       "      <td>1</td>\n",
       "      <td>prior</td>\n",
       "      <td>1</td>\n",
       "      <td>2</td>\n",
       "      <td>8</td>\n",
       "      <td>NaN</td>\n",
       "      <td>10.090909</td>\n",
       "      <td>196</td>\n",
       "      <td>1</td>\n",
       "      <td>0</td>\n",
       "    </tr>\n",
       "    <tr>\n",
       "      <th>1</th>\n",
       "      <td>2539329</td>\n",
       "      <td>1</td>\n",
       "      <td>prior</td>\n",
       "      <td>1</td>\n",
       "      <td>2</td>\n",
       "      <td>8</td>\n",
       "      <td>NaN</td>\n",
       "      <td>10.090909</td>\n",
       "      <td>14084</td>\n",
       "      <td>2</td>\n",
       "      <td>0</td>\n",
       "    </tr>\n",
       "    <tr>\n",
       "      <th>2</th>\n",
       "      <td>2539329</td>\n",
       "      <td>1</td>\n",
       "      <td>prior</td>\n",
       "      <td>1</td>\n",
       "      <td>2</td>\n",
       "      <td>8</td>\n",
       "      <td>NaN</td>\n",
       "      <td>10.090909</td>\n",
       "      <td>12427</td>\n",
       "      <td>3</td>\n",
       "      <td>0</td>\n",
       "    </tr>\n",
       "    <tr>\n",
       "      <th>3</th>\n",
       "      <td>2539329</td>\n",
       "      <td>1</td>\n",
       "      <td>prior</td>\n",
       "      <td>1</td>\n",
       "      <td>2</td>\n",
       "      <td>8</td>\n",
       "      <td>NaN</td>\n",
       "      <td>10.090909</td>\n",
       "      <td>26088</td>\n",
       "      <td>4</td>\n",
       "      <td>0</td>\n",
       "    </tr>\n",
       "    <tr>\n",
       "      <th>4</th>\n",
       "      <td>2539329</td>\n",
       "      <td>1</td>\n",
       "      <td>prior</td>\n",
       "      <td>1</td>\n",
       "      <td>2</td>\n",
       "      <td>8</td>\n",
       "      <td>NaN</td>\n",
       "      <td>10.090909</td>\n",
       "      <td>26405</td>\n",
       "      <td>5</td>\n",
       "      <td>0</td>\n",
       "    </tr>\n",
       "  </tbody>\n",
       "</table>\n",
       "</div>"
      ],
      "text/plain": [
       "   order_id  user_id eval_set  order_number  order_dow  order_hour_of_day  \\\n",
       "0   2539329        1    prior             1          2                  8   \n",
       "1   2539329        1    prior             1          2                  8   \n",
       "2   2539329        1    prior             1          2                  8   \n",
       "3   2539329        1    prior             1          2                  8   \n",
       "4   2539329        1    prior             1          2                  8   \n",
       "\n",
       "   days_since_prior_order  average_order_hour_of_day  product_id  \\\n",
       "0                     NaN                  10.090909         196   \n",
       "1                     NaN                  10.090909       14084   \n",
       "2                     NaN                  10.090909       12427   \n",
       "3                     NaN                  10.090909       26088   \n",
       "4                     NaN                  10.090909       26405   \n",
       "\n",
       "   add_to_cart_order  reordered  \n",
       "0                  1          0  \n",
       "1                  2          0  \n",
       "2                  3          0  \n",
       "3                  4          0  \n",
       "4                  5          0  "
      ]
     },
     "execution_count": 45,
     "metadata": {},
     "output_type": "execute_result"
    }
   ],
   "source": [
    "orders_and_prior.head()"
   ]
  },
  {
   "cell_type": "code",
   "execution_count": 46,
   "metadata": {},
   "outputs": [
    {
     "data": {
      "text/plain": [
       "order_id                           0\n",
       "user_id                            0\n",
       "eval_set                           0\n",
       "order_number                       0\n",
       "order_dow                          0\n",
       "order_hour_of_day                  0\n",
       "days_since_prior_order       2078068\n",
       "average_order_hour_of_day          0\n",
       "product_id                         0\n",
       "add_to_cart_order                  0\n",
       "reordered                          0\n",
       "dtype: int64"
      ]
     },
     "execution_count": 46,
     "metadata": {},
     "output_type": "execute_result"
    }
   ],
   "source": [
    "orders_and_prior.isnull().sum()"
   ]
  },
  {
   "cell_type": "code",
   "execution_count": 47,
   "metadata": {
    "collapsed": true
   },
   "outputs": [],
   "source": [
    "k1 = orders_and_prior.groupby('order_id')['add_to_cart_order'].max().reset_index()\n",
    "k2 = orders_and_prior.groupby('order_id')['days_since_prior_order'].mean().reset_index()"
   ]
  },
  {
   "cell_type": "code",
   "execution_count": 48,
   "metadata": {
    "collapsed": true
   },
   "outputs": [],
   "source": [
    "k3 = pd.merge(k1,k2,on='order_id')"
   ]
  },
  {
   "cell_type": "code",
   "execution_count": 49,
   "metadata": {},
   "outputs": [
    {
     "data": {
      "text/html": [
       "<div>\n",
       "<style>\n",
       "    .dataframe thead tr:only-child th {\n",
       "        text-align: right;\n",
       "    }\n",
       "\n",
       "    .dataframe thead th {\n",
       "        text-align: left;\n",
       "    }\n",
       "\n",
       "    .dataframe tbody tr th {\n",
       "        vertical-align: top;\n",
       "    }\n",
       "</style>\n",
       "<table border=\"1\" class=\"dataframe\">\n",
       "  <thead>\n",
       "    <tr style=\"text-align: right;\">\n",
       "      <th></th>\n",
       "      <th>order_id</th>\n",
       "      <th>add_to_cart_order</th>\n",
       "      <th>days_since_prior_order</th>\n",
       "    </tr>\n",
       "  </thead>\n",
       "  <tbody>\n",
       "    <tr>\n",
       "      <th>0</th>\n",
       "      <td>2</td>\n",
       "      <td>9</td>\n",
       "      <td>8.0</td>\n",
       "    </tr>\n",
       "    <tr>\n",
       "      <th>1</th>\n",
       "      <td>3</td>\n",
       "      <td>8</td>\n",
       "      <td>12.0</td>\n",
       "    </tr>\n",
       "    <tr>\n",
       "      <th>2</th>\n",
       "      <td>4</td>\n",
       "      <td>13</td>\n",
       "      <td>7.0</td>\n",
       "    </tr>\n",
       "    <tr>\n",
       "      <th>3</th>\n",
       "      <td>5</td>\n",
       "      <td>26</td>\n",
       "      <td>9.0</td>\n",
       "    </tr>\n",
       "    <tr>\n",
       "      <th>4</th>\n",
       "      <td>6</td>\n",
       "      <td>3</td>\n",
       "      <td>30.0</td>\n",
       "    </tr>\n",
       "  </tbody>\n",
       "</table>\n",
       "</div>"
      ],
      "text/plain": [
       "   order_id  add_to_cart_order  days_since_prior_order\n",
       "0         2                  9                     8.0\n",
       "1         3                  8                    12.0\n",
       "2         4                 13                     7.0\n",
       "3         5                 26                     9.0\n",
       "4         6                  3                    30.0"
      ]
     },
     "execution_count": 49,
     "metadata": {},
     "output_type": "execute_result"
    }
   ],
   "source": [
    "k3.head()"
   ]
  },
  {
   "cell_type": "code",
   "execution_count": 50,
   "metadata": {},
   "outputs": [
    {
     "data": {
      "text/html": [
       "<div>\n",
       "<style>\n",
       "    .dataframe thead tr:only-child th {\n",
       "        text-align: right;\n",
       "    }\n",
       "\n",
       "    .dataframe thead th {\n",
       "        text-align: left;\n",
       "    }\n",
       "\n",
       "    .dataframe tbody tr th {\n",
       "        vertical-align: top;\n",
       "    }\n",
       "</style>\n",
       "<table border=\"1\" class=\"dataframe\">\n",
       "  <thead>\n",
       "    <tr style=\"text-align: right;\">\n",
       "      <th></th>\n",
       "      <th>order_id</th>\n",
       "      <th>add_to_cart_order</th>\n",
       "      <th>days_since_prior_order</th>\n",
       "    </tr>\n",
       "  </thead>\n",
       "  <tbody>\n",
       "    <tr>\n",
       "      <th>0</th>\n",
       "      <td>2</td>\n",
       "      <td>9</td>\n",
       "      <td>8.0</td>\n",
       "    </tr>\n",
       "    <tr>\n",
       "      <th>1</th>\n",
       "      <td>3</td>\n",
       "      <td>8</td>\n",
       "      <td>12.0</td>\n",
       "    </tr>\n",
       "    <tr>\n",
       "      <th>2</th>\n",
       "      <td>4</td>\n",
       "      <td>13</td>\n",
       "      <td>7.0</td>\n",
       "    </tr>\n",
       "    <tr>\n",
       "      <th>3</th>\n",
       "      <td>5</td>\n",
       "      <td>26</td>\n",
       "      <td>9.0</td>\n",
       "    </tr>\n",
       "    <tr>\n",
       "      <th>4</th>\n",
       "      <td>6</td>\n",
       "      <td>3</td>\n",
       "      <td>30.0</td>\n",
       "    </tr>\n",
       "  </tbody>\n",
       "</table>\n",
       "</div>"
      ],
      "text/plain": [
       "   order_id  add_to_cart_order  days_since_prior_order\n",
       "0         2                  9                     8.0\n",
       "1         3                  8                    12.0\n",
       "2         4                 13                     7.0\n",
       "3         5                 26                     9.0\n",
       "4         6                  3                    30.0"
      ]
     },
     "execution_count": 50,
     "metadata": {},
     "output_type": "execute_result"
    }
   ],
   "source": [
    "k3.dropna().head()"
   ]
  },
  {
   "cell_type": "code",
   "execution_count": 51,
   "metadata": {},
   "outputs": [
    {
     "data": {
      "text/plain": [
       "<matplotlib.collections.PathCollection at 0x10ee43ba8>"
      ]
     },
     "execution_count": 51,
     "metadata": {},
     "output_type": "execute_result"
    },
    {
     "data": {
      "image/png": "[encoded data removed]",
      "text/plain": [
       "<matplotlib.figure.Figure at 0x10fb8b7b8>"
      ]
     },
     "metadata": {},
     "output_type": "display_data"
    }
   ],
   "source": [
    "plt.scatter(x='days_since_prior_order',y='add_to_cart_order',data=k3)"
   ]
  },
  {
   "cell_type": "markdown",
   "metadata": {},
   "source": [
    "Based on the graph above, it can be seen that there is no clear correlation between the number of days it takes someone to do grocery shopping and the number of distinct items purchased. "
   ]
  },
  {
   "cell_type": "code",
   "execution_count": 52,
   "metadata": {},
   "outputs": [
    {
     "data": {
      "text/html": [
       "<div>\n",
       "<style>\n",
       "    .dataframe thead tr:only-child th {\n",
       "        text-align: right;\n",
       "    }\n",
       "\n",
       "    .dataframe thead th {\n",
       "        text-align: left;\n",
       "    }\n",
       "\n",
       "    .dataframe tbody tr th {\n",
       "        vertical-align: top;\n",
       "    }\n",
       "</style>\n",
       "<table border=\"1\" class=\"dataframe\">\n",
       "  <thead>\n",
       "    <tr style=\"text-align: right;\">\n",
       "      <th></th>\n",
       "      <th>product_id</th>\n",
       "      <th>product_name</th>\n",
       "      <th>aisle_id</th>\n",
       "      <th>department_id</th>\n",
       "      <th>department</th>\n",
       "    </tr>\n",
       "  </thead>\n",
       "  <tbody>\n",
       "    <tr>\n",
       "      <th>0</th>\n",
       "      <td>1</td>\n",
       "      <td>Chocolate Sandwich Cookies</td>\n",
       "      <td>61</td>\n",
       "      <td>19</td>\n",
       "      <td>snacks</td>\n",
       "    </tr>\n",
       "    <tr>\n",
       "      <th>1</th>\n",
       "      <td>16</td>\n",
       "      <td>Mint Chocolate Flavored Syrup</td>\n",
       "      <td>103</td>\n",
       "      <td>19</td>\n",
       "      <td>snacks</td>\n",
       "    </tr>\n",
       "    <tr>\n",
       "      <th>2</th>\n",
       "      <td>25</td>\n",
       "      <td>Salted Caramel Lean Protein &amp; Fiber Bar</td>\n",
       "      <td>3</td>\n",
       "      <td>19</td>\n",
       "      <td>snacks</td>\n",
       "    </tr>\n",
       "    <tr>\n",
       "      <th>3</th>\n",
       "      <td>32</td>\n",
       "      <td>Nacho Cheese White Bean Chips</td>\n",
       "      <td>107</td>\n",
       "      <td>19</td>\n",
       "      <td>snacks</td>\n",
       "    </tr>\n",
       "    <tr>\n",
       "      <th>4</th>\n",
       "      <td>41</td>\n",
       "      <td>Organic Sourdough Einkorn Crackers Rosemary</td>\n",
       "      <td>78</td>\n",
       "      <td>19</td>\n",
       "      <td>snacks</td>\n",
       "    </tr>\n",
       "  </tbody>\n",
       "</table>\n",
       "</div>"
      ],
      "text/plain": [
       "   product_id                                 product_name  aisle_id  \\\n",
       "0           1                   Chocolate Sandwich Cookies        61   \n",
       "1          16                Mint Chocolate Flavored Syrup       103   \n",
       "2          25      Salted Caramel Lean Protein & Fiber Bar         3   \n",
       "3          32                Nacho Cheese White Bean Chips       107   \n",
       "4          41  Organic Sourdough Einkorn Crackers Rosemary        78   \n",
       "\n",
       "   department_id department  \n",
       "0             19     snacks  \n",
       "1             19     snacks  \n",
       "2             19     snacks  \n",
       "3             19     snacks  \n",
       "4             19     snacks  "
      ]
     },
     "execution_count": 52,
     "metadata": {},
     "output_type": "execute_result"
    }
   ],
   "source": [
    "\"\"\"\n",
    "Join Department and products table to see what products are under a certain department\n",
    "\n",
    "\"\"\"\n",
    "\n",
    "\n",
    "products_dept = pd.merge(products,departments,on='department_id', how='right')\n",
    "products_dept.head()"
   ]
  },
  {
   "cell_type": "code",
   "execution_count": 53,
   "metadata": {},
   "outputs": [
    {
     "data": {
      "text/html": [
       "<div>\n",
       "<style>\n",
       "    .dataframe thead tr:only-child th {\n",
       "        text-align: right;\n",
       "    }\n",
       "\n",
       "    .dataframe thead th {\n",
       "        text-align: left;\n",
       "    }\n",
       "\n",
       "    .dataframe tbody tr th {\n",
       "        vertical-align: top;\n",
       "    }\n",
       "</style>\n",
       "<table border=\"1\" class=\"dataframe\">\n",
       "  <thead>\n",
       "    <tr style=\"text-align: right;\">\n",
       "      <th></th>\n",
       "      <th>product_id</th>\n",
       "      <th>product_name</th>\n",
       "      <th>aisle_id</th>\n",
       "      <th>department_id</th>\n",
       "      <th>department</th>\n",
       "      <th>aisle</th>\n",
       "    </tr>\n",
       "  </thead>\n",
       "  <tbody>\n",
       "    <tr>\n",
       "      <th>0</th>\n",
       "      <td>1</td>\n",
       "      <td>Chocolate Sandwich Cookies</td>\n",
       "      <td>61</td>\n",
       "      <td>19</td>\n",
       "      <td>snacks</td>\n",
       "      <td>cookies cakes</td>\n",
       "    </tr>\n",
       "    <tr>\n",
       "      <th>1</th>\n",
       "      <td>78</td>\n",
       "      <td>Nutter Butter Cookie Bites Go-Pak</td>\n",
       "      <td>61</td>\n",
       "      <td>19</td>\n",
       "      <td>snacks</td>\n",
       "      <td>cookies cakes</td>\n",
       "    </tr>\n",
       "    <tr>\n",
       "      <th>2</th>\n",
       "      <td>102</td>\n",
       "      <td>Danish Butter Cookies</td>\n",
       "      <td>61</td>\n",
       "      <td>19</td>\n",
       "      <td>snacks</td>\n",
       "      <td>cookies cakes</td>\n",
       "    </tr>\n",
       "    <tr>\n",
       "      <th>3</th>\n",
       "      <td>172</td>\n",
       "      <td>Gluten Free All Natural Chocolate Chip Cookies</td>\n",
       "      <td>61</td>\n",
       "      <td>19</td>\n",
       "      <td>snacks</td>\n",
       "      <td>cookies cakes</td>\n",
       "    </tr>\n",
       "    <tr>\n",
       "      <th>4</th>\n",
       "      <td>285</td>\n",
       "      <td>Mini Nilla Wafers Munch Pack</td>\n",
       "      <td>61</td>\n",
       "      <td>19</td>\n",
       "      <td>snacks</td>\n",
       "      <td>cookies cakes</td>\n",
       "    </tr>\n",
       "  </tbody>\n",
       "</table>\n",
       "</div>"
      ],
      "text/plain": [
       "   product_id                                    product_name  aisle_id  \\\n",
       "0           1                      Chocolate Sandwich Cookies        61   \n",
       "1          78               Nutter Butter Cookie Bites Go-Pak        61   \n",
       "2         102                           Danish Butter Cookies        61   \n",
       "3         172  Gluten Free All Natural Chocolate Chip Cookies        61   \n",
       "4         285                    Mini Nilla Wafers Munch Pack        61   \n",
       "\n",
       "   department_id department          aisle  \n",
       "0             19     snacks  cookies cakes  \n",
       "1             19     snacks  cookies cakes  \n",
       "2             19     snacks  cookies cakes  \n",
       "3             19     snacks  cookies cakes  \n",
       "4             19     snacks  cookies cakes  "
      ]
     },
     "execution_count": 53,
     "metadata": {},
     "output_type": "execute_result"
    }
   ],
   "source": [
    "products_dept_aisle = pd.merge(products_dept,aisles, on = 'aisle_id',how='right')\n",
    "products_dept_aisle.head()"
   ]
  },
  {
   "cell_type": "code",
   "execution_count": 54,
   "metadata": {},
   "outputs": [
    {
     "data": {
      "text/html": [
       "<div>\n",
       "<style>\n",
       "    .dataframe thead tr:only-child th {\n",
       "        text-align: right;\n",
       "    }\n",
       "\n",
       "    .dataframe thead th {\n",
       "        text-align: left;\n",
       "    }\n",
       "\n",
       "    .dataframe tbody tr th {\n",
       "        vertical-align: top;\n",
       "    }\n",
       "</style>\n",
       "<table border=\"1\" class=\"dataframe\">\n",
       "  <thead>\n",
       "    <tr style=\"text-align: right;\">\n",
       "      <th></th>\n",
       "      <th></th>\n",
       "      <th>Number of Products</th>\n",
       "    </tr>\n",
       "    <tr>\n",
       "      <th>department</th>\n",
       "      <th>aisle</th>\n",
       "      <th></th>\n",
       "    </tr>\n",
       "  </thead>\n",
       "  <tbody>\n",
       "    <tr>\n",
       "      <th rowspan=\"5\" valign=\"top\">alcohol</th>\n",
       "      <th>beers coolers</th>\n",
       "      <td>385</td>\n",
       "    </tr>\n",
       "    <tr>\n",
       "      <th>red wines</th>\n",
       "      <td>232</td>\n",
       "    </tr>\n",
       "    <tr>\n",
       "      <th>specialty wines champagnes</th>\n",
       "      <td>95</td>\n",
       "    </tr>\n",
       "    <tr>\n",
       "      <th>spirits</th>\n",
       "      <td>195</td>\n",
       "    </tr>\n",
       "    <tr>\n",
       "      <th>white wines</th>\n",
       "      <td>147</td>\n",
       "    </tr>\n",
       "  </tbody>\n",
       "</table>\n",
       "</div>"
      ],
      "text/plain": [
       "                                       Number of Products\n",
       "department aisle                                         \n",
       "alcohol    beers coolers                              385\n",
       "           red wines                                  232\n",
       "           specialty wines champagnes                  95\n",
       "           spirits                                    195\n",
       "           white wines                                147"
      ]
     },
     "execution_count": 54,
     "metadata": {},
     "output_type": "execute_result"
    }
   ],
   "source": [
    "dept_aisle = pd.DataFrame(products_dept_aisle.groupby(['department','aisle'])['aisle_id'].count())\n",
    "dept_aisle.columns = ['Number of Products']\n",
    "dept_aisle.head()"
   ]
  },
  {
   "cell_type": "code",
   "execution_count": 55,
   "metadata": {},
   "outputs": [
    {
     "data": {
      "text/html": [
       "<div>\n",
       "<style>\n",
       "    .dataframe thead tr:only-child th {\n",
       "        text-align: right;\n",
       "    }\n",
       "\n",
       "    .dataframe thead th {\n",
       "        text-align: left;\n",
       "    }\n",
       "\n",
       "    .dataframe tbody tr th {\n",
       "        vertical-align: top;\n",
       "    }\n",
       "</style>\n",
       "<table border=\"1\" class=\"dataframe\">\n",
       "  <thead>\n",
       "    <tr style=\"text-align: right;\">\n",
       "      <th></th>\n",
       "      <th>product_id</th>\n",
       "      <th>product_name</th>\n",
       "      <th>aisle_id</th>\n",
       "      <th>department_id</th>\n",
       "      <th>department</th>\n",
       "      <th>order_id</th>\n",
       "      <th>user_id</th>\n",
       "      <th>eval_set</th>\n",
       "      <th>order_number</th>\n",
       "      <th>order_dow</th>\n",
       "      <th>order_hour_of_day</th>\n",
       "      <th>days_since_prior_order</th>\n",
       "      <th>average_order_hour_of_day</th>\n",
       "      <th>add_to_cart_order</th>\n",
       "      <th>reordered</th>\n",
       "    </tr>\n",
       "  </thead>\n",
       "  <tbody>\n",
       "    <tr>\n",
       "      <th>0</th>\n",
       "      <td>1</td>\n",
       "      <td>Chocolate Sandwich Cookies</td>\n",
       "      <td>61</td>\n",
       "      <td>19</td>\n",
       "      <td>snacks</td>\n",
       "      <td>3139998</td>\n",
       "      <td>138</td>\n",
       "      <td>prior</td>\n",
       "      <td>28</td>\n",
       "      <td>6</td>\n",
       "      <td>11</td>\n",
       "      <td>3.0</td>\n",
       "      <td>12.545455</td>\n",
       "      <td>5</td>\n",
       "      <td>0</td>\n",
       "    </tr>\n",
       "    <tr>\n",
       "      <th>1</th>\n",
       "      <td>1</td>\n",
       "      <td>Chocolate Sandwich Cookies</td>\n",
       "      <td>61</td>\n",
       "      <td>19</td>\n",
       "      <td>snacks</td>\n",
       "      <td>1977647</td>\n",
       "      <td>138</td>\n",
       "      <td>prior</td>\n",
       "      <td>30</td>\n",
       "      <td>6</td>\n",
       "      <td>17</td>\n",
       "      <td>20.0</td>\n",
       "      <td>12.545455</td>\n",
       "      <td>1</td>\n",
       "      <td>1</td>\n",
       "    </tr>\n",
       "    <tr>\n",
       "      <th>2</th>\n",
       "      <td>1</td>\n",
       "      <td>Chocolate Sandwich Cookies</td>\n",
       "      <td>61</td>\n",
       "      <td>19</td>\n",
       "      <td>snacks</td>\n",
       "      <td>389851</td>\n",
       "      <td>709</td>\n",
       "      <td>prior</td>\n",
       "      <td>2</td>\n",
       "      <td>0</td>\n",
       "      <td>21</td>\n",
       "      <td>6.0</td>\n",
       "      <td>19.833333</td>\n",
       "      <td>20</td>\n",
       "      <td>0</td>\n",
       "    </tr>\n",
       "    <tr>\n",
       "      <th>3</th>\n",
       "      <td>1</td>\n",
       "      <td>Chocolate Sandwich Cookies</td>\n",
       "      <td>61</td>\n",
       "      <td>19</td>\n",
       "      <td>snacks</td>\n",
       "      <td>652770</td>\n",
       "      <td>764</td>\n",
       "      <td>prior</td>\n",
       "      <td>1</td>\n",
       "      <td>3</td>\n",
       "      <td>13</td>\n",
       "      <td>NaN</td>\n",
       "      <td>12.500000</td>\n",
       "      <td>10</td>\n",
       "      <td>0</td>\n",
       "    </tr>\n",
       "    <tr>\n",
       "      <th>4</th>\n",
       "      <td>1</td>\n",
       "      <td>Chocolate Sandwich Cookies</td>\n",
       "      <td>61</td>\n",
       "      <td>19</td>\n",
       "      <td>snacks</td>\n",
       "      <td>1813452</td>\n",
       "      <td>764</td>\n",
       "      <td>prior</td>\n",
       "      <td>3</td>\n",
       "      <td>4</td>\n",
       "      <td>17</td>\n",
       "      <td>9.0</td>\n",
       "      <td>12.500000</td>\n",
       "      <td>11</td>\n",
       "      <td>1</td>\n",
       "    </tr>\n",
       "  </tbody>\n",
       "</table>\n",
       "</div>"
      ],
      "text/plain": [
       "   product_id                product_name  aisle_id  department_id department  \\\n",
       "0           1  Chocolate Sandwich Cookies        61             19     snacks   \n",
       "1           1  Chocolate Sandwich Cookies        61             19     snacks   \n",
       "2           1  Chocolate Sandwich Cookies        61             19     snacks   \n",
       "3           1  Chocolate Sandwich Cookies        61             19     snacks   \n",
       "4           1  Chocolate Sandwich Cookies        61             19     snacks   \n",
       "\n",
       "   order_id  user_id eval_set  order_number  order_dow  order_hour_of_day  \\\n",
       "0   3139998      138    prior            28          6                 11   \n",
       "1   1977647      138    prior            30          6                 17   \n",
       "2    389851      709    prior             2          0                 21   \n",
       "3    652770      764    prior             1          3                 13   \n",
       "4   1813452      764    prior             3          4                 17   \n",
       "\n",
       "   days_since_prior_order  average_order_hour_of_day  add_to_cart_order  \\\n",
       "0                     3.0                  12.545455                  5   \n",
       "1                    20.0                  12.545455                  1   \n",
       "2                     6.0                  19.833333                 20   \n",
       "3                     NaN                  12.500000                 10   \n",
       "4                     9.0                  12.500000                 11   \n",
       "\n",
       "   reordered  \n",
       "0          0  \n",
       "1          1  \n",
       "2          0  \n",
       "3          0  \n",
       "4          1  "
      ]
     },
     "execution_count": 55,
     "metadata": {},
     "output_type": "execute_result"
    }
   ],
   "source": [
    "orders_products = pd.merge(products_dept,orders_and_prior,on='product_id',how='right')\n",
    "orders_products.head()"
   ]
  },
  {
   "cell_type": "code",
   "execution_count": 56,
   "metadata": {
    "collapsed": true
   },
   "outputs": [],
   "source": [
    "orders_products.reset_index(inplace=True)"
   ]
  },
  {
   "cell_type": "code",
   "execution_count": 57,
   "metadata": {},
   "outputs": [
    {
     "data": {
      "text/plain": [
       "index                              0\n",
       "product_id                         0\n",
       "product_name                       0\n",
       "aisle_id                           0\n",
       "department_id                      0\n",
       "department                         0\n",
       "order_id                           0\n",
       "user_id                            0\n",
       "eval_set                           0\n",
       "order_number                       0\n",
       "order_dow                          0\n",
       "order_hour_of_day                  0\n",
       "days_since_prior_order       2078068\n",
       "average_order_hour_of_day          0\n",
       "add_to_cart_order                  0\n",
       "reordered                          0\n",
       "dtype: int64"
      ]
     },
     "execution_count": 57,
     "metadata": {},
     "output_type": "execute_result"
    }
   ],
   "source": [
    "orders_products.isnull().sum()"
   ]
  },
  {
   "cell_type": "code",
   "execution_count": 58,
   "metadata": {},
   "outputs": [
    {
     "data": {
      "text/html": [
       "<div>\n",
       "<style>\n",
       "    .dataframe thead tr:only-child th {\n",
       "        text-align: right;\n",
       "    }\n",
       "\n",
       "    .dataframe thead th {\n",
       "        text-align: left;\n",
       "    }\n",
       "\n",
       "    .dataframe tbody tr th {\n",
       "        vertical-align: top;\n",
       "    }\n",
       "</style>\n",
       "<table border=\"1\" class=\"dataframe\">\n",
       "  <thead>\n",
       "    <tr style=\"text-align: right;\">\n",
       "      <th></th>\n",
       "      <th>department</th>\n",
       "      <th>order_id</th>\n",
       "    </tr>\n",
       "  </thead>\n",
       "  <tbody>\n",
       "    <tr>\n",
       "      <th>0</th>\n",
       "      <td>alcohol</td>\n",
       "      <td>153696</td>\n",
       "    </tr>\n",
       "    <tr>\n",
       "      <th>1</th>\n",
       "      <td>babies</td>\n",
       "      <td>423802</td>\n",
       "    </tr>\n",
       "    <tr>\n",
       "      <th>2</th>\n",
       "      <td>bakery</td>\n",
       "      <td>1176787</td>\n",
       "    </tr>\n",
       "    <tr>\n",
       "      <th>3</th>\n",
       "      <td>beverages</td>\n",
       "      <td>2690129</td>\n",
       "    </tr>\n",
       "    <tr>\n",
       "      <th>4</th>\n",
       "      <td>breakfast</td>\n",
       "      <td>709569</td>\n",
       "    </tr>\n",
       "  </tbody>\n",
       "</table>\n",
       "</div>"
      ],
      "text/plain": [
       "  department  order_id\n",
       "0    alcohol    153696\n",
       "1     babies    423802\n",
       "2     bakery   1176787\n",
       "3  beverages   2690129\n",
       "4  breakfast    709569"
      ]
     },
     "execution_count": 58,
     "metadata": {},
     "output_type": "execute_result"
    }
   ],
   "source": [
    "orders_per_product = orders_products.groupby('department')['order_id'].count()\n",
    "No_orders_per_dept = pd.DataFrame(orders_per_product).reset_index()\n",
    "No_orders_per_dept.head()"
   ]
  },
  {
   "cell_type": "code",
   "execution_count": 59,
   "metadata": {},
   "outputs": [
    {
     "data": {
      "text/plain": [
       "<matplotlib.text.Text at 0x10eb35668>"
      ]
     },
     "execution_count": 59,
     "metadata": {},
     "output_type": "execute_result"
    },
    {
     "data": {
      "image/png": "[encoded data removed]",
      "text/plain": [
       "<matplotlib.figure.Figure at 0x10ee15358>"
      ]
     },
     "metadata": {},
     "output_type": "display_data"
    }
   ],
   "source": [
    "plt.figure(figsize=(15,10))\n",
    "sns.barplot(x = 'order_id',y='department',data=No_orders_per_dept)\n",
    "plt.yticks(size=20)\n",
    "plt.xticks(size=20)\n",
    "plt.ylabel('Departments',fontsize= 25)\n",
    "plt.xlabel('Number of orders',fontsize=25)\n",
    "plt.title('Number of orders in each department',fontsize=30)"
   ]
  },
  {
   "cell_type": "markdown",
   "metadata": {},
   "source": [
    "From the graph above, we can see that most people order from the produce department, followed by the dairy eggs department, followed by snacks and beverages."
   ]
  },
  {
   "cell_type": "code",
   "execution_count": 60,
   "metadata": {},
   "outputs": [
    {
     "data": {
      "text/html": [
       "<div>\n",
       "<style>\n",
       "    .dataframe thead tr:only-child th {\n",
       "        text-align: right;\n",
       "    }\n",
       "\n",
       "    .dataframe thead th {\n",
       "        text-align: left;\n",
       "    }\n",
       "\n",
       "    .dataframe tbody tr th {\n",
       "        vertical-align: top;\n",
       "    }\n",
       "</style>\n",
       "<table border=\"1\" class=\"dataframe\">\n",
       "  <thead>\n",
       "    <tr style=\"text-align: right;\">\n",
       "      <th></th>\n",
       "      <th>order_id</th>\n",
       "      <th>user_id</th>\n",
       "      <th>eval_set</th>\n",
       "      <th>order_number</th>\n",
       "      <th>order_dow</th>\n",
       "      <th>order_hour_of_day</th>\n",
       "      <th>days_since_prior_order</th>\n",
       "      <th>average_order_hour_of_day</th>\n",
       "      <th>product_id</th>\n",
       "      <th>add_to_cart_order</th>\n",
       "      <th>reordered</th>\n",
       "    </tr>\n",
       "  </thead>\n",
       "  <tbody>\n",
       "    <tr>\n",
       "      <th>0</th>\n",
       "      <td>2539329</td>\n",
       "      <td>1</td>\n",
       "      <td>prior</td>\n",
       "      <td>1</td>\n",
       "      <td>2</td>\n",
       "      <td>8</td>\n",
       "      <td>NaN</td>\n",
       "      <td>10.090909</td>\n",
       "      <td>196</td>\n",
       "      <td>1</td>\n",
       "      <td>0</td>\n",
       "    </tr>\n",
       "    <tr>\n",
       "      <th>1</th>\n",
       "      <td>2539329</td>\n",
       "      <td>1</td>\n",
       "      <td>prior</td>\n",
       "      <td>1</td>\n",
       "      <td>2</td>\n",
       "      <td>8</td>\n",
       "      <td>NaN</td>\n",
       "      <td>10.090909</td>\n",
       "      <td>14084</td>\n",
       "      <td>2</td>\n",
       "      <td>0</td>\n",
       "    </tr>\n",
       "    <tr>\n",
       "      <th>2</th>\n",
       "      <td>2539329</td>\n",
       "      <td>1</td>\n",
       "      <td>prior</td>\n",
       "      <td>1</td>\n",
       "      <td>2</td>\n",
       "      <td>8</td>\n",
       "      <td>NaN</td>\n",
       "      <td>10.090909</td>\n",
       "      <td>12427</td>\n",
       "      <td>3</td>\n",
       "      <td>0</td>\n",
       "    </tr>\n",
       "    <tr>\n",
       "      <th>3</th>\n",
       "      <td>2539329</td>\n",
       "      <td>1</td>\n",
       "      <td>prior</td>\n",
       "      <td>1</td>\n",
       "      <td>2</td>\n",
       "      <td>8</td>\n",
       "      <td>NaN</td>\n",
       "      <td>10.090909</td>\n",
       "      <td>26088</td>\n",
       "      <td>4</td>\n",
       "      <td>0</td>\n",
       "    </tr>\n",
       "    <tr>\n",
       "      <th>4</th>\n",
       "      <td>2539329</td>\n",
       "      <td>1</td>\n",
       "      <td>prior</td>\n",
       "      <td>1</td>\n",
       "      <td>2</td>\n",
       "      <td>8</td>\n",
       "      <td>NaN</td>\n",
       "      <td>10.090909</td>\n",
       "      <td>26405</td>\n",
       "      <td>5</td>\n",
       "      <td>0</td>\n",
       "    </tr>\n",
       "  </tbody>\n",
       "</table>\n",
       "</div>"
      ],
      "text/plain": [
       "   order_id  user_id eval_set  order_number  order_dow  order_hour_of_day  \\\n",
       "0   2539329        1    prior             1          2                  8   \n",
       "1   2539329        1    prior             1          2                  8   \n",
       "2   2539329        1    prior             1          2                  8   \n",
       "3   2539329        1    prior             1          2                  8   \n",
       "4   2539329        1    prior             1          2                  8   \n",
       "\n",
       "   days_since_prior_order  average_order_hour_of_day  product_id  \\\n",
       "0                     NaN                  10.090909         196   \n",
       "1                     NaN                  10.090909       14084   \n",
       "2                     NaN                  10.090909       12427   \n",
       "3                     NaN                  10.090909       26088   \n",
       "4                     NaN                  10.090909       26405   \n",
       "\n",
       "   add_to_cart_order  reordered  \n",
       "0                  1          0  \n",
       "1                  2          0  \n",
       "2                  3          0  \n",
       "3                  4          0  \n",
       "4                  5          0  "
      ]
     },
     "execution_count": 60,
     "metadata": {},
     "output_type": "execute_result"
    }
   ],
   "source": [
    "orders_and_prior.head()"
   ]
  },
  {
   "cell_type": "code",
   "execution_count": 61,
   "metadata": {},
   "outputs": [
    {
     "data": {
      "text/plain": [
       "<matplotlib.text.Text at 0x10ebfcb00>"
      ]
     },
     "execution_count": 61,
     "metadata": {},
     "output_type": "execute_result"
    },
    {
     "data": {
      "image/png": "[encoded data removed]",
      "text/plain": [
       "<matplotlib.figure.Figure at 0x10e6894e0>"
      ]
     },
     "metadata": {},
     "output_type": "display_data"
    }
   ],
   "source": [
    "#Analyze how many orders does each customer have\n",
    "#group the orders and prior orders based on number of orders and how many customers in each segment\n",
    "orders_per_user = orders.groupby('user_id')['order_number'].max().value_counts()\n",
    "orders_per_user = pd.DataFrame(orders_per_user).reset_index() #reset index\n",
    "orders_per_user.columns = ['Number of orders','Count'] #rename the columns\n",
    "plt.figure(figsize = (12,6))\n",
    "sns.barplot(orders_per_user['Number of orders'],orders_per_user['Count'])\n",
    "plt.xticks(rotation= 'vertical',size = 12)\n",
    "plt.xlabel('Number of Orders',size = 12)\n",
    "plt.ylabel('Number of Customers',size = 12)\n",
    "plt.title('Number of customers based on number of orders')\n",
    "\n"
   ]
  },
  {
   "cell_type": "markdown",
   "metadata": {},
   "source": [
    "From the graph above, we can see that the number of orders per customer is between 4 and 100 and that we could not simply remove outlier since we can see that there are a handful number of customers who have ordered 100 times. In general, the number of customers decreases as the number of orders increases."
   ]
  },
  {
   "cell_type": "markdown",
   "metadata": {
    "collapsed": true
   },
   "source": [
    "# Statistical Analysis"
   ]
  },
  {
   "cell_type": "code",
   "execution_count": 62,
   "metadata": {
    "collapsed": true
   },
   "outputs": [],
   "source": [
    "from scipy import stats"
   ]
  },
  {
   "cell_type": "markdown",
   "metadata": {
    "collapsed": true
   },
   "source": [
    "\n",
    "Hypothesis Testing\n",
    "\n",
    "For the hypothesis testing, we define the following:\n",
    "\n",
    " - Null Hypothesis: There is no relationship between day of the week and the hour at which one    orders his or her grocery\n",
    "\n",
    "- Alternate Hypothesis: There is a relationship between day of week and the hour at which one   orders his or her grocery.\n",
    "\n",
    "We will assume our significance level, $\\alpha$ to be 0.05.\n",
    "\n"
   ]
  },
  {
   "cell_type": "code",
   "execution_count": 63,
   "metadata": {},
   "outputs": [
    {
     "data": {
      "text/html": [
       "<div>\n",
       "<style>\n",
       "    .dataframe thead tr:only-child th {\n",
       "        text-align: right;\n",
       "    }\n",
       "\n",
       "    .dataframe thead th {\n",
       "        text-align: left;\n",
       "    }\n",
       "\n",
       "    .dataframe tbody tr th {\n",
       "        vertical-align: top;\n",
       "    }\n",
       "</style>\n",
       "<table border=\"1\" class=\"dataframe\">\n",
       "  <thead>\n",
       "    <tr style=\"text-align: right;\">\n",
       "      <th></th>\n",
       "      <th>0</th>\n",
       "      <th>1</th>\n",
       "      <th>2</th>\n",
       "      <th>3</th>\n",
       "      <th>4</th>\n",
       "      <th>5</th>\n",
       "      <th>6</th>\n",
       "      <th>7</th>\n",
       "      <th>8</th>\n",
       "      <th>9</th>\n",
       "      <th>...</th>\n",
       "      <th>14</th>\n",
       "      <th>15</th>\n",
       "      <th>16</th>\n",
       "      <th>17</th>\n",
       "      <th>18</th>\n",
       "      <th>19</th>\n",
       "      <th>20</th>\n",
       "      <th>21</th>\n",
       "      <th>22</th>\n",
       "      <th>23</th>\n",
       "    </tr>\n",
       "    <tr>\n",
       "      <th>order_dow</th>\n",
       "      <th></th>\n",
       "      <th></th>\n",
       "      <th></th>\n",
       "      <th></th>\n",
       "      <th></th>\n",
       "      <th></th>\n",
       "      <th></th>\n",
       "      <th></th>\n",
       "      <th></th>\n",
       "      <th></th>\n",
       "      <th></th>\n",
       "      <th></th>\n",
       "      <th></th>\n",
       "      <th></th>\n",
       "      <th></th>\n",
       "      <th></th>\n",
       "      <th></th>\n",
       "      <th></th>\n",
       "      <th></th>\n",
       "      <th></th>\n",
       "      <th></th>\n",
       "    </tr>\n",
       "  </thead>\n",
       "  <tbody>\n",
       "    <tr>\n",
       "      <th>0</th>\n",
       "      <td>3936</td>\n",
       "      <td>2398</td>\n",
       "      <td>1409</td>\n",
       "      <td>963</td>\n",
       "      <td>813</td>\n",
       "      <td>1168</td>\n",
       "      <td>3329</td>\n",
       "      <td>12410</td>\n",
       "      <td>28108</td>\n",
       "      <td>40798</td>\n",
       "      <td>...</td>\n",
       "      <td>54552</td>\n",
       "      <td>53954</td>\n",
       "      <td>49463</td>\n",
       "      <td>39753</td>\n",
       "      <td>29572</td>\n",
       "      <td>22654</td>\n",
       "      <td>18277</td>\n",
       "      <td>14423</td>\n",
       "      <td>11246</td>\n",
       "      <td>6887</td>\n",
       "    </tr>\n",
       "    <tr>\n",
       "      <th>1</th>\n",
       "      <td>3674</td>\n",
       "      <td>1830</td>\n",
       "      <td>1105</td>\n",
       "      <td>748</td>\n",
       "      <td>809</td>\n",
       "      <td>1607</td>\n",
       "      <td>5370</td>\n",
       "      <td>16571</td>\n",
       "      <td>34116</td>\n",
       "      <td>51908</td>\n",
       "      <td>...</td>\n",
       "      <td>46764</td>\n",
       "      <td>46403</td>\n",
       "      <td>44761</td>\n",
       "      <td>36792</td>\n",
       "      <td>28977</td>\n",
       "      <td>22145</td>\n",
       "      <td>16281</td>\n",
       "      <td>11943</td>\n",
       "      <td>8992</td>\n",
       "      <td>5620</td>\n",
       "    </tr>\n",
       "    <tr>\n",
       "      <th>2</th>\n",
       "      <td>3059</td>\n",
       "      <td>1572</td>\n",
       "      <td>943</td>\n",
       "      <td>719</td>\n",
       "      <td>744</td>\n",
       "      <td>1399</td>\n",
       "      <td>4758</td>\n",
       "      <td>13245</td>\n",
       "      <td>24635</td>\n",
       "      <td>36314</td>\n",
       "      <td>...</td>\n",
       "      <td>37173</td>\n",
       "      <td>37469</td>\n",
       "      <td>37541</td>\n",
       "      <td>32151</td>\n",
       "      <td>26470</td>\n",
       "      <td>20084</td>\n",
       "      <td>15039</td>\n",
       "      <td>10653</td>\n",
       "      <td>8146</td>\n",
       "      <td>5358</td>\n",
       "    </tr>\n",
       "    <tr>\n",
       "      <th>3</th>\n",
       "      <td>2952</td>\n",
       "      <td>1495</td>\n",
       "      <td>953</td>\n",
       "      <td>654</td>\n",
       "      <td>719</td>\n",
       "      <td>1355</td>\n",
       "      <td>4562</td>\n",
       "      <td>12396</td>\n",
       "      <td>22553</td>\n",
       "      <td>32312</td>\n",
       "      <td>...</td>\n",
       "      <td>34773</td>\n",
       "      <td>35990</td>\n",
       "      <td>35273</td>\n",
       "      <td>30368</td>\n",
       "      <td>25001</td>\n",
       "      <td>19249</td>\n",
       "      <td>13795</td>\n",
       "      <td>10278</td>\n",
       "      <td>8242</td>\n",
       "      <td>5181</td>\n",
       "    </tr>\n",
       "    <tr>\n",
       "      <th>4</th>\n",
       "      <td>2642</td>\n",
       "      <td>1512</td>\n",
       "      <td>899</td>\n",
       "      <td>686</td>\n",
       "      <td>730</td>\n",
       "      <td>1330</td>\n",
       "      <td>4401</td>\n",
       "      <td>12493</td>\n",
       "      <td>21814</td>\n",
       "      <td>31409</td>\n",
       "      <td>...</td>\n",
       "      <td>33625</td>\n",
       "      <td>34222</td>\n",
       "      <td>34093</td>\n",
       "      <td>29378</td>\n",
       "      <td>24425</td>\n",
       "      <td>19350</td>\n",
       "      <td>14186</td>\n",
       "      <td>10796</td>\n",
       "      <td>8812</td>\n",
       "      <td>5645</td>\n",
       "    </tr>\n",
       "    <tr>\n",
       "      <th>5</th>\n",
       "      <td>3189</td>\n",
       "      <td>1672</td>\n",
       "      <td>1016</td>\n",
       "      <td>841</td>\n",
       "      <td>910</td>\n",
       "      <td>1574</td>\n",
       "      <td>4866</td>\n",
       "      <td>13434</td>\n",
       "      <td>24015</td>\n",
       "      <td>34232</td>\n",
       "      <td>...</td>\n",
       "      <td>37407</td>\n",
       "      <td>37508</td>\n",
       "      <td>35860</td>\n",
       "      <td>29955</td>\n",
       "      <td>24310</td>\n",
       "      <td>18741</td>\n",
       "      <td>13322</td>\n",
       "      <td>9515</td>\n",
       "      <td>7498</td>\n",
       "      <td>5265</td>\n",
       "    </tr>\n",
       "    <tr>\n",
       "      <th>6</th>\n",
       "      <td>3306</td>\n",
       "      <td>1919</td>\n",
       "      <td>1214</td>\n",
       "      <td>863</td>\n",
       "      <td>802</td>\n",
       "      <td>1136</td>\n",
       "      <td>3243</td>\n",
       "      <td>11319</td>\n",
       "      <td>22960</td>\n",
       "      <td>30839</td>\n",
       "      <td>...</td>\n",
       "      <td>38748</td>\n",
       "      <td>38093</td>\n",
       "      <td>35562</td>\n",
       "      <td>30398</td>\n",
       "      <td>24157</td>\n",
       "      <td>18346</td>\n",
       "      <td>13392</td>\n",
       "      <td>10501</td>\n",
       "      <td>8532</td>\n",
       "      <td>6087</td>\n",
       "    </tr>\n",
       "  </tbody>\n",
       "</table>\n",
       "<p>7 rows × 24 columns</p>\n",
       "</div>"
      ],
      "text/plain": [
       "             0     1     2    3    4     5     6      7      8      9   ...   \\\n",
       "order_dow                                                               ...    \n",
       "0          3936  2398  1409  963  813  1168  3329  12410  28108  40798  ...    \n",
       "1          3674  1830  1105  748  809  1607  5370  16571  34116  51908  ...    \n",
       "2          3059  1572   943  719  744  1399  4758  13245  24635  36314  ...    \n",
       "3          2952  1495   953  654  719  1355  4562  12396  22553  32312  ...    \n",
       "4          2642  1512   899  686  730  1330  4401  12493  21814  31409  ...    \n",
       "5          3189  1672  1016  841  910  1574  4866  13434  24015  34232  ...    \n",
       "6          3306  1919  1214  863  802  1136  3243  11319  22960  30839  ...    \n",
       "\n",
       "              14     15     16     17     18     19     20     21     22    23  \n",
       "order_dow                                                                       \n",
       "0          54552  53954  49463  39753  29572  22654  18277  14423  11246  6887  \n",
       "1          46764  46403  44761  36792  28977  22145  16281  11943   8992  5620  \n",
       "2          37173  37469  37541  32151  26470  20084  15039  10653   8146  5358  \n",
       "3          34773  35990  35273  30368  25001  19249  13795  10278   8242  5181  \n",
       "4          33625  34222  34093  29378  24425  19350  14186  10796   8812  5645  \n",
       "5          37407  37508  35860  29955  24310  18741  13322   9515   7498  5265  \n",
       "6          38748  38093  35562  30398  24157  18346  13392  10501   8532  6087  \n",
       "\n",
       "[7 rows x 24 columns]"
      ]
     },
     "execution_count": 63,
     "metadata": {},
     "output_type": "execute_result"
    }
   ],
   "source": [
    "week_vs_hours = orders.pivot_table('order_id','order_dow','order_hour_of_day',aggfunc='count').reset_index()\n",
    "del week_vs_hours.columns.name\n",
    "week_vs_hours = week_vs_hours.set_index('order_dow')\n",
    "week_vs_hours"
   ]
  },
  {
   "cell_type": "code",
   "execution_count": 64,
   "metadata": {
    "collapsed": true
   },
   "outputs": [],
   "source": [
    "chi2, p, dof, expected = stats.chi2_contingency(week_vs_hours)"
   ]
  },
  {
   "cell_type": "code",
   "execution_count": 65,
   "metadata": {},
   "outputs": [
    {
     "data": {
      "text/plain": [
       "13722.50153097765"
      ]
     },
     "execution_count": 65,
     "metadata": {},
     "output_type": "execute_result"
    }
   ],
   "source": [
    "chi2"
   ]
  },
  {
   "cell_type": "code",
   "execution_count": 66,
   "metadata": {},
   "outputs": [
    {
     "data": {
      "text/plain": [
       "0.0"
      ]
     },
     "execution_count": 66,
     "metadata": {},
     "output_type": "execute_result"
    }
   ],
   "source": [
    "p"
   ]
  },
  {
   "cell_type": "markdown",
   "metadata": {},
   "source": [
    "The p-value is below the 5% significance level, which indicates that we have to reject the null hypothesis and that there is significant relationship between the hour of day at which one orders his or her grocery and the day of the week."
   ]
  },
  {
   "cell_type": "markdown",
   "metadata": {},
   "source": [
    "Next, I would like to figure out if one buys more items the longer he or she is since last groceries.\n",
    "\n",
    "- Null Hypothesis: There is no correlation between the number of days it takes one to reorder   and the number of items one buys\n",
    "\n",
    "- Alternative Hypothesis: There is correlation between the number of days it takes one to       reorder and number of items one buys."
   ]
  },
  {
   "cell_type": "code",
   "execution_count": 67,
   "metadata": {},
   "outputs": [
    {
     "data": {
      "text/html": [
       "<div>\n",
       "<style>\n",
       "    .dataframe thead tr:only-child th {\n",
       "        text-align: right;\n",
       "    }\n",
       "\n",
       "    .dataframe thead th {\n",
       "        text-align: left;\n",
       "    }\n",
       "\n",
       "    .dataframe tbody tr th {\n",
       "        vertical-align: top;\n",
       "    }\n",
       "</style>\n",
       "<table border=\"1\" class=\"dataframe\">\n",
       "  <thead>\n",
       "    <tr style=\"text-align: right;\">\n",
       "      <th></th>\n",
       "      <th>order_id</th>\n",
       "      <th>product_id</th>\n",
       "      <th>add_to_cart_order</th>\n",
       "      <th>reordered</th>\n",
       "      <th>user_id</th>\n",
       "      <th>eval_set</th>\n",
       "      <th>order_number</th>\n",
       "      <th>order_dow</th>\n",
       "      <th>order_hour_of_day</th>\n",
       "      <th>days_since_prior_order</th>\n",
       "      <th>average_order_hour_of_day</th>\n",
       "    </tr>\n",
       "  </thead>\n",
       "  <tbody>\n",
       "    <tr>\n",
       "      <th>0</th>\n",
       "      <td>2</td>\n",
       "      <td>33120</td>\n",
       "      <td>1</td>\n",
       "      <td>1</td>\n",
       "      <td>202279</td>\n",
       "      <td>prior</td>\n",
       "      <td>3</td>\n",
       "      <td>5</td>\n",
       "      <td>9</td>\n",
       "      <td>8.0</td>\n",
       "      <td>11.666667</td>\n",
       "    </tr>\n",
       "    <tr>\n",
       "      <th>1</th>\n",
       "      <td>2</td>\n",
       "      <td>28985</td>\n",
       "      <td>2</td>\n",
       "      <td>1</td>\n",
       "      <td>202279</td>\n",
       "      <td>prior</td>\n",
       "      <td>3</td>\n",
       "      <td>5</td>\n",
       "      <td>9</td>\n",
       "      <td>8.0</td>\n",
       "      <td>11.666667</td>\n",
       "    </tr>\n",
       "    <tr>\n",
       "      <th>2</th>\n",
       "      <td>2</td>\n",
       "      <td>9327</td>\n",
       "      <td>3</td>\n",
       "      <td>0</td>\n",
       "      <td>202279</td>\n",
       "      <td>prior</td>\n",
       "      <td>3</td>\n",
       "      <td>5</td>\n",
       "      <td>9</td>\n",
       "      <td>8.0</td>\n",
       "      <td>11.666667</td>\n",
       "    </tr>\n",
       "    <tr>\n",
       "      <th>3</th>\n",
       "      <td>2</td>\n",
       "      <td>45918</td>\n",
       "      <td>4</td>\n",
       "      <td>1</td>\n",
       "      <td>202279</td>\n",
       "      <td>prior</td>\n",
       "      <td>3</td>\n",
       "      <td>5</td>\n",
       "      <td>9</td>\n",
       "      <td>8.0</td>\n",
       "      <td>11.666667</td>\n",
       "    </tr>\n",
       "    <tr>\n",
       "      <th>4</th>\n",
       "      <td>2</td>\n",
       "      <td>30035</td>\n",
       "      <td>5</td>\n",
       "      <td>0</td>\n",
       "      <td>202279</td>\n",
       "      <td>prior</td>\n",
       "      <td>3</td>\n",
       "      <td>5</td>\n",
       "      <td>9</td>\n",
       "      <td>8.0</td>\n",
       "      <td>11.666667</td>\n",
       "    </tr>\n",
       "  </tbody>\n",
       "</table>\n",
       "</div>"
      ],
      "text/plain": [
       "   order_id  product_id  add_to_cart_order  reordered  user_id eval_set  \\\n",
       "0         2       33120                  1          1   202279    prior   \n",
       "1         2       28985                  2          1   202279    prior   \n",
       "2         2        9327                  3          0   202279    prior   \n",
       "3         2       45918                  4          1   202279    prior   \n",
       "4         2       30035                  5          0   202279    prior   \n",
       "\n",
       "   order_number  order_dow  order_hour_of_day  days_since_prior_order  \\\n",
       "0             3          5                  9                     8.0   \n",
       "1             3          5                  9                     8.0   \n",
       "2             3          5                  9                     8.0   \n",
       "3             3          5                  9                     8.0   \n",
       "4             3          5                  9                     8.0   \n",
       "\n",
       "   average_order_hour_of_day  \n",
       "0                  11.666667  \n",
       "1                  11.666667  \n",
       "2                  11.666667  \n",
       "3                  11.666667  \n",
       "4                  11.666667  "
      ]
     },
     "execution_count": 67,
     "metadata": {},
     "output_type": "execute_result"
    }
   ],
   "source": [
    "\"\"\"\n",
    "Use chi-square test to find if the number of orders is related\n",
    "to the day of week. For instance, is there more orders on Monday\n",
    "than on Saturday???\n",
    "\"\"\"\n",
    "\n",
    "historical_orders = pd.merge(prior_order, orders, on='order_id',how='left')\n",
    "historical_orders = historical_orders.dropna()\n",
    "historical_orders.head()"
   ]
  },
  {
   "cell_type": "code",
   "execution_count": 68,
   "metadata": {
    "collapsed": true
   },
   "outputs": [],
   "source": [
    "order_size_per_order= historical_orders.groupby('order_id').size()"
   ]
  },
  {
   "cell_type": "code",
   "execution_count": 69,
   "metadata": {
    "collapsed": true
   },
   "outputs": [],
   "source": [
    "order_size_per_order.columns = ['Number_Of_items']"
   ]
  },
  {
   "cell_type": "code",
   "execution_count": 70,
   "metadata": {
    "collapsed": true
   },
   "outputs": [],
   "source": [
    "order_size_per_order = pd.DataFrame(order_size_per_order).reset_index()\n",
    "order_size_per_order.columns = ['order_id','No_Of_orders']\n"
   ]
  },
  {
   "cell_type": "code",
   "execution_count": 71,
   "metadata": {
    "collapsed": true
   },
   "outputs": [],
   "source": [
    "days_vs_orders = pd.merge(order_size_per_order,orders,on='order_id',how='left')\n"
   ]
  },
  {
   "cell_type": "code",
   "execution_count": 72,
   "metadata": {},
   "outputs": [
    {
     "data": {
      "text/html": [
       "<div>\n",
       "<style>\n",
       "    .dataframe thead tr:only-child th {\n",
       "        text-align: right;\n",
       "    }\n",
       "\n",
       "    .dataframe thead th {\n",
       "        text-align: left;\n",
       "    }\n",
       "\n",
       "    .dataframe tbody tr th {\n",
       "        vertical-align: top;\n",
       "    }\n",
       "</style>\n",
       "<table border=\"1\" class=\"dataframe\">\n",
       "  <thead>\n",
       "    <tr style=\"text-align: right;\">\n",
       "      <th></th>\n",
       "      <th>order_id</th>\n",
       "      <th>No_Of_orders</th>\n",
       "      <th>user_id</th>\n",
       "      <th>eval_set</th>\n",
       "      <th>order_number</th>\n",
       "      <th>order_dow</th>\n",
       "      <th>order_hour_of_day</th>\n",
       "      <th>days_since_prior_order</th>\n",
       "      <th>average_order_hour_of_day</th>\n",
       "    </tr>\n",
       "  </thead>\n",
       "  <tbody>\n",
       "    <tr>\n",
       "      <th>0</th>\n",
       "      <td>2</td>\n",
       "      <td>9</td>\n",
       "      <td>202279</td>\n",
       "      <td>prior</td>\n",
       "      <td>3</td>\n",
       "      <td>5</td>\n",
       "      <td>9</td>\n",
       "      <td>8.0</td>\n",
       "      <td>11.666667</td>\n",
       "    </tr>\n",
       "    <tr>\n",
       "      <th>1</th>\n",
       "      <td>3</td>\n",
       "      <td>8</td>\n",
       "      <td>205970</td>\n",
       "      <td>prior</td>\n",
       "      <td>16</td>\n",
       "      <td>5</td>\n",
       "      <td>17</td>\n",
       "      <td>12.0</td>\n",
       "      <td>13.192308</td>\n",
       "    </tr>\n",
       "    <tr>\n",
       "      <th>2</th>\n",
       "      <td>4</td>\n",
       "      <td>13</td>\n",
       "      <td>178520</td>\n",
       "      <td>prior</td>\n",
       "      <td>36</td>\n",
       "      <td>1</td>\n",
       "      <td>9</td>\n",
       "      <td>7.0</td>\n",
       "      <td>9.087719</td>\n",
       "    </tr>\n",
       "    <tr>\n",
       "      <th>3</th>\n",
       "      <td>5</td>\n",
       "      <td>26</td>\n",
       "      <td>156122</td>\n",
       "      <td>prior</td>\n",
       "      <td>42</td>\n",
       "      <td>6</td>\n",
       "      <td>16</td>\n",
       "      <td>9.0</td>\n",
       "      <td>13.358491</td>\n",
       "    </tr>\n",
       "    <tr>\n",
       "      <th>4</th>\n",
       "      <td>6</td>\n",
       "      <td>3</td>\n",
       "      <td>22352</td>\n",
       "      <td>prior</td>\n",
       "      <td>4</td>\n",
       "      <td>1</td>\n",
       "      <td>12</td>\n",
       "      <td>30.0</td>\n",
       "      <td>13.777778</td>\n",
       "    </tr>\n",
       "  </tbody>\n",
       "</table>\n",
       "</div>"
      ],
      "text/plain": [
       "   order_id  No_Of_orders  user_id eval_set  order_number  order_dow  \\\n",
       "0         2             9   202279    prior             3          5   \n",
       "1         3             8   205970    prior            16          5   \n",
       "2         4            13   178520    prior            36          1   \n",
       "3         5            26   156122    prior            42          6   \n",
       "4         6             3    22352    prior             4          1   \n",
       "\n",
       "   order_hour_of_day  days_since_prior_order  average_order_hour_of_day  \n",
       "0                  9                     8.0                  11.666667  \n",
       "1                 17                    12.0                  13.192308  \n",
       "2                  9                     7.0                   9.087719  \n",
       "3                 16                     9.0                  13.358491  \n",
       "4                 12                    30.0                  13.777778  "
      ]
     },
     "execution_count": 72,
     "metadata": {},
     "output_type": "execute_result"
    }
   ],
   "source": [
    "days_vs_orders.head()"
   ]
  },
  {
   "cell_type": "code",
   "execution_count": 73,
   "metadata": {},
   "outputs": [
    {
     "data": {
      "text/plain": [
       "(0.05938871618766222, 0.0)"
      ]
     },
     "execution_count": 73,
     "metadata": {},
     "output_type": "execute_result"
    }
   ],
   "source": [
    "stats.pearsonr(x = days_vs_orders['days_since_prior_order'],y =days_vs_orders['No_Of_orders'])"
   ]
  },
  {
   "cell_type": "markdown",
   "metadata": {},
   "source": [
    "Based on the pearson correlation test, we can see that the p-value is 0, which means that we can reject null hypothesis, that there is correlation between days since prior order and the number of items one orders. However, we can also see that the correlation coefficient is very low, which is only 0.05, meaning that we can also say that they are very weakly correlated, almost close to 0."
   ]
  },
  {
   "cell_type": "markdown",
   "metadata": {},
   "source": [
    "# FEATURE ENGINEERING"
   ]
  },
  {
   "cell_type": "markdown",
   "metadata": {},
   "source": [
    "\n",
    "\n",
    "I will be figuring out what kind of input variables should be included and analyze to be able to know which features are actually important in helping predict which products are going to get reordered by each user."
   ]
  },
  {
   "cell_type": "markdown",
   "metadata": {},
   "source": [
    "# User Features"
   ]
  },
  {
   "cell_type": "markdown",
   "metadata": {},
   "source": [
    "Features we would like to consider: (ONLY USE PRIOR ORDER)\n",
    "\n",
    "1. How often the user reorders     ('Average Number of days to repurchase')\n",
    "\n",
    "2. Time of day the user visits and usually on what day\n",
    "\n",
    "3. List of distinct products\n",
    "\n",
    "4. Order size\n",
    "\n",
    "5. Total Number of Items in each order\n",
    "\n",
    "6. Average Basket Size\n",
    "\n",
    "7. How many of the user's orders contained no previously purchased orders"
   ]
  },
  {
   "cell_type": "code",
   "execution_count": 74,
   "metadata": {
    "collapsed": true
   },
   "outputs": [],
   "source": [
    "users = pd.DataFrame()"
   ]
  },
  {
   "cell_type": "code",
   "execution_count": 75,
   "metadata": {},
   "outputs": [
    {
     "name": "stdout",
     "output_type": "stream",
     "text": [
      "(206209, 7)\n"
     ]
    },
    {
     "data": {
      "text/html": [
       "<div>\n",
       "<style>\n",
       "    .dataframe thead tr:only-child th {\n",
       "        text-align: right;\n",
       "    }\n",
       "\n",
       "    .dataframe thead th {\n",
       "        text-align: left;\n",
       "    }\n",
       "\n",
       "    .dataframe tbody tr th {\n",
       "        vertical-align: top;\n",
       "    }\n",
       "</style>\n",
       "<table border=\"1\" class=\"dataframe\">\n",
       "  <thead>\n",
       "    <tr style=\"text-align: right;\">\n",
       "      <th></th>\n",
       "      <th>user_id</th>\n",
       "      <th>average_days_between_orders</th>\n",
       "      <th>Total_orders</th>\n",
       "      <th>total_items</th>\n",
       "      <th>All_products</th>\n",
       "      <th>total_distinct_items</th>\n",
       "      <th>average_basket</th>\n",
       "    </tr>\n",
       "    <tr>\n",
       "      <th>user_id</th>\n",
       "      <th></th>\n",
       "      <th></th>\n",
       "      <th></th>\n",
       "      <th></th>\n",
       "      <th></th>\n",
       "      <th></th>\n",
       "      <th></th>\n",
       "    </tr>\n",
       "  </thead>\n",
       "  <tbody>\n",
       "    <tr>\n",
       "      <th>1</th>\n",
       "      <td>1</td>\n",
       "      <td>19.000000</td>\n",
       "      <td>11</td>\n",
       "      <td>59</td>\n",
       "      <td>{17122, 196, 26405, 14084, 46149, 26088, 13032...</td>\n",
       "      <td>18</td>\n",
       "      <td>5.363636</td>\n",
       "    </tr>\n",
       "    <tr>\n",
       "      <th>2</th>\n",
       "      <td>2</td>\n",
       "      <td>16.285714</td>\n",
       "      <td>15</td>\n",
       "      <td>195</td>\n",
       "      <td>{45066, 2573, 18961, 1559, 32792, 23, 22559, 1...</td>\n",
       "      <td>102</td>\n",
       "      <td>13.000000</td>\n",
       "    </tr>\n",
       "  </tbody>\n",
       "</table>\n",
       "</div>"
      ],
      "text/plain": [
       "         user_id  average_days_between_orders  Total_orders  total_items  \\\n",
       "user_id                                                                    \n",
       "1              1                    19.000000            11           59   \n",
       "2              2                    16.285714            15          195   \n",
       "\n",
       "                                              All_products  \\\n",
       "user_id                                                      \n",
       "1        {17122, 196, 26405, 14084, 46149, 26088, 13032...   \n",
       "2        {45066, 2573, 18961, 1559, 32792, 23, 22559, 1...   \n",
       "\n",
       "         total_distinct_items  average_basket  \n",
       "user_id                                        \n",
       "1                          18        5.363636  \n",
       "2                         102       13.000000  "
      ]
     },
     "execution_count": 75,
     "metadata": {},
     "output_type": "execute_result"
    }
   ],
   "source": [
    "users['average_days_between_orders'] = orders.groupby('user_id')['days_since_prior_order'].mean() \n",
    "users['Total_orders'] = orders.groupby('user_id').size()\n",
    "users['total_items'] = orders_and_prior.groupby('user_id').size()\n",
    "users['All_products'] = orders_and_prior.groupby('user_id')['product_id'].apply(set)\n",
    "users['total_distinct_items'] = users.All_products.map(len)\n",
    "users['average_basket'] = users.total_items / users.Total_orders\n",
    "users=users.reset_index()\n",
    "users=users.set_index('user_id',drop=False)\n",
    "print(users.shape)\n",
    "users.head(2)"
   ]
  },
  {
   "cell_type": "markdown",
   "metadata": {},
   "source": [
    "# Product Features"
   ]
  },
  {
   "cell_type": "markdown",
   "metadata": {},
   "source": [
    "For the products, there are several features that I am interested in:\n",
    "\n",
    "1. Total number of orders for that specific product\n",
    "\n",
    "2. Total reorders\n",
    "\n",
    "3. Reorder rate for the product\n",
    "\n",
    "4. Average position in cart for the specific product"
   ]
  },
  {
   "cell_type": "code",
   "execution_count": 76,
   "metadata": {},
   "outputs": [
    {
     "data": {
      "text/html": [
       "<div>\n",
       "<style>\n",
       "    .dataframe thead tr:only-child th {\n",
       "        text-align: right;\n",
       "    }\n",
       "\n",
       "    .dataframe thead th {\n",
       "        text-align: left;\n",
       "    }\n",
       "\n",
       "    .dataframe tbody tr th {\n",
       "        vertical-align: top;\n",
       "    }\n",
       "</style>\n",
       "<table border=\"1\" class=\"dataframe\">\n",
       "  <thead>\n",
       "    <tr style=\"text-align: right;\">\n",
       "      <th></th>\n",
       "      <th>product_id</th>\n",
       "      <th>total_order</th>\n",
       "      <th>Number_of_times_reordered</th>\n",
       "      <th>reorder_rate</th>\n",
       "      <th>average_position_in_cart</th>\n",
       "      <th>product_name</th>\n",
       "      <th>aisle_id</th>\n",
       "      <th>department_id</th>\n",
       "      <th>department</th>\n",
       "    </tr>\n",
       "  </thead>\n",
       "  <tbody>\n",
       "    <tr>\n",
       "      <th>0</th>\n",
       "      <td>1</td>\n",
       "      <td>1852</td>\n",
       "      <td>1136</td>\n",
       "      <td>0.613391</td>\n",
       "      <td>5.801836</td>\n",
       "      <td>Chocolate Sandwich Cookies</td>\n",
       "      <td>61</td>\n",
       "      <td>19</td>\n",
       "      <td>snacks</td>\n",
       "    </tr>\n",
       "    <tr>\n",
       "      <th>1</th>\n",
       "      <td>2</td>\n",
       "      <td>90</td>\n",
       "      <td>12</td>\n",
       "      <td>0.133333</td>\n",
       "      <td>9.888889</td>\n",
       "      <td>All-Seasons Salt</td>\n",
       "      <td>104</td>\n",
       "      <td>13</td>\n",
       "      <td>pantry</td>\n",
       "    </tr>\n",
       "    <tr>\n",
       "      <th>2</th>\n",
       "      <td>3</td>\n",
       "      <td>277</td>\n",
       "      <td>203</td>\n",
       "      <td>0.732852</td>\n",
       "      <td>6.415162</td>\n",
       "      <td>Robust Golden Unsweetened Oolong Tea</td>\n",
       "      <td>94</td>\n",
       "      <td>7</td>\n",
       "      <td>beverages</td>\n",
       "    </tr>\n",
       "    <tr>\n",
       "      <th>3</th>\n",
       "      <td>4</td>\n",
       "      <td>329</td>\n",
       "      <td>147</td>\n",
       "      <td>0.446809</td>\n",
       "      <td>9.507599</td>\n",
       "      <td>Smart Ones Classic Favorites Mini Rigatoni Wit...</td>\n",
       "      <td>38</td>\n",
       "      <td>1</td>\n",
       "      <td>frozen</td>\n",
       "    </tr>\n",
       "    <tr>\n",
       "      <th>4</th>\n",
       "      <td>5</td>\n",
       "      <td>15</td>\n",
       "      <td>9</td>\n",
       "      <td>0.600000</td>\n",
       "      <td>6.466667</td>\n",
       "      <td>Green Chile Anytime Sauce</td>\n",
       "      <td>5</td>\n",
       "      <td>13</td>\n",
       "      <td>pantry</td>\n",
       "    </tr>\n",
       "  </tbody>\n",
       "</table>\n",
       "</div>"
      ],
      "text/plain": [
       "   product_id  total_order  Number_of_times_reordered  reorder_rate  \\\n",
       "0           1         1852                       1136      0.613391   \n",
       "1           2           90                         12      0.133333   \n",
       "2           3          277                        203      0.732852   \n",
       "3           4          329                        147      0.446809   \n",
       "4           5           15                          9      0.600000   \n",
       "\n",
       "   average_position_in_cart  \\\n",
       "0                  5.801836   \n",
       "1                  9.888889   \n",
       "2                  6.415162   \n",
       "3                  9.507599   \n",
       "4                  6.466667   \n",
       "\n",
       "                                        product_name  aisle_id  department_id  \\\n",
       "0                         Chocolate Sandwich Cookies        61             19   \n",
       "1                                   All-Seasons Salt       104             13   \n",
       "2               Robust Golden Unsweetened Oolong Tea        94              7   \n",
       "3  Smart Ones Classic Favorites Mini Rigatoni Wit...        38              1   \n",
       "4                          Green Chile Anytime Sauce         5             13   \n",
       "\n",
       "  department  \n",
       "0     snacks  \n",
       "1     pantry  \n",
       "2  beverages  \n",
       "3     frozen  \n",
       "4     pantry  "
      ]
     },
     "execution_count": 76,
     "metadata": {},
     "output_type": "execute_result"
    }
   ],
   "source": [
    "#product- analysis:\n",
    "df_products = pd.DataFrame()\n",
    "df_products['total_order'] = orders_and_prior.groupby('product_id').size()\n",
    "df_products['Number_of_times_reordered'] = orders_products.groupby('product_id')['reordered'].sum()\n",
    "df_products['reorder_rate'] = (df_products['Number_of_times_reordered'])/(df_products['total_order'])\n",
    "df_products['average_position_in_cart'] = orders_and_prior.groupby('product_id')['add_to_cart_order'].mean()\n",
    "df_products = df_products.reset_index()\n",
    "df_products2 = pd.merge(df_products,products,on='product_id',how = 'left')\n",
    "df_products_final = pd.merge(df_products2,departments,on='department_id',how='left')\n",
    "df_products_final.head()"
   ]
  },
  {
   "cell_type": "code",
   "execution_count": 77,
   "metadata": {
    "collapsed": true
   },
   "outputs": [],
   "source": [
    "df_products_final.set_index('product_id',inplace=True)"
   ]
  },
  {
   "cell_type": "code",
   "execution_count": 78,
   "metadata": {},
   "outputs": [
    {
     "data": {
      "text/plain": [
       "total_order                  0\n",
       "Number_of_times_reordered    0\n",
       "reorder_rate                 0\n",
       "average_position_in_cart     0\n",
       "product_name                 0\n",
       "aisle_id                     0\n",
       "department_id                0\n",
       "department                   0\n",
       "dtype: int64"
      ]
     },
     "execution_count": 78,
     "metadata": {},
     "output_type": "execute_result"
    }
   ],
   "source": [
    "df_products_final.isnull().sum()"
   ]
  },
  {
   "cell_type": "code",
   "execution_count": 79,
   "metadata": {},
   "outputs": [
    {
     "data": {
      "text/plain": [
       "<matplotlib.text.Text at 0x10fb157b8>"
      ]
     },
     "execution_count": 79,
     "metadata": {},
     "output_type": "execute_result"
    },
    {
     "data": {
      "image/png": "[encoded data removed]",
      "text/plain": [
       "<matplotlib.figure.Figure at 0x1106db518>"
      ]
     },
     "metadata": {},
     "output_type": "display_data"
    }
   ],
   "source": [
    "#Analyze which department has most re-order rates:\n",
    "plt.figure(figsize = (10,5))\n",
    "sns.pointplot(x = 'department',y = 'reorder_rate',data = df_products_final)\n",
    "plt.xticks(rotation = 90,size = 12)\n",
    "plt.xlabel('Departments',size = 20)\n",
    "plt.ylabel('Reorder rates', size = 20)\n",
    "plt.title('Reorder rates per Department')"
   ]
  },
  {
   "cell_type": "markdown",
   "metadata": {},
   "source": [
    "The graph above shows which department has high re-order rates.\n",
    "\n",
    "We can see that the departments with high reorder rates include snacks,beverages,dairy eggs,babies, meat seafood,pets, breakfast,produce,bakery,deli, and bulk. This is not a surprise since beverages such as water, milk, soda, etc is taken usually on a regular basis and has high probability of getting reordered. Produce also has a pretty high reorder rate as people eat them regularly to stay healthy."
   ]
  },
  {
   "cell_type": "code",
   "execution_count": 80,
   "metadata": {},
   "outputs": [
    {
     "data": {
      "text/plain": [
       "<matplotlib.text.Text at 0x113475278>"
      ]
     },
     "execution_count": 80,
     "metadata": {},
     "output_type": "execute_result"
    },
    {
     "data": {
      "image/png": "[encoded data removed]",
      "text/plain": [
       "<matplotlib.figure.Figure at 0x10eccb0b8>"
      ]
     },
     "metadata": {},
     "output_type": "display_data"
    }
   ],
   "source": [
    "#plot a graph to indicate the relationship between add to cart order and reorder rate\n",
    "sns.regplot(x = 'average_position_in_cart',y = 'reorder_rate',data = df_products2,\n",
    "           color='blue',order = 2,fit_reg=False)\n",
    "plt.xticks(rotation = 90,size = 12)\n",
    "plt.xlabel('Position in Cart',size = 12)\n",
    "plt.ylabel('Reorder Rate',size = 12)\n",
    "plt.title(\"Does product's position in cart and reorder rate has any correlation?\")"
   ]
  },
  {
   "cell_type": "markdown",
   "metadata": {},
   "source": [
    "For products that are added to cart pretty early, they tend to have higher reorder rate and if they are added later on, they tend to have lower reorder rate."
   ]
  },
  {
   "cell_type": "markdown",
   "metadata": {},
   "source": [
    "# User-Products Features"
   ]
  },
  {
   "cell_type": "markdown",
   "metadata": {},
   "source": [
    "Features to consider:\n",
    "   1. Number of orders in which the user purchases the item\n",
    "   2. Days since the user last purchased the item\n",
    "   3. Position of product per user \n",
    "   4. Has the user purchased the item today?"
   ]
  },
  {
   "cell_type": "code",
   "execution_count": 81,
   "metadata": {
    "collapsed": true
   },
   "outputs": [],
   "source": [
    "#merge first aisle,products, and department:\n",
    "aisle_products = pd.merge(products,aisles,on='aisle_id',how='left')\n",
    "aisle_products_dept = pd.merge(aisle_products,departments,on='department_id',how='left')\n",
    "prior_order_merged = pd.merge(aisle_products_dept,prior_order,on='product_id',how='right')\n",
    "user_products = pd.merge(orders,prior_order_merged,on='order_id',how='right')"
   ]
  },
  {
   "cell_type": "code",
   "execution_count": 82,
   "metadata": {
    "collapsed": true
   },
   "outputs": [],
   "source": [
    "user_products['user_product_id'] = user_products.product_id + user_products.user_id*100000\n",
    "user_products = user_products.groupby('user_product_id').agg({'order_id':[\n",
    "    'size','last'],'add_to_cart_order':'mean'})"
   ]
  },
  {
   "cell_type": "code",
   "execution_count": 83,
   "metadata": {
    "collapsed": true
   },
   "outputs": [],
   "source": [
    "user_products.columns = ['Number_of_orders',\n",
    "                         'Last_order_id','average_position_in_cart']"
   ]
  },
  {
   "cell_type": "code",
   "execution_count": 84,
   "metadata": {},
   "outputs": [
    {
     "data": {
      "text/html": [
       "<div>\n",
       "<style>\n",
       "    .dataframe thead tr:only-child th {\n",
       "        text-align: right;\n",
       "    }\n",
       "\n",
       "    .dataframe thead th {\n",
       "        text-align: left;\n",
       "    }\n",
       "\n",
       "    .dataframe tbody tr th {\n",
       "        vertical-align: top;\n",
       "    }\n",
       "</style>\n",
       "<table border=\"1\" class=\"dataframe\">\n",
       "  <thead>\n",
       "    <tr style=\"text-align: right;\">\n",
       "      <th></th>\n",
       "      <th>Number_of_orders</th>\n",
       "      <th>Last_order_id</th>\n",
       "      <th>average_position_in_cart</th>\n",
       "    </tr>\n",
       "    <tr>\n",
       "      <th>user_product_id</th>\n",
       "      <th></th>\n",
       "      <th></th>\n",
       "      <th></th>\n",
       "    </tr>\n",
       "  </thead>\n",
       "  <tbody>\n",
       "    <tr>\n",
       "      <th>100196</th>\n",
       "      <td>10</td>\n",
       "      <td>2550362</td>\n",
       "      <td>1.400000</td>\n",
       "    </tr>\n",
       "    <tr>\n",
       "      <th>110258</th>\n",
       "      <td>9</td>\n",
       "      <td>2550362</td>\n",
       "      <td>3.333333</td>\n",
       "    </tr>\n",
       "  </tbody>\n",
       "</table>\n",
       "</div>"
      ],
      "text/plain": [
       "                 Number_of_orders  Last_order_id  average_position_in_cart\n",
       "user_product_id                                                           \n",
       "100196                         10        2550362                  1.400000\n",
       "110258                          9        2550362                  3.333333"
      ]
     },
     "execution_count": 84,
     "metadata": {},
     "output_type": "execute_result"
    }
   ],
   "source": [
    "user_products.head(2)"
   ]
  },
  {
   "cell_type": "markdown",
   "metadata": {},
   "source": [
    "# Train - Test Split"
   ]
  },
  {
   "cell_type": "markdown",
   "metadata": {},
   "source": [
    "The training order products data above should be used to split between training (80%) and testing (20%) in order to validate the accuracy of the model created. Since the data is a lot, to expedite the process, we will take a sample of 500 users."
   ]
  },
  {
   "cell_type": "code",
   "execution_count": 85,
   "metadata": {},
   "outputs": [
    {
     "name": "stdout",
     "output_type": "stream",
     "text": [
      "len training_orders =  (131209, 8)\n",
      "unique users len =  131209\n",
      "sampled users =  1000\n",
      "len training_orders after sampling =  (1000, 8)\n"
     ]
    }
   ],
   "source": [
    "#only take 1000 sample of user ids in orders dataset\n",
    "training_orders = orders[orders.eval_set == 'train']\n",
    "print('len training_orders = ',training_orders.shape)\n",
    "unique_users = training_orders['user_id'].unique()\n",
    "print('unique users len = ',len(unique_users))\n",
    "import random\n",
    "sampled_users = random.sample(list(unique_users),1000)\n",
    "print('sampled users = ',len(sampled_users))\n",
    "training_orders = training_orders[training_orders['user_id'].isin(sampled_users)]\n",
    "print('len training_orders after sampling = ',training_orders.shape)"
   ]
  },
  {
   "cell_type": "code",
   "execution_count": 87,
   "metadata": {
    "collapsed": true
   },
   "outputs": [],
   "source": [
    "from sklearn.model_selection import train_test_split"
   ]
  },
  {
   "cell_type": "code",
   "execution_count": 88,
   "metadata": {},
   "outputs": [],
   "source": [
    "train,cv = train_test_split(training_orders,test_size=0.2)"
   ]
  },
  {
   "cell_type": "code",
   "execution_count": 89,
   "metadata": {},
   "outputs": [
    {
     "data": {
      "text/html": [
       "<div>\n",
       "<style>\n",
       "    .dataframe thead tr:only-child th {\n",
       "        text-align: right;\n",
       "    }\n",
       "\n",
       "    .dataframe thead th {\n",
       "        text-align: left;\n",
       "    }\n",
       "\n",
       "    .dataframe tbody tr th {\n",
       "        vertical-align: top;\n",
       "    }\n",
       "</style>\n",
       "<table border=\"1\" class=\"dataframe\">\n",
       "  <thead>\n",
       "    <tr style=\"text-align: right;\">\n",
       "      <th></th>\n",
       "      <th>order_id</th>\n",
       "      <th>user_id</th>\n",
       "      <th>eval_set</th>\n",
       "      <th>order_number</th>\n",
       "      <th>order_dow</th>\n",
       "      <th>order_hour_of_day</th>\n",
       "      <th>days_since_prior_order</th>\n",
       "      <th>average_order_hour_of_day</th>\n",
       "    </tr>\n",
       "  </thead>\n",
       "  <tbody>\n",
       "    <tr>\n",
       "      <th>140686</th>\n",
       "      <td>1730778</td>\n",
       "      <td>8444</td>\n",
       "      <td>train</td>\n",
       "      <td>6</td>\n",
       "      <td>2</td>\n",
       "      <td>9</td>\n",
       "      <td>30.0</td>\n",
       "      <td>12.666667</td>\n",
       "    </tr>\n",
       "    <tr>\n",
       "      <th>826857</th>\n",
       "      <td>220707</td>\n",
       "      <td>49734</td>\n",
       "      <td>train</td>\n",
       "      <td>15</td>\n",
       "      <td>0</td>\n",
       "      <td>16</td>\n",
       "      <td>30.0</td>\n",
       "      <td>15.200000</td>\n",
       "    </tr>\n",
       "  </tbody>\n",
       "</table>\n",
       "</div>"
      ],
      "text/plain": [
       "        order_id  user_id eval_set  order_number  order_dow  \\\n",
       "140686   1730778     8444    train             6          2   \n",
       "826857    220707    49734    train            15          0   \n",
       "\n",
       "        order_hour_of_day  days_since_prior_order  average_order_hour_of_day  \n",
       "140686                  9                    30.0                  12.666667  \n",
       "826857                 16                    30.0                  15.200000  "
      ]
     },
     "execution_count": 89,
     "metadata": {},
     "output_type": "execute_result"
    }
   ],
   "source": [
    "cv.head(2)"
   ]
  },
  {
   "cell_type": "code",
   "execution_count": 90,
   "metadata": {
    "collapsed": true
   },
   "outputs": [],
   "source": [
    "test = orders[orders.eval_set == 'test']"
   ]
  },
  {
   "cell_type": "code",
   "execution_count": 91,
   "metadata": {},
   "outputs": [
    {
     "data": {
      "text/html": [
       "<div>\n",
       "<style>\n",
       "    .dataframe thead tr:only-child th {\n",
       "        text-align: right;\n",
       "    }\n",
       "\n",
       "    .dataframe thead th {\n",
       "        text-align: left;\n",
       "    }\n",
       "\n",
       "    .dataframe tbody tr th {\n",
       "        vertical-align: top;\n",
       "    }\n",
       "</style>\n",
       "<table border=\"1\" class=\"dataframe\">\n",
       "  <thead>\n",
       "    <tr style=\"text-align: right;\">\n",
       "      <th></th>\n",
       "      <th>order_id</th>\n",
       "      <th>user_id</th>\n",
       "      <th>eval_set</th>\n",
       "      <th>order_number</th>\n",
       "      <th>order_dow</th>\n",
       "      <th>order_hour_of_day</th>\n",
       "      <th>days_since_prior_order</th>\n",
       "      <th>average_order_hour_of_day</th>\n",
       "    </tr>\n",
       "  </thead>\n",
       "  <tbody>\n",
       "    <tr>\n",
       "      <th>38</th>\n",
       "      <td>2774568</td>\n",
       "      <td>3</td>\n",
       "      <td>test</td>\n",
       "      <td>13</td>\n",
       "      <td>5</td>\n",
       "      <td>15</td>\n",
       "      <td>11.0</td>\n",
       "      <td>16.307692</td>\n",
       "    </tr>\n",
       "    <tr>\n",
       "      <th>44</th>\n",
       "      <td>329954</td>\n",
       "      <td>4</td>\n",
       "      <td>test</td>\n",
       "      <td>6</td>\n",
       "      <td>3</td>\n",
       "      <td>12</td>\n",
       "      <td>30.0</td>\n",
       "      <td>12.500000</td>\n",
       "    </tr>\n",
       "  </tbody>\n",
       "</table>\n",
       "</div>"
      ],
      "text/plain": [
       "    order_id  user_id eval_set  order_number  order_dow  order_hour_of_day  \\\n",
       "38   2774568        3     test            13          5                 15   \n",
       "44    329954        4     test             6          3                 12   \n",
       "\n",
       "    days_since_prior_order  average_order_hour_of_day  \n",
       "38                    11.0                  16.307692  \n",
       "44                    30.0                  12.500000  "
      ]
     },
     "execution_count": 91,
     "metadata": {},
     "output_type": "execute_result"
    }
   ],
   "source": [
    "test.head(2)"
   ]
  },
  {
   "cell_type": "code",
   "execution_count": 92,
   "metadata": {},
   "outputs": [
    {
     "name": "stdout",
     "output_type": "stream",
     "text": [
      "800\n",
      "200\n",
      "75000\n",
      "(8609, 4)\n",
      "(2100, 4)\n"
     ]
    }
   ],
   "source": [
    "#look at the train,cv,and test data:\n",
    "train_order_id_list = train['order_id'].tolist()\n",
    "cv_order_id_list = cv['order_id'].tolist()\n",
    "test_order_id_list = test['order_id'].tolist()\n",
    "print(len(train_order_id_list))\n",
    "print(len(cv_order_id_list))\n",
    "print(len(test_order_id_list))\n",
    "#figure out the data in train data and test data\n",
    "#1 order can have multiple products \n",
    "#take only the order id from the order_products_train.csv that are in the training set.\n",
    "\n",
    "train_data = order_products_train[order_products_train['order_id'].isin(train_order_id_list)]\n",
    "train_data.set_index(['order_id', 'product_id'], inplace=True, drop=False)\n",
    "cv_data = order_products_train[order_products_train['order_id'].isin(cv_order_id_list)]\n",
    "cv_data.set_index(['order_id','product_id'],inplace=True,drop=False)\n",
    "print(train_data.shape)\n",
    "print(cv_data.shape)"
   ]
  },
  {
   "cell_type": "code",
   "execution_count": 93,
   "metadata": {},
   "outputs": [
    {
     "data": {
      "text/html": [
       "<div>\n",
       "<style>\n",
       "    .dataframe thead tr:only-child th {\n",
       "        text-align: right;\n",
       "    }\n",
       "\n",
       "    .dataframe thead th {\n",
       "        text-align: left;\n",
       "    }\n",
       "\n",
       "    .dataframe tbody tr th {\n",
       "        vertical-align: top;\n",
       "    }\n",
       "</style>\n",
       "<table border=\"1\" class=\"dataframe\">\n",
       "  <thead>\n",
       "    <tr style=\"text-align: right;\">\n",
       "      <th></th>\n",
       "      <th></th>\n",
       "      <th>order_id</th>\n",
       "      <th>product_id</th>\n",
       "      <th>add_to_cart_order</th>\n",
       "      <th>reordered</th>\n",
       "    </tr>\n",
       "    <tr>\n",
       "      <th>order_id</th>\n",
       "      <th>product_id</th>\n",
       "      <th></th>\n",
       "      <th></th>\n",
       "      <th></th>\n",
       "      <th></th>\n",
       "    </tr>\n",
       "  </thead>\n",
       "  <tbody>\n",
       "    <tr>\n",
       "      <th rowspan=\"4\" valign=\"top\">1571</th>\n",
       "      <th>1194</th>\n",
       "      <td>1571</td>\n",
       "      <td>1194</td>\n",
       "      <td>1</td>\n",
       "      <td>0</td>\n",
       "    </tr>\n",
       "    <tr>\n",
       "      <th>778</th>\n",
       "      <td>1571</td>\n",
       "      <td>778</td>\n",
       "      <td>2</td>\n",
       "      <td>0</td>\n",
       "    </tr>\n",
       "    <tr>\n",
       "      <th>28199</th>\n",
       "      <td>1571</td>\n",
       "      <td>28199</td>\n",
       "      <td>3</td>\n",
       "      <td>0</td>\n",
       "    </tr>\n",
       "    <tr>\n",
       "      <th>37067</th>\n",
       "      <td>1571</td>\n",
       "      <td>37067</td>\n",
       "      <td>4</td>\n",
       "      <td>0</td>\n",
       "    </tr>\n",
       "    <tr>\n",
       "      <th>10859</th>\n",
       "      <th>35042</th>\n",
       "      <td>10859</td>\n",
       "      <td>35042</td>\n",
       "      <td>1</td>\n",
       "      <td>1</td>\n",
       "    </tr>\n",
       "  </tbody>\n",
       "</table>\n",
       "</div>"
      ],
      "text/plain": [
       "                     order_id  product_id  add_to_cart_order  reordered\n",
       "order_id product_id                                                    \n",
       "1571     1194            1571        1194                  1          0\n",
       "         778             1571         778                  2          0\n",
       "         28199           1571       28199                  3          0\n",
       "         37067           1571       37067                  4          0\n",
       "10859    35042          10859       35042                  1          1"
      ]
     },
     "execution_count": 93,
     "metadata": {},
     "output_type": "execute_result"
    }
   ],
   "source": [
    "train_data.head()"
   ]
  },
  {
   "cell_type": "code",
   "execution_count": 94,
   "metadata": {
    "collapsed": true
   },
   "outputs": [],
   "source": [
    "train_data2 = pd.merge(train_data,orders[['order_id','user_id']],on='order_id',how='left')\n",
    "cv_data2= pd.merge(cv_data,orders[['order_id','user_id']],on='order_id',how='left')"
   ]
  },
  {
   "cell_type": "code",
   "execution_count": 95,
   "metadata": {},
   "outputs": [
    {
     "data": {
      "text/html": [
       "<div>\n",
       "<style>\n",
       "    .dataframe thead tr:only-child th {\n",
       "        text-align: right;\n",
       "    }\n",
       "\n",
       "    .dataframe thead th {\n",
       "        text-align: left;\n",
       "    }\n",
       "\n",
       "    .dataframe tbody tr th {\n",
       "        vertical-align: top;\n",
       "    }\n",
       "</style>\n",
       "<table border=\"1\" class=\"dataframe\">\n",
       "  <thead>\n",
       "    <tr style=\"text-align: right;\">\n",
       "      <th></th>\n",
       "      <th>order_id</th>\n",
       "      <th>product_id</th>\n",
       "      <th>add_to_cart_order</th>\n",
       "      <th>reordered</th>\n",
       "      <th>user_id</th>\n",
       "    </tr>\n",
       "  </thead>\n",
       "  <tbody>\n",
       "    <tr>\n",
       "      <th>0</th>\n",
       "      <td>1571</td>\n",
       "      <td>1194</td>\n",
       "      <td>1</td>\n",
       "      <td>0</td>\n",
       "      <td>102719</td>\n",
       "    </tr>\n",
       "    <tr>\n",
       "      <th>1</th>\n",
       "      <td>1571</td>\n",
       "      <td>778</td>\n",
       "      <td>2</td>\n",
       "      <td>0</td>\n",
       "      <td>102719</td>\n",
       "    </tr>\n",
       "  </tbody>\n",
       "</table>\n",
       "</div>"
      ],
      "text/plain": [
       "   order_id  product_id  add_to_cart_order  reordered  user_id\n",
       "0      1571        1194                  1          0   102719\n",
       "1      1571         778                  2          0   102719"
      ]
     },
     "execution_count": 95,
     "metadata": {},
     "output_type": "execute_result"
    }
   ],
   "source": [
    "train_data2.head(2)"
   ]
  },
  {
   "cell_type": "code",
   "execution_count": 96,
   "metadata": {
    "collapsed": true
   },
   "outputs": [],
   "source": [
    "train_data2.set_index(['order_id', 'product_id'], inplace=True, drop=False)\n",
    "cv_data2.set_index(['order_id','product_id'],inplace=True,drop=False)"
   ]
  },
  {
   "cell_type": "markdown",
   "metadata": {},
   "source": [
    "# Dataframe with End Features"
   ]
  },
  {
   "cell_type": "code",
   "execution_count": 97,
   "metadata": {
    "collapsed": true
   },
   "outputs": [],
   "source": [
    "#create a function to figure out if the prior data is in the \n",
    "#train data to be able to know if the person reorders the item or not.\n",
    "\n",
    "def build_df(str_train_or_test_df):\n",
    "    if str_train_or_test_df =='train':\n",
    "        train_or_test_df = train_data2\n",
    "    elif str_train_or_test_df == 'cv':\n",
    "        train_or_test_df = cv_data2\n",
    "    elif str_train_or_test_df == 'test':\n",
    "        train_or_test_df = test\n",
    "    order_list = []\n",
    "    product_list = []\n",
    "    check_if_prior_in_train = []\n",
    "   \n",
    "    for row in train_or_test_df.itertuples():\n",
    "        order_id = row.order_id\n",
    "        user_id = row.user_id\n",
    "        #find out all the products that the user has bought in the past\n",
    "        list_products = users.All_products[user_id] \n",
    "        product_list += list_products\n",
    "        order_list += [order_id] * len(list_products)\n",
    "   \n",
    "        if str_train_or_test_df =='train':\n",
    "            #for every product in the say 1000 products PER order, check if the prior is in train\n",
    "            check_if_prior_in_train += [(order_id, product) in train_data2.index for product in list_products]\n",
    "        elif str_train_or_test_df =='cv':\n",
    "            #for every product in the say 1000 products PER order, check if the prior is in train\n",
    "            check_if_prior_in_train += [(order_id, product) in cv_data2.index for product in list_products]\n",
    "        else:\n",
    "            check_if_prior_in_train += [0]\n",
    "        \n",
    "           \n",
    "    print('passed')\n",
    "\n",
    "    temp_df = pd.DataFrame({'order_id':order_list, 'product_id':product_list}, dtype=np.int32)\n",
    "    print(temp_df.shape)\n",
    "    check_if_prior_in_train = np.array(check_if_prior_in_train, dtype=np.int8)\n",
    "    del order_list\n",
    "    del product_list\n",
    "    \n",
    "    final_df = pd.merge(temp_df,orders,on='order_id',how='left')\n",
    "    final_df['Total_Orders_per_user'] = final_df.user_id.map(users.Total_orders)\n",
    "    final_df['Total_Number_of_items'] = final_df.user_id.map(users.total_items)\n",
    "    final_df['average_days_between_orders'] = final_df.user_id.map(users.average_days_between_orders)\n",
    "    final_df['Average_basket_size'] =  final_df.user_id.map(users.average_basket)\n",
    "    \n",
    "    final_df['order_hour_of_day'] = final_df.order_id.map(orders.order_hour_of_day)\n",
    "    final_df['days_since_prior_order'] = final_df.order_id.map(orders.days_since_prior_order)\n",
    "    \n",
    "    products_df = products.set_index('product_id') #for mapping of aisle id and department id\n",
    "    final_df['aisle_id'] = final_df.product_id.map(products_df.aisle_id)\n",
    "    final_df['department_id'] = final_df.product_id.map(products_df.department_id)\n",
    "    final_df['total_order_per_product'] = final_df.product_id.map(df_products_final.total_order)\n",
    "    final_df['reorder_rate_per_product'] = final_df.product_id.map(df_products_final.reorder_rate)\n",
    "\n",
    "    final_df['user_product_id'] = final_df.user_id * 100000 + final_df.product_id\n",
    "    final_df['Number_of_products_per_user'] = final_df.user_product_id.map(user_products.Number_of_orders)\n",
    "    final_df['Products_order_ratio_per_user'] = (final_df.Number_of_products_per_user / final_df.Total_Orders_per_user)\n",
    "    final_df['Last_order_id_per_product_per_user'] = final_df.user_product_id.map(user_products.Last_order_id)\n",
    "    final_df['ave_pos_in_cart_per_product_per_user'] = final_df.user_product_id.map(user_products.average_position_in_cart) \n",
    "    \n",
    "    orders_2 = orders.copy() #for mapping\n",
    "    orders_2.set_index('order_id',inplace=True) \n",
    "    final_df['userproduct_orders_since_last'] = final_df.Total_Orders_per_user - final_df.Last_order_id_per_product_per_user.map(orders_2.order_number)\n",
    "    final_df['userproduct_delta_hour_vs_last'] = abs(final_df.order_hour_of_day - final_df.Last_order_id_per_product_per_user.map(orders_2.order_hour_of_day).map(lambda x: min(x, 24-x)))\n",
    "    return (final_df,check_if_prior_in_train)"
   ]
  },
  {
   "cell_type": "code",
   "execution_count": 98,
   "metadata": {
    "scrolled": true
   },
   "outputs": [
    {
     "name": "stdout",
     "output_type": "stream",
     "text": [
      "passed\n",
      "(693384, 2)\n"
     ]
    }
   ],
   "source": [
    "tr,y_tr = build_df('train')"
   ]
  },
  {
   "cell_type": "code",
   "execution_count": 99,
   "metadata": {
    "collapsed": true
   },
   "outputs": [],
   "source": [
    "tr['labels'] = y_tr"
   ]
  },
  {
   "cell_type": "code",
   "execution_count": 100,
   "metadata": {
    "collapsed": true
   },
   "outputs": [],
   "source": [
    "#replace the days since prior order from NaN to -1 in training data:\n",
    "tr.days_since_prior_order.fillna(-1,inplace=True)"
   ]
  },
  {
   "cell_type": "code",
   "execution_count": 101,
   "metadata": {},
   "outputs": [
    {
     "data": {
      "text/html": [
       "<div>\n",
       "<style>\n",
       "    .dataframe thead tr:only-child th {\n",
       "        text-align: right;\n",
       "    }\n",
       "\n",
       "    .dataframe thead th {\n",
       "        text-align: left;\n",
       "    }\n",
       "\n",
       "    .dataframe tbody tr th {\n",
       "        vertical-align: top;\n",
       "    }\n",
       "</style>\n",
       "<table border=\"1\" class=\"dataframe\">\n",
       "  <thead>\n",
       "    <tr style=\"text-align: right;\">\n",
       "      <th></th>\n",
       "      <th>order_id</th>\n",
       "      <th>product_id</th>\n",
       "      <th>user_id</th>\n",
       "      <th>eval_set</th>\n",
       "      <th>order_number</th>\n",
       "      <th>order_dow</th>\n",
       "      <th>order_hour_of_day</th>\n",
       "      <th>days_since_prior_order</th>\n",
       "      <th>average_order_hour_of_day</th>\n",
       "      <th>Total_Orders_per_user</th>\n",
       "      <th>...</th>\n",
       "      <th>total_order_per_product</th>\n",
       "      <th>reorder_rate_per_product</th>\n",
       "      <th>user_product_id</th>\n",
       "      <th>Number_of_products_per_user</th>\n",
       "      <th>Products_order_ratio_per_user</th>\n",
       "      <th>Last_order_id_per_product_per_user</th>\n",
       "      <th>ave_pos_in_cart_per_product_per_user</th>\n",
       "      <th>userproduct_orders_since_last</th>\n",
       "      <th>userproduct_delta_hour_vs_last</th>\n",
       "      <th>labels</th>\n",
       "    </tr>\n",
       "  </thead>\n",
       "  <tbody>\n",
       "    <tr>\n",
       "      <th>0</th>\n",
       "      <td>1571</td>\n",
       "      <td>27521</td>\n",
       "      <td>102719</td>\n",
       "      <td>train</td>\n",
       "      <td>32</td>\n",
       "      <td>2</td>\n",
       "      <td>6</td>\n",
       "      <td>30.0</td>\n",
       "      <td>14.46875</td>\n",
       "      <td>32</td>\n",
       "      <td>...</td>\n",
       "      <td>43067</td>\n",
       "      <td>0.695103</td>\n",
       "      <td>10271927521</td>\n",
       "      <td>1</td>\n",
       "      <td>0.03125</td>\n",
       "      <td>2928125</td>\n",
       "      <td>7.0</td>\n",
       "      <td>1</td>\n",
       "      <td>0</td>\n",
       "      <td>0</td>\n",
       "    </tr>\n",
       "    <tr>\n",
       "      <th>1</th>\n",
       "      <td>1571</td>\n",
       "      <td>46979</td>\n",
       "      <td>102719</td>\n",
       "      <td>train</td>\n",
       "      <td>32</td>\n",
       "      <td>2</td>\n",
       "      <td>6</td>\n",
       "      <td>30.0</td>\n",
       "      <td>14.46875</td>\n",
       "      <td>32</td>\n",
       "      <td>...</td>\n",
       "      <td>67283</td>\n",
       "      <td>0.618061</td>\n",
       "      <td>10271946979</td>\n",
       "      <td>1</td>\n",
       "      <td>0.03125</td>\n",
       "      <td>2981255</td>\n",
       "      <td>5.0</td>\n",
       "      <td>5</td>\n",
       "      <td>1</td>\n",
       "      <td>0</td>\n",
       "    </tr>\n",
       "  </tbody>\n",
       "</table>\n",
       "<p>2 rows × 25 columns</p>\n",
       "</div>"
      ],
      "text/plain": [
       "   order_id  product_id  user_id eval_set  order_number  order_dow  \\\n",
       "0      1571       27521   102719    train            32          2   \n",
       "1      1571       46979   102719    train            32          2   \n",
       "\n",
       "   order_hour_of_day  days_since_prior_order  average_order_hour_of_day  \\\n",
       "0                  6                    30.0                   14.46875   \n",
       "1                  6                    30.0                   14.46875   \n",
       "\n",
       "   Total_Orders_per_user   ...    total_order_per_product  \\\n",
       "0                     32   ...                      43067   \n",
       "1                     32   ...                      67283   \n",
       "\n",
       "   reorder_rate_per_product  user_product_id  Number_of_products_per_user  \\\n",
       "0                  0.695103      10271927521                            1   \n",
       "1                  0.618061      10271946979                            1   \n",
       "\n",
       "   Products_order_ratio_per_user  Last_order_id_per_product_per_user  \\\n",
       "0                        0.03125                             2928125   \n",
       "1                        0.03125                             2981255   \n",
       "\n",
       "   ave_pos_in_cart_per_product_per_user  userproduct_orders_since_last  \\\n",
       "0                                   7.0                              1   \n",
       "1                                   5.0                              5   \n",
       "\n",
       "   userproduct_delta_hour_vs_last  labels  \n",
       "0                               0       0  \n",
       "1                               1       0  \n",
       "\n",
       "[2 rows x 25 columns]"
      ]
     },
     "execution_count": 101,
     "metadata": {},
     "output_type": "execute_result"
    }
   ],
   "source": [
    "tr.head(2)\n"
   ]
  },
  {
   "cell_type": "code",
   "execution_count": 102,
   "metadata": {},
   "outputs": [
    {
     "name": "stdout",
     "output_type": "stream",
     "text": [
      "passed\n",
      "(167236, 2)\n"
     ]
    }
   ],
   "source": [
    "cv,y_cv = build_df('cv')"
   ]
  },
  {
   "cell_type": "code",
   "execution_count": 103,
   "metadata": {
    "collapsed": true
   },
   "outputs": [],
   "source": [
    "cv['labels'] = y_cv"
   ]
  },
  {
   "cell_type": "code",
   "execution_count": 104,
   "metadata": {
    "collapsed": true
   },
   "outputs": [],
   "source": [
    "cv['days_since_prior_order'].fillna(-1,inplace=True)"
   ]
  },
  {
   "cell_type": "code",
   "execution_count": 105,
   "metadata": {},
   "outputs": [
    {
     "data": {
      "text/plain": [
       "(167236, 25)"
      ]
     },
     "execution_count": 105,
     "metadata": {},
     "output_type": "execute_result"
    }
   ],
   "source": [
    "cv.shape"
   ]
  },
  {
   "cell_type": "code",
   "execution_count": 106,
   "metadata": {},
   "outputs": [
    {
     "name": "stdout",
     "output_type": "stream",
     "text": [
      "passed\n",
      "(4833292, 2)\n"
     ]
    }
   ],
   "source": [
    "test_df,_ = build_df('test')"
   ]
  },
  {
   "cell_type": "code",
   "execution_count": 107,
   "metadata": {
    "collapsed": true
   },
   "outputs": [],
   "source": [
    "test_df['days_since_prior_order'].fillna(-1,inplace=True)"
   ]
  },
  {
   "cell_type": "code",
   "execution_count": 108,
   "metadata": {},
   "outputs": [
    {
     "data": {
      "text/plain": [
       "(4833292, 24)"
      ]
     },
     "execution_count": 108,
     "metadata": {},
     "output_type": "execute_result"
    }
   ],
   "source": [
    "test_df.shape"
   ]
  },
  {
   "cell_type": "code",
   "execution_count": 109,
   "metadata": {
    "collapsed": true
   },
   "outputs": [],
   "source": [
    "\"\"\"\n",
    "Refine the data so that the categorical features\n",
    "such as order day of week, \n",
    "order hour of day, aisle id, and department id are also included\n",
    "\"\"\"\n",
    "#X Variables in training data:\n",
    "\n",
    "features = [           \n",
    "'order_dow', #categorical         \n",
    "'order_hour_of_day', #categorical            \n",
    "'days_since_prior_order',                 \n",
    "'Total_Orders_per_user',                  \n",
    "'aisle_id', #THIS IS CATEGORICAL                          \n",
    "'department_id', #THIS IS CATEGORICAL                    \n",
    "'Total_Number_of_items',       \n",
    "'average_days_between_orders',         \n",
    "'Average_basket_size',                       \n",
    "'total_order_per_product',\n",
    "'reorder_rate_per_product',\n",
    "'Number_of_products_per_user',\n",
    "'Products_order_ratio_per_user',\n",
    "'ave_pos_in_cart_per_product_per_user',\n",
    "'userproduct_orders_since_last','userproduct_delta_hour_vs_last'\n",
    "]\n",
    "X_train = tr[features]\n",
    "X_cv = cv[features]\n",
    "X_test = test_df[features]"
   ]
  },
  {
   "cell_type": "markdown",
   "metadata": {},
   "source": [
    "# Final DataFrame"
   ]
  },
  {
   "cell_type": "code",
   "execution_count": 110,
   "metadata": {},
   "outputs": [
    {
     "name": "stdout",
     "output_type": "stream",
     "text": [
      "Training data shape: (693384, 65)\n",
      "Testing data shape: (4833292, 65)\n"
     ]
    }
   ],
   "source": [
    "X_train_pre_dummy = X_train.copy()\n",
    "df_department_id = pd.get_dummies(X_train_pre_dummy['department_id'],prefix='department_id',\n",
    "                                  prefix_sep='_',drop_first=True)\n",
    "X_train_1 = X_train_pre_dummy.join(df_department_id)\n",
    "\n",
    "df_order_dow = pd.get_dummies(X_train_pre_dummy['order_dow'],prefix='week',\n",
    "                              prefix_sep='_',drop_first=True)\n",
    "df_order_hour_of_day = pd.get_dummies(X_train_pre_dummy['order_hour_of_day'],\n",
    "                                      prefix = 'Hour', prefix_sep = '_',drop_first=True)\n",
    "X_train_2 = X_train_1.join(df_order_dow)\n",
    "X_train_final = X_train_2.join(df_order_hour_of_day)\n",
    "X_train_final['Hour_3'] = 0\n",
    "X_train_final['Hour_4'] = 0\n",
    "X_train_final['Hour_5'] = 0\n",
    "\n",
    "print('Training data shape:', X_train_final.shape)\n",
    "\n",
    "\n",
    "\n",
    "#Now make the categorical features in test dataframe:\n",
    "\n",
    "X_test_pre_dummy = X_test.copy()\n",
    "test_department_id = pd.get_dummies(X_test_pre_dummy['department_id'],prefix='department_id',\n",
    "                                  prefix_sep='_',drop_first=True)\n",
    "X_test_1 = X_test_pre_dummy.join(test_department_id)\n",
    "\n",
    "test_order_dow = pd.get_dummies(X_test_pre_dummy['order_dow'],prefix='week',\n",
    "                              prefix_sep='_',drop_first=True)\n",
    "test_order_hour_of_day = pd.get_dummies(X_test_pre_dummy['order_hour_of_day'],\n",
    "                                      prefix = 'Hour', prefix_sep = '_',drop_first=True)\n",
    "X_test_2 = X_test_1.join(test_order_dow)\n",
    "X_test_final = X_test_2.join(test_order_hour_of_day)\n",
    "\n",
    "#since X_test is missing 3 columns: Hour_1,Hour_2,Hour_6, we have to join them so that they also have 64 features:\n",
    "X_test_final['Hour_1'] = 0\n",
    "X_test_final['Hour_2'] = 0\n",
    "X_test_final['Hour_6'] = 0\n",
    "X_test_final['Hour_3'] = 0\n",
    "X_test_final.drop\n",
    "\n",
    "print('Testing data shape:',X_test_final.shape)"
   ]
  },
  {
   "cell_type": "code",
   "execution_count": 111,
   "metadata": {},
   "outputs": [
    {
     "name": "stdout",
     "output_type": "stream",
     "text": [
      "cv data shape: (167236, 65)\n"
     ]
    }
   ],
   "source": [
    "X_cv_pre_dummy = X_cv.copy()\n",
    "cv_department_id = pd.get_dummies(X_cv_pre_dummy['department_id'],prefix='department_id',\n",
    "                                  prefix_sep='_',drop_first=True)\n",
    "cv_1 = X_cv_pre_dummy.join(df_department_id)\n",
    "\n",
    "cv_order_dow = pd.get_dummies(X_cv_pre_dummy['order_dow'],prefix='week',\n",
    "                              prefix_sep='_',drop_first=True)\n",
    "cv_order_hour_of_day = pd.get_dummies(X_cv_pre_dummy['order_hour_of_day'],\n",
    "                                      prefix = 'Hour', prefix_sep = '_',drop_first=True)\n",
    "cv_2 =cv_1.join(df_order_dow)\n",
    "X_cv_final = cv_2.join(df_order_hour_of_day)\n",
    "X_cv_final['Hour_3'] = 0\n",
    "X_cv_final['Hour_4'] = 0\n",
    "X_cv_final['Hour_5'] = 0\n",
    "\n",
    "print('cv data shape:', X_cv_final.shape)"
   ]
  },
  {
   "cell_type": "markdown",
   "metadata": {},
   "source": [
    "# MACHINE LEARNING #"
   ]
  },
  {
   "cell_type": "markdown",
   "metadata": {},
   "source": [
    "I will be using several machine learning techniques here to predict which products each user is going to reorder. I will also compare several of the techniques in order to find out which algorithm produces the highest accuracy and efficient. By doing so, the algorithm that has the highest accuracy and efficiency would be recommended to Instacart."
   ]
  },
  {
   "cell_type": "markdown",
   "metadata": {},
   "source": [
    "# Dummy Classifier"
   ]
  },
  {
   "cell_type": "code",
   "execution_count": 112,
   "metadata": {},
   "outputs": [
    {
     "name": "stdout",
     "output_type": "stream",
     "text": [
      "accuracy score: 0.87891961061\n",
      "Confusion Matrix: \n",
      "[[146987      0]\n",
      " [ 20249      0]]\n",
      "F1 Score:\n",
      "0.0\n"
     ]
    },
    {
     "name": "stderr",
     "output_type": "stream",
     "text": [
      "/anaconda/lib/python3.6/site-packages/sklearn/metrics/classification.py:1113: UndefinedMetricWarning: F-score is ill-defined and being set to 0.0 due to no predicted samples.\n",
      "  'precision', 'predicted', average, warn_for)\n"
     ]
    },
    {
     "data": {
      "image/png": "[encoded data removed]",
      "text/plain": [
       "<matplotlib.figure.Figure at 0x1024b25f8>"
      ]
     },
     "metadata": {},
     "output_type": "display_data"
    },
    {
     "data": {
      "text/plain": [
       "0.5"
      ]
     },
     "execution_count": 112,
     "metadata": {},
     "output_type": "execute_result"
    }
   ],
   "source": [
    "from sklearn.dummy import DummyClassifier\n",
    "from sklearn.metrics import accuracy_score,f1_score\n",
    "from sklearn.metrics import confusion_matrix\n",
    "from sklearn.metrics import roc_curve,roc_auc_score\n",
    "\n",
    "dummy_classifier = DummyClassifier(strategy=\"most_frequent\",\n",
    "                                  random_state=100)\n",
    "dummy_classifier.fit(X_train_final,tr['labels']) #fit x train and y train\n",
    "\n",
    "#predict the y from the dummy model:\n",
    "y_dummy_predicted = dummy_classifier.predict(X_cv_final)\n",
    "\n",
    "#Get the Accuracy Score for actual and predicted for the cross validated dataset\n",
    "print('accuracy score:',accuracy_score(y_cv,y_dummy_predicted)) \n",
    "#Get the Confusion Matrix:\n",
    "print('Confusion Matrix: ')\n",
    "print(confusion_matrix(y_cv,y_dummy_predicted))\n",
    "print('F1 Score:')\n",
    "print(f1_score(y_cv,y_dummy_predicted))\n",
    "\n",
    "y_pred_dummy_proba = dummy_classifier.predict_proba(X_cv_final)[:,1]\n",
    "fpr,tpr,thresholds=roc_curve(y_cv,y_pred_dummy_proba)\n",
    "plt.plot([0,1],[0,1],'k--')\n",
    "plt.plot(fpr,tpr,label='Dummy Classifier')\n",
    "plt.xlabel('FP rate')\n",
    "plt.ylabel('TP rate')\n",
    "plt.title('Dummy Classifier ROC ')\n",
    "plt.show()\n",
    "\n",
    "roc_auc_score(y_cv,y_pred_dummy_proba)"
   ]
  },
  {
   "cell_type": "markdown",
   "metadata": {},
   "source": [
    "The Dummy Classifier accuracy rate is 87% and the roc auc score is 0.5, which means that the minimum acceptable roc auc score is 0.5.\n",
    "\n",
    "The accuracy rate of 87% here does not mean anything except that 87% of the labels are 0 instead of 1.\n",
    "\n",
    "The F-1 Score is 0 since most of the values here are 0 instead of 1, which means that the precision is 0, which results in an F-1 score of 0.\n",
    "\n",
    "For our upcoming models, we expect our models to have a higher F-1 and roc auc score in comparison to the dummy classifier."
   ]
  },
  {
   "cell_type": "markdown",
   "metadata": {},
   "source": [
    "# Logistic Regression and Features Selection"
   ]
  },
  {
   "cell_type": "code",
   "execution_count": 113,
   "metadata": {
    "collapsed": true
   },
   "outputs": [],
   "source": [
    "#input to logistic regression from training data\n",
    "from sklearn.linear_model import LogisticRegression\n",
    "from sklearn.feature_selection import SelectKBest"
   ]
  },
  {
   "cell_type": "code",
   "execution_count": 114,
   "metadata": {},
   "outputs": [
    {
     "name": "stderr",
     "output_type": "stream",
     "text": [
      "/anaconda/lib/python3.6/site-packages/sklearn/feature_selection/univariate_selection.py:113: UserWarning: Features [44 45 46] are constant.\n",
      "  UserWarning)\n",
      "/anaconda/lib/python3.6/site-packages/sklearn/feature_selection/univariate_selection.py:114: RuntimeWarning: invalid value encountered in true_divide\n",
      "  f = msb / msw\n"
     ]
    }
   ],
   "source": [
    "#Select K best features:\n",
    "select = SelectKBest()\n",
    "selector = select.fit(X_train_final,y_tr)\n",
    "X_train_new = selector.transform(X_train_final)\n",
    "features_score = selector.scores_\n",
    "features_score = pd.DataFrame(features_score)\n",
    "features_score.columns=['score']"
   ]
  },
  {
   "cell_type": "code",
   "execution_count": 115,
   "metadata": {},
   "outputs": [
    {
     "data": {
      "text/plain": [
       "<matplotlib.text.Text at 0x1421d0160>"
      ]
     },
     "execution_count": 115,
     "metadata": {},
     "output_type": "execute_result"
    },
    {
     "data": {
      "image/png": "[encoded data removed]",
      "text/plain": [
       "<matplotlib.figure.Figure at 0x1416152e8>"
      ]
     },
     "metadata": {},
     "output_type": "display_data"
    }
   ],
   "source": [
    "plt.figure(figsize=(20,10))\n",
    "sns.barplot(x=X_train_final.columns,y=features_score['score'])\n",
    "plt.xticks(rotation='vertical')\n",
    "plt.ylabel('Features Score',size=20)\n",
    "plt.xlabel('Features',size=20)\n",
    "plt.title('Feature importances',size=20)"
   ]
  },
  {
   "cell_type": "code",
   "execution_count": 116,
   "metadata": {},
   "outputs": [
    {
     "data": {
      "text/html": [
       "<div>\n",
       "<style>\n",
       "    .dataframe thead tr:only-child th {\n",
       "        text-align: right;\n",
       "    }\n",
       "\n",
       "    .dataframe thead th {\n",
       "        text-align: left;\n",
       "    }\n",
       "\n",
       "    .dataframe tbody tr th {\n",
       "        vertical-align: top;\n",
       "    }\n",
       "</style>\n",
       "<table border=\"1\" class=\"dataframe\">\n",
       "  <thead>\n",
       "    <tr style=\"text-align: right;\">\n",
       "      <th></th>\n",
       "      <th>score</th>\n",
       "      <th>feature</th>\n",
       "    </tr>\n",
       "  </thead>\n",
       "  <tbody>\n",
       "    <tr>\n",
       "      <th>0</th>\n",
       "      <td>36.475263</td>\n",
       "      <td>order_dow</td>\n",
       "    </tr>\n",
       "    <tr>\n",
       "      <th>1</th>\n",
       "      <td>9.009393</td>\n",
       "      <td>order_hour_of_day</td>\n",
       "    </tr>\n",
       "    <tr>\n",
       "      <th>2</th>\n",
       "      <td>155.627933</td>\n",
       "      <td>days_since_prior_order</td>\n",
       "    </tr>\n",
       "    <tr>\n",
       "      <th>3</th>\n",
       "      <td>4269.762191</td>\n",
       "      <td>Total_Orders_per_user</td>\n",
       "    </tr>\n",
       "    <tr>\n",
       "      <th>4</th>\n",
       "      <td>191.608336</td>\n",
       "      <td>aisle_id</td>\n",
       "    </tr>\n",
       "  </tbody>\n",
       "</table>\n",
       "</div>"
      ],
      "text/plain": [
       "         score                 feature\n",
       "0    36.475263               order_dow\n",
       "1     9.009393       order_hour_of_day\n",
       "2   155.627933  days_since_prior_order\n",
       "3  4269.762191   Total_Orders_per_user\n",
       "4   191.608336                aisle_id"
      ]
     },
     "execution_count": 116,
     "metadata": {},
     "output_type": "execute_result"
    }
   ],
   "source": [
    "features_score['feature'] = X_train_final.columns\n",
    "features_score.head()"
   ]
  },
  {
   "cell_type": "code",
   "execution_count": 117,
   "metadata": {},
   "outputs": [
    {
     "data": {
      "text/plain": [
       "11"
      ]
     },
     "execution_count": 117,
     "metadata": {},
     "output_type": "execute_result"
    }
   ],
   "source": [
    "less_features = [x for x in features_score.itertuples() if x.score > 1000]\n",
    "len(less_features)"
   ]
  },
  {
   "cell_type": "code",
   "execution_count": 118,
   "metadata": {},
   "outputs": [
    {
     "data": {
      "text/html": [
       "<div>\n",
       "<style>\n",
       "    .dataframe thead tr:only-child th {\n",
       "        text-align: right;\n",
       "    }\n",
       "\n",
       "    .dataframe thead th {\n",
       "        text-align: left;\n",
       "    }\n",
       "\n",
       "    .dataframe tbody tr th {\n",
       "        vertical-align: top;\n",
       "    }\n",
       "</style>\n",
       "<table border=\"1\" class=\"dataframe\">\n",
       "  <thead>\n",
       "    <tr style=\"text-align: right;\">\n",
       "      <th></th>\n",
       "      <th>Index</th>\n",
       "      <th>score</th>\n",
       "      <th>feature</th>\n",
       "    </tr>\n",
       "  </thead>\n",
       "  <tbody>\n",
       "    <tr>\n",
       "      <th>0</th>\n",
       "      <td>3</td>\n",
       "      <td>4269.762191</td>\n",
       "      <td>Total_Orders_per_user</td>\n",
       "    </tr>\n",
       "    <tr>\n",
       "      <th>1</th>\n",
       "      <td>7</td>\n",
       "      <td>1738.197878</td>\n",
       "      <td>average_days_between_orders</td>\n",
       "    </tr>\n",
       "    <tr>\n",
       "      <th>2</th>\n",
       "      <td>8</td>\n",
       "      <td>3481.228166</td>\n",
       "      <td>Average_basket_size</td>\n",
       "    </tr>\n",
       "    <tr>\n",
       "      <th>3</th>\n",
       "      <td>9</td>\n",
       "      <td>10939.213448</td>\n",
       "      <td>total_order_per_product</td>\n",
       "    </tr>\n",
       "    <tr>\n",
       "      <th>4</th>\n",
       "      <td>10</td>\n",
       "      <td>24978.875343</td>\n",
       "      <td>reorder_rate_per_product</td>\n",
       "    </tr>\n",
       "    <tr>\n",
       "      <th>5</th>\n",
       "      <td>11</td>\n",
       "      <td>73530.665215</td>\n",
       "      <td>Number_of_products_per_user</td>\n",
       "    </tr>\n",
       "    <tr>\n",
       "      <th>6</th>\n",
       "      <td>12</td>\n",
       "      <td>141772.279138</td>\n",
       "      <td>Products_order_ratio_per_user</td>\n",
       "    </tr>\n",
       "    <tr>\n",
       "      <th>7</th>\n",
       "      <td>14</td>\n",
       "      <td>31739.777576</td>\n",
       "      <td>userproduct_orders_since_last</td>\n",
       "    </tr>\n",
       "    <tr>\n",
       "      <th>8</th>\n",
       "      <td>18</td>\n",
       "      <td>2122.626367</td>\n",
       "      <td>department_id_4</td>\n",
       "    </tr>\n",
       "    <tr>\n",
       "      <th>9</th>\n",
       "      <td>27</td>\n",
       "      <td>4208.876354</td>\n",
       "      <td>department_id_13</td>\n",
       "    </tr>\n",
       "    <tr>\n",
       "      <th>10</th>\n",
       "      <td>30</td>\n",
       "      <td>1660.294272</td>\n",
       "      <td>department_id_16</td>\n",
       "    </tr>\n",
       "  </tbody>\n",
       "</table>\n",
       "</div>"
      ],
      "text/plain": [
       "    Index          score                        feature\n",
       "0       3    4269.762191          Total_Orders_per_user\n",
       "1       7    1738.197878    average_days_between_orders\n",
       "2       8    3481.228166            Average_basket_size\n",
       "3       9   10939.213448        total_order_per_product\n",
       "4      10   24978.875343       reorder_rate_per_product\n",
       "5      11   73530.665215    Number_of_products_per_user\n",
       "6      12  141772.279138  Products_order_ratio_per_user\n",
       "7      14   31739.777576  userproduct_orders_since_last\n",
       "8      18    2122.626367                department_id_4\n",
       "9      27    4208.876354               department_id_13\n",
       "10     30    1660.294272               department_id_16"
      ]
     },
     "execution_count": 118,
     "metadata": {},
     "output_type": "execute_result"
    }
   ],
   "source": [
    "less_features = pd.DataFrame(less_features)\n",
    "less_features"
   ]
  },
  {
   "cell_type": "code",
   "execution_count": 119,
   "metadata": {
    "collapsed": true
   },
   "outputs": [],
   "source": [
    "less_features_list = list(set(less_features.feature))"
   ]
  },
  {
   "cell_type": "code",
   "execution_count": 120,
   "metadata": {
    "collapsed": true
   },
   "outputs": [],
   "source": [
    "X_train_features = X_train_final[less_features_list]\n",
    "X_cv_features = X_cv_final[less_features_list]"
   ]
  },
  {
   "cell_type": "markdown",
   "metadata": {},
   "source": [
    "The features that are most important in predicting if one is going to reorder a certain products include:\n",
    "1. Number of times the product is ordered\n",
    "2. reorder rate per product\n",
    "3. Number of products per user\n",
    "4. How much of a percentage of total orders is that specific product?\n",
    "5. When is the last time that the user order that specific product?\n",
    "\n",
    "The department id, hours, order day of week, and time between orders do not seem to have significant impact. Thus we would remove them from the model."
   ]
  },
  {
   "cell_type": "markdown",
   "metadata": {},
   "source": [
    "# FOR KAGGLE COMPETITION"
   ]
  },
  {
   "cell_type": "code",
   "execution_count": 121,
   "metadata": {},
   "outputs": [
    {
     "data": {
      "text/plain": [
       "LogisticRegression(C=1.0, class_weight=None, dual=False, fit_intercept=True,\n",
       "          intercept_scaling=1, max_iter=100, multi_class='ovr', n_jobs=1,\n",
       "          penalty='l2', random_state=None, solver='liblinear', tol=0.0001,\n",
       "          verbose=0, warm_start=False)"
      ]
     },
     "execution_count": 121,
     "metadata": {},
     "output_type": "execute_result"
    }
   ],
   "source": [
    "logreg = LogisticRegression()\n",
    "logreg.fit(X_train_features,y_tr)"
   ]
  },
  {
   "cell_type": "code",
   "execution_count": 122,
   "metadata": {
    "collapsed": true
   },
   "outputs": [],
   "source": [
    "test_x_predict_prob = pd.DataFrame()\n",
    "test_x_predict_prob['predict_proba'] = logreg.predict_proba(X_train_features)[:,1]"
   ]
  },
  {
   "cell_type": "code",
   "execution_count": 123,
   "metadata": {
    "collapsed": true
   },
   "outputs": [],
   "source": [
    "reordered_products = pd.DataFrame()\n",
    "reordered_products['order_id'] = test_df['order_id']\n",
    "reordered_products['product_id'] = test_df['product_id']\n",
    "reordered_products['prediction'] = test_x_predict_prob['predict_proba']\n",
    "best_threshold = 0.16\n",
    "reordered_products['predicted_1_or_0'] = reordered_products['prediction'].apply(lambda x: x>best_threshold).astype(np.int8)"
   ]
  },
  {
   "cell_type": "code",
   "execution_count": 124,
   "metadata": {
    "collapsed": true
   },
   "outputs": [],
   "source": [
    "reordered_products_2 = reordered_products[reordered_products.predicted_1_or_0 == 1]\n",
    "reordered_products_2 = reordered_products_2.groupby('order_id')"
   ]
  },
  {
   "cell_type": "code",
   "execution_count": 125,
   "metadata": {
    "collapsed": true
   },
   "outputs": [],
   "source": [
    "TRESHOLD = 0.16\n",
    "\n",
    "d = dict()\n",
    "for row in reordered_products.itertuples():\n",
    "    if row.prediction > TRESHOLD:\n",
    "        try:\n",
    "            d[row.order_id] += ' ' + str(row.product_id)\n",
    "        except:\n",
    "            d[row.order_id] = str(row.product_id)\n",
    "\n",
    "for order in reordered_products.order_id:\n",
    "    if order not in d:\n",
    "        d[order] = 'None'\n",
    "\n",
    "sub = pd.DataFrame.from_dict(d, orient='index')\n",
    "\n",
    "sub.reset_index(inplace=True)\n",
    "sub.columns = ['order_id', 'products']"
   ]
  },
  {
   "cell_type": "markdown",
   "metadata": {},
   "source": [
    "Using Logistic Regression, I got a score of 0.33 for the Kaggle Competition."
   ]
  },
  {
   "cell_type": "markdown",
   "metadata": {},
   "source": [
    "# CROSS VALIDATION USING LOGISTIC REGRESSION"
   ]
  },
  {
   "cell_type": "code",
   "execution_count": 136,
   "metadata": {
    "collapsed": true
   },
   "outputs": [],
   "source": [
    "from sklearn.model_selection import GridSearchCV\n",
    "c_space = np.logspace(-5,8,15)\n",
    "paramgrid = {'C':c_space}"
   ]
  },
  {
   "cell_type": "code",
   "execution_count": 137,
   "metadata": {},
   "outputs": [
    {
     "name": "stdout",
     "output_type": "stream",
     "text": [
      "The best parameters for the model is: {'C': 0.0061054022965853268}\n",
      "The best score for the model is: 0.878589641526\n"
     ]
    }
   ],
   "source": [
    "#check accuracy for model using features that have been deemed to be best:\n",
    "mdl2 = LogisticRegression()\n",
    "mdl_features = GridSearchCV(mdl2,paramgrid,cv=3)\n",
    "mdl_features.fit(X_train_features,y_tr)\n",
    "print('The best parameters for the model is:',mdl_features.best_params_)\n",
    "print('The best score for the model is:',mdl_features.best_score_)"
   ]
  },
  {
   "cell_type": "code",
   "execution_count": null,
   "metadata": {
    "collapsed": true
   },
   "outputs": [],
   "source": [
    "#Fit the Logistic model using the best parameters:\n",
    "logreg = LogisticRegression(C=mdl_features.best_params_['C'])\n",
    "logreg.fit(X_train_features,y_tr)\n",
    "predict_proba_logistic = logreg.predict_proba(X_cv_features)[:,1]\n",
    "predict_proba_logistic_df = pd.DataFrame(predict_proba_logistic)\n",
    "predict_proba_logistic_df['actual'] = y_cv\n",
    "predict_proba_logistic_df.columns = ['predicted_proba','actual']"
   ]
  },
  {
   "cell_type": "code",
   "execution_count": null,
   "metadata": {
    "collapsed": true
   },
   "outputs": [],
   "source": [
    "#choose treshold based on performance measures to get the accuracy and f1 score for the Logistic Model\n",
    "from sklearn.metrics import accuracy_score,f1_score\n",
    "TRESHOLD = [0.1,0.12,0.14,0.16,0.18,0.2,0.22,0.24,0.26,0.28,0.3,0.32,0.34,0.36,0.38,0.4]\n",
    "for tre in TRESHOLD:\n",
    "    predict_proba_logistic_df['predicted_1_or_0']= predict_proba_logistic_df['predicted_proba'].apply(lambda x: x>tre).astype(np.int8)\n",
    "    print('treshold:',tre,'| auc:',roc_auc_score(predict_proba_logistic_df.actual, predict_proba_logistic_df.predicted_1_or_0),\n",
    "          '| accuracy:',accuracy_score(predicted_proba_cv.actual, predicted_proba_cv.predicted_1_or_0),\n",
    "         '| f1_score:',f1_score(predicted_proba_cv.actual, predicted_proba_cv.predicted_1_or_0))"
   ]
  },
  {
   "cell_type": "code",
   "execution_count": null,
   "metadata": {
    "collapsed": true
   },
   "outputs": [],
   "source": [
    "#check the accuracy of the model using the cv. test would be use for kaggle:\n",
    "\n",
    "paramgrid = {'C':c_space}\n",
    "mdl = LogisticRegression()\n",
    "mdl_cv = GridSearchCV(mdl,paramgrid,cv=3)\n",
    "mdl_cv.fit(X_cv_features,y_cv)\n",
    "print('The best parameters for the model is:',mdl_cv.best_params_)\n",
    "print('The best score for the model is:',mdl_cv.best_score_)"
   ]
  },
  {
   "cell_type": "code",
   "execution_count": 138,
   "metadata": {
    "collapsed": true
   },
   "outputs": [],
   "source": [
    "mdl2_final = LogisticRegression(C=mdl_features.best_params_['C'])\n",
    "mdl2_final.fit(X_train_features,y_tr)\n",
    "\n",
    "#get the predicted probabilities of each user product:\n",
    "predicted_proba_features = mdl2_final.predict_proba(X_cv_features)[:,1]\n",
    "predicted_proba_features_df = pd.DataFrame(predicted_proba_features)\n",
    "predicted_proba_features_df['actual'] = y_cv\n",
    "predicted_proba_features_df.columns = ['predicted_proba','actual']"
   ]
  },
  {
   "cell_type": "code",
   "execution_count": 139,
   "metadata": {},
   "outputs": [
    {
     "name": "stdout",
     "output_type": "stream",
     "text": [
      "treshold: 0.1 | auc: 0.69354662467 | accuracy: 0.570026788491 | f1_score: 0.325418640649\n",
      "treshold: 0.12 | auc: 0.707473459071 | accuracy: 0.62108038939 | f1_score: 0.344257375539\n",
      "treshold: 0.14 | auc: 0.710523828727 | accuracy: 0.664055586118 | f1_score: 0.357479414456\n",
      "treshold: 0.16 | auc: 0.710866013451 | accuracy: 0.703879547466 | f1_score: 0.370621727416\n",
      "treshold: 0.18 | auc: 0.712373502467 | accuracy: 0.747548374752 | f1_score: 0.389801847114\n",
      "treshold: 0.2 | auc: 0.702035541767 | accuracy: 0.780836661963 | f1_score: 0.397884084637\n",
      "treshold: 0.22 | auc: 0.689657038661 | accuracy: 0.803726470377 | f1_score: 0.399465768963\n",
      "treshold: 0.24 | auc: 0.678894683033 | accuracy: 0.823805879117 | f1_score: 0.401292262679\n",
      "treshold: 0.26 | auc: 0.671913511139 | accuracy: 0.837732306441 | f1_score: 0.403411963858\n",
      "treshold: 0.28 | auc: 0.661368923827 | accuracy: 0.850821593437 | f1_score: 0.400403768506\n",
      "treshold: 0.3 | auc: 0.65399834881 | accuracy: 0.86499916286 | f1_score: 0.402519384974\n",
      "treshold: 0.32 | auc: 0.63862673396 | accuracy: 0.871774019948 | f1_score: 0.384641873278\n",
      "treshold: 0.34 | auc: 0.626173884672 | accuracy: 0.879338180774 | f1_score: 0.369583554625\n",
      "treshold: 0.36 | auc: 0.616781267153 | accuracy: 0.882363845105 | f1_score: 0.3541153682\n",
      "treshold: 0.38 | auc: 0.605265454366 | accuracy: 0.884426798058 | f1_score: 0.331719798078\n",
      "treshold: 0.4 | auc: 0.594735190352 | accuracy: 0.886238608912 | f1_score: 0.309011004976\n"
     ]
    }
   ],
   "source": [
    "#choose treshold based on performance measures to get the accuracy and f1 score for the Logistic Model\n",
    "from sklearn.metrics import accuracy_score,f1_score\n",
    "TRESHOLD = [0.1,0.12,0.14,0.16,0.18,0.2,0.22,0.24,0.26,0.28,0.3,0.32,0.34,0.36,0.38,0.4]\n",
    "for tre in TRESHOLD:\n",
    "    predicted_proba_features_df['predicted_1_or_0']= predicted_proba_features_df['predicted_proba'].apply(lambda x: x>tre).astype(np.int8)\n",
    "    print('treshold:',tre,'| auc:',roc_auc_score(predicted_proba_features_df.actual, predicted_proba_features_df.predicted_1_or_0),\n",
    "          '| accuracy:',accuracy_score(predicted_proba_features_df.actual, predicted_proba_features_df.predicted_1_or_0),\n",
    "         '| f1_score:',f1_score(predicted_proba_features_df.actual, predicted_proba_features_df.predicted_1_or_0))\n"
   ]
  },
  {
   "cell_type": "code",
   "execution_count": 141,
   "metadata": {},
   "outputs": [
    {
     "data": {
      "text/plain": [
       "array([[137054,   9933],\n",
       "       [ 12644,   7605]])"
      ]
     },
     "execution_count": 141,
     "metadata": {},
     "output_type": "execute_result"
    }
   ],
   "source": [
    "#CREATE CONFUSION MATRIX:\n",
    "best_threshold = 0.3\n",
    "predicted_proba_features_df['predicted_1_or_0']=predicted_proba_features_df['predicted_proba'].apply(lambda x: x>best_threshold).astype(np.int8)\n",
    "confusion_matrix(predicted_proba_features_df.actual,predicted_proba_features_df.predicted_1_or_0)\n"
   ]
  },
  {
   "cell_type": "code",
   "execution_count": 162,
   "metadata": {},
   "outputs": [
    {
     "data": {
      "image/png": "[encoded data removed]",
      "text/plain": [
       "<matplotlib.figure.Figure at 0x42b594668>"
      ]
     },
     "metadata": {},
     "output_type": "display_data"
    },
    {
     "name": "stdout",
     "output_type": "stream",
     "text": [
      "roc auc score for cross validated: 0.65399834881\n"
     ]
    }
   ],
   "source": [
    "#Plot the ROC Curve for the Logistic Regression:\n",
    "fpr,tpr,thresholds=roc_curve(y_cv,predicted_proba_features_df['predicted_proba'])\n",
    "plt.plot([0,1],[0,1],'k--')\n",
    "plt.plot(fpr,tpr,label='Logistic Regression')\n",
    "plt.xlabel('FP rate')\n",
    "plt.ylabel('TP rate')\n",
    "plt.title('Logistic Regression ROC ')\n",
    "plt.show()\n",
    "print('roc auc score for cross validated:',roc_auc_score(y_cv,predicted_proba_features_df['predicted_1_or_0']))\n",
    "\n"
   ]
  },
  {
   "cell_type": "markdown",
   "metadata": {},
   "source": [
    "# Decision Tree"
   ]
  },
  {
   "cell_type": "code",
   "execution_count": 144,
   "metadata": {},
   "outputs": [
    {
     "name": "stdout",
     "output_type": "stream",
     "text": [
      "The best parameters for the model is: {'criterion': 'gini', 'max_depth': 5, 'max_features': 8, 'min_samples_leaf': 4}\n",
      "The best model score is: 0.882580215292\n"
     ]
    }
   ],
   "source": [
    "from sklearn.tree import DecisionTreeClassifier\n",
    "from sklearn.model_selection import RandomizedSearchCV\n",
    "from random import randint \n",
    "\n",
    "param_dist = {\"max_depth\": [5, None],\n",
    "              \"max_features\": (5,6,7,8,9,10,11),\n",
    "              \"min_samples_leaf\": (1,2,3,4,5),\n",
    "              \"criterion\": [\"gini\", \"entropy\"]}\n",
    "\n",
    "tree = DecisionTreeClassifier()\n",
    "tree_cv = GridSearchCV(tree,param_dist,cv=3)\n",
    "tree_cv.fit(X_train_features,y_tr)\n",
    "print('The best parameters for the model is:',tree_cv.best_params_)\n",
    "print('The best model score is:',tree_cv.best_score_)"
   ]
  },
  {
   "cell_type": "code",
   "execution_count": 150,
   "metadata": {
    "collapsed": true
   },
   "outputs": [],
   "source": [
    "#Fit the Decision Tree model using the best parameters:\n",
    "tree_new = DecisionTreeClassifier(criterion=tree_cv.best_params_['criterion'],\n",
    "                                 max_depth = tree_cv.best_params_['max_depth'],\n",
    "                                  max_features = tree_cv.best_params_['max_features'],\n",
    "                                  min_samples_leaf = tree_cv.best_params_['min_samples_leaf'])\n",
    "tree_new.fit(X_train_features,y_tr)\n",
    "predict_proba_tree = tree_new.predict_proba(X_cv_features)[:,1]\n",
    "predict_proba_tree_df = pd.DataFrame(predict_proba_tree)\n",
    "predict_proba_tree_df['actual'] = y_cv\n",
    "predict_proba_tree_df.columns = ['predicted_proba','actual']"
   ]
  },
  {
   "cell_type": "code",
   "execution_count": 151,
   "metadata": {},
   "outputs": [
    {
     "name": "stdout",
     "output_type": "stream",
     "text": [
      "treshold: 0.1 | auc: 0.720965818209 | accuracy: 0.707748331699 | f1_score: 0.379593546504\n",
      "treshold: 0.12 | auc: 0.720965818209 | accuracy: 0.707748331699 | f1_score: 0.379593546504\n",
      "treshold: 0.14 | auc: 0.717303995176 | accuracy: 0.735631084216 | f1_score: 0.388340112338\n",
      "treshold: 0.16 | auc: 0.710625679666 | accuracy: 0.788526393839 | f1_score: 0.410389783602\n",
      "treshold: 0.18 | auc: 0.71000471931 | accuracy: 0.788669903609 | f1_score: 0.409904494757\n",
      "treshold: 0.2 | auc: 0.681895084772 | accuracy: 0.8539309718 | f1_score: 0.42991831972\n",
      "treshold: 0.22 | auc: 0.681895084772 | accuracy: 0.8539309718 | f1_score: 0.42991831972\n",
      "treshold: 0.24 | auc: 0.681895084772 | accuracy: 0.8539309718 | f1_score: 0.42991831972\n",
      "treshold: 0.26 | auc: 0.680622128792 | accuracy: 0.867187686862 | f1_score: 0.44200477327\n",
      "treshold: 0.28 | auc: 0.666458758391 | accuracy: 0.87215671267 | f1_score: 0.4280057788\n",
      "treshold: 0.3 | auc: 0.666458758391 | accuracy: 0.87215671267 | f1_score: 0.4280057788\n"
     ]
    }
   ],
   "source": [
    "TRES = [0.1,0.12,0.14,0.16,0.18,0.2,0.22,0.24,0.26,0.28,0.3]\n",
    "for tre in TRES:\n",
    "    predict_proba_tree_df['predicted_1_or_0']= predict_proba_tree_df['predicted_proba'].apply(lambda x: x>tre).astype(np.int8)\n",
    "    print('treshold:',tre,'| auc:',roc_auc_score(predict_proba_tree_df.actual, predict_proba_tree_df.predicted_1_or_0),\n",
    "          '| accuracy:',accuracy_score(predict_proba_tree_df.actual, predict_proba_tree_df.predicted_1_or_0),\n",
    "         '| f1_score:',f1_score(predict_proba_tree_df.actual, predict_proba_tree_df.predicted_1_or_0))\n"
   ]
  },
  {
   "cell_type": "code",
   "execution_count": 152,
   "metadata": {},
   "outputs": [
    {
     "data": {
      "text/plain": [
       "array([[133597,  13390],\n",
       "       [ 11038,   9211]])"
      ]
     },
     "execution_count": 152,
     "metadata": {},
     "output_type": "execute_result"
    }
   ],
   "source": [
    "best_thre = 0.2\n",
    "predict_proba_tree_df['predicted_1_or_0'] = predict_proba_tree_df['predicted_proba'].apply(lambda x: x>best_thre).astype(np.int8)\n",
    "confusion_matrix(predict_proba_tree_df.actual,predict_proba_tree_df.predicted_1_or_0)"
   ]
  },
  {
   "cell_type": "code",
   "execution_count": 153,
   "metadata": {},
   "outputs": [
    {
     "data": {
      "image/png": "[encoded data removed]",
      "text/plain": [
       "<matplotlib.figure.Figure at 0x2a0e4fbe0>"
      ]
     },
     "metadata": {},
     "output_type": "display_data"
    },
    {
     "name": "stdout",
     "output_type": "stream",
     "text": [
      "roc auc score for cross validated: 0.681895084772\n"
     ]
    }
   ],
   "source": [
    "#Plot the ROC Curve for the Decision Tree:\n",
    "fpr,tpr,thresholds=roc_curve(y_cv,predict_proba_tree_df['predicted_proba'])\n",
    "plt.plot([0,1],[0,1],'k--')\n",
    "plt.plot(fpr,tpr,label='Decision Tree')\n",
    "plt.xlabel('FP rate')\n",
    "plt.ylabel('TP rate')\n",
    "plt.title('Decision Tree ROC ')\n",
    "plt.show()\n",
    "print('roc auc score for cross validated:',roc_auc_score(y_cv,predict_proba_tree_df['predicted_1_or_0']))\n"
   ]
  },
  {
   "cell_type": "markdown",
   "metadata": {},
   "source": [
    "From the ROC Curve above, we can see that the Decision Tree Model is also a better predictor in comparison to the dummy classifier since the dummy classifier is simply random guessing with ROC of 0.5."
   ]
  },
  {
   "cell_type": "markdown",
   "metadata": {},
   "source": [
    "# Random Forest"
   ]
  },
  {
   "cell_type": "code",
   "execution_count": 154,
   "metadata": {},
   "outputs": [
    {
     "name": "stdout",
     "output_type": "stream",
     "text": [
      "Best parameters for Random Forest: {'max_depth': 5, 'max_features': 7, 'min_samples_leaf': 4, 'min_samples_split': 6}\n",
      "Best Score for Random Forest: 0.883759936774\n"
     ]
    }
   ],
   "source": [
    "from sklearn.ensemble import RandomForestClassifier\n",
    "from sklearn.datasets import make_classification\n",
    "rfc = RandomForestClassifier()\n",
    "param_grid_rfc = {\"max_depth\": [5,6,7,8,9,10],\n",
    "                  \"min_samples_split\" :[3,4,5,6],\n",
    "                  \"min_samples_leaf\": [3,4,5],\n",
    "                  \"max_features\": (7,8,9,10,11)}    \n",
    "rfc_cv = GridSearchCV(rfc,param_grid_rfc,cv=3)\n",
    "rfc_cv.fit(X_train_features,y_tr)\n",
    "print('Best parameters for Random Forest:',rfc_cv.best_params_)\n",
    "print('Best Score for Random Forest:',rfc_cv.best_score_)"
   ]
  },
  {
   "cell_type": "code",
   "execution_count": 155,
   "metadata": {
    "collapsed": true
   },
   "outputs": [],
   "source": [
    "#Fit the Random Forest model using the best parameters:\n",
    "rfc_new = RandomForestClassifier(max_depth = rfc_cv.best_params_['max_depth'],\n",
    "                                  max_features = rfc_cv.best_params_['max_features'],\n",
    "                                  min_samples_leaf = rfc_cv.best_params_['min_samples_leaf'],\n",
    "                                  min_samples_split = rfc_cv.best_params_['min_samples_split'])\n",
    "rfc_new.fit(X_train_features,y_tr)\n",
    "\n",
    "predict_proba_rf = rfc_new.predict_proba(X_cv_features)[:,1]\n",
    "predict_proba_rf_df = pd.DataFrame(predict_proba_rf)\n",
    "predict_proba_rf_df['actual'] = y_cv\n",
    "predict_proba_rf_df.columns = ['predict_proba','actual']"
   ]
  },
  {
   "cell_type": "code",
   "execution_count": 156,
   "metadata": {},
   "outputs": [
    {
     "name": "stdout",
     "output_type": "stream",
     "text": [
      "treshold: 0.1 | auc: 0.728182297412 | accuracy: 0.69767872946 | f1_score: 0.381003685158\n",
      "treshold: 0.14 | auc: 0.735269694578 | accuracy: 0.772638666316 | f1_score: 0.422169202012\n",
      "treshold: 0.16 | auc: 0.718071916408 | accuracy: 0.801615680834 | f1_score: 0.425933936636\n",
      "treshold: 0.18 | auc: 0.709681313524 | accuracy: 0.817593101964 | f1_score: 0.42958918454\n",
      "treshold: 0.2 | auc: 0.695805905208 | accuracy: 0.835980291325 | f1_score: 0.429943056652\n",
      "treshold: 0.22 | auc: 0.689158680739 | accuracy: 0.848734722189 | f1_score: 0.433805590994\n",
      "treshold: 0.24 | auc: 0.684703627702 | accuracy: 0.855162763998 | f1_score: 0.434620232482\n",
      "treshold: 0.26 | auc: 0.68253159594 | accuracy: 0.860813461216 | f1_score: 0.437631369138\n",
      "treshold: 0.28 | auc: 0.674125460219 | accuracy: 0.865573201942 | f1_score: 0.431594649946\n"
     ]
    }
   ],
   "source": [
    "TRESHOLD_rfc = [0.1,0.14,0.16,0.18,0.2,0.22,0.24,0.26,0.28]\n",
    "for tre in TRESHOLD_rfc:\n",
    "    predict_proba_rf_df['predicted_1_or_0']=predict_proba_rf_df['predict_proba'].apply(lambda x: x>tre).astype(np.int8)\n",
    "    print('treshold:',tre,'| auc:',roc_auc_score(predict_proba_rf_df.actual, predict_proba_rf_df.predicted_1_or_0),\n",
    "          '| accuracy:',accuracy_score(predict_proba_rf_df.actual, predict_proba_rf_df.predicted_1_or_0),\n",
    "         '| f1_score:',f1_score(predict_proba_rf_df.actual, predict_proba_rf_df.predicted_1_or_0))\n"
   ]
  },
  {
   "cell_type": "code",
   "execution_count": 157,
   "metadata": {},
   "outputs": [
    {
     "data": {
      "text/plain": [
       "array([[134902,  12085],\n",
       "       [ 11192,   9057]])"
      ]
     },
     "execution_count": 157,
     "metadata": {},
     "output_type": "execute_result"
    }
   ],
   "source": [
    "best = 0.26\n",
    "predict_proba_rf_df['predicted_1_or_0'] = predict_proba_rf_df['predict_proba'].apply(lambda x:x>best).astype(np.int8)\n",
    "confusion_matrix(predict_proba_rf_df.actual,predict_proba_rf_df.predicted_1_or_0)"
   ]
  },
  {
   "cell_type": "code",
   "execution_count": 159,
   "metadata": {},
   "outputs": [
    {
     "data": {
      "image/png": "[encoded data removed]",
      "text/plain": [
       "<matplotlib.figure.Figure at 0x33ac5eda0>"
      ]
     },
     "metadata": {},
     "output_type": "display_data"
    },
    {
     "name": "stdout",
     "output_type": "stream",
     "text": [
      "roc auc score for cross validated: 0.68253159594\n"
     ]
    }
   ],
   "source": [
    "#Plot the ROC Curve for the Random Forest:\n",
    "fpr,tpr,thresholds=roc_curve(y_cv,predict_proba_rf_df['predict_proba'])\n",
    "plt.plot([0,1],[0,1],'k--')\n",
    "plt.plot(fpr,tpr,label='Random Forest')\n",
    "plt.xlabel('FP rate')\n",
    "plt.ylabel('TP rate')\n",
    "plt.title('Random Forest ROC ')\n",
    "plt.show()\n",
    "print('roc auc score for cross validated:',roc_auc_score(y_cv,predict_proba_rf_df['predicted_1_or_0']))\n",
    "\n"
   ]
  },
  {
   "cell_type": "markdown",
   "metadata": {},
   "source": [
    "# Conclusion"
   ]
  },
  {
   "cell_type": "code",
   "execution_count": 161,
   "metadata": {},
   "outputs": [
    {
     "data": {
      "text/html": [
       "<div>\n",
       "<style>\n",
       "    .dataframe thead tr:only-child th {\n",
       "        text-align: right;\n",
       "    }\n",
       "\n",
       "    .dataframe thead th {\n",
       "        text-align: left;\n",
       "    }\n",
       "\n",
       "    .dataframe tbody tr th {\n",
       "        vertical-align: top;\n",
       "    }\n",
       "</style>\n",
       "<table border=\"1\" class=\"dataframe\">\n",
       "  <thead>\n",
       "    <tr style=\"text-align: right;\">\n",
       "      <th></th>\n",
       "      <th>Index</th>\n",
       "      <th>score</th>\n",
       "      <th>feature</th>\n",
       "    </tr>\n",
       "  </thead>\n",
       "  <tbody>\n",
       "    <tr>\n",
       "      <th>6</th>\n",
       "      <td>12</td>\n",
       "      <td>141772.279138</td>\n",
       "      <td>Products_order_ratio_per_user</td>\n",
       "    </tr>\n",
       "    <tr>\n",
       "      <th>5</th>\n",
       "      <td>11</td>\n",
       "      <td>73530.665215</td>\n",
       "      <td>Number_of_products_per_user</td>\n",
       "    </tr>\n",
       "    <tr>\n",
       "      <th>7</th>\n",
       "      <td>14</td>\n",
       "      <td>31739.777576</td>\n",
       "      <td>userproduct_orders_since_last</td>\n",
       "    </tr>\n",
       "    <tr>\n",
       "      <th>4</th>\n",
       "      <td>10</td>\n",
       "      <td>24978.875343</td>\n",
       "      <td>reorder_rate_per_product</td>\n",
       "    </tr>\n",
       "    <tr>\n",
       "      <th>3</th>\n",
       "      <td>9</td>\n",
       "      <td>10939.213448</td>\n",
       "      <td>total_order_per_product</td>\n",
       "    </tr>\n",
       "    <tr>\n",
       "      <th>0</th>\n",
       "      <td>3</td>\n",
       "      <td>4269.762191</td>\n",
       "      <td>Total_Orders_per_user</td>\n",
       "    </tr>\n",
       "    <tr>\n",
       "      <th>9</th>\n",
       "      <td>27</td>\n",
       "      <td>4208.876354</td>\n",
       "      <td>department_id_13</td>\n",
       "    </tr>\n",
       "    <tr>\n",
       "      <th>2</th>\n",
       "      <td>8</td>\n",
       "      <td>3481.228166</td>\n",
       "      <td>Average_basket_size</td>\n",
       "    </tr>\n",
       "    <tr>\n",
       "      <th>8</th>\n",
       "      <td>18</td>\n",
       "      <td>2122.626367</td>\n",
       "      <td>department_id_4</td>\n",
       "    </tr>\n",
       "    <tr>\n",
       "      <th>1</th>\n",
       "      <td>7</td>\n",
       "      <td>1738.197878</td>\n",
       "      <td>average_days_between_orders</td>\n",
       "    </tr>\n",
       "    <tr>\n",
       "      <th>10</th>\n",
       "      <td>30</td>\n",
       "      <td>1660.294272</td>\n",
       "      <td>department_id_16</td>\n",
       "    </tr>\n",
       "  </tbody>\n",
       "</table>\n",
       "</div>"
      ],
      "text/plain": [
       "    Index          score                        feature\n",
       "6      12  141772.279138  Products_order_ratio_per_user\n",
       "5      11   73530.665215    Number_of_products_per_user\n",
       "7      14   31739.777576  userproduct_orders_since_last\n",
       "4      10   24978.875343       reorder_rate_per_product\n",
       "3       9   10939.213448        total_order_per_product\n",
       "0       3    4269.762191          Total_Orders_per_user\n",
       "9      27    4208.876354               department_id_13\n",
       "2       8    3481.228166            Average_basket_size\n",
       "8      18    2122.626367                department_id_4\n",
       "1       7    1738.197878    average_days_between_orders\n",
       "10     30    1660.294272               department_id_16"
      ]
     },
     "execution_count": 161,
     "metadata": {},
     "output_type": "execute_result"
    }
   ],
   "source": [
    "less_features.sort_values('score',ascending=False)"
   ]
  },
  {
   "cell_type": "markdown",
   "metadata": {},
   "source": [
    "<b>The top features that are important for the model to predict which products are going to be reordered per user include: </b>\n",
    "\n",
    "1. Out of all orders, how many times does the user include the product\n",
    "\n",
    "2. How many products the user have bought in the past to indicate if he oftens buy products from instacart\n",
    "\n",
    "3. How long has it been since the product is last purchased by the user\n",
    "\n",
    "4. How often does the user reorder the product after buying it right previously?\n",
    "\n",
    "5. Out of total orders, what percentage of it does the product comprise of?\n",
    "\n",
    "6. How many orders have the users placed?\n",
    "\n",
    "7. Department id 13: Pantry Department. Turns out that pantry department are often reordered\n",
    "\n",
    "8. Average basket size per user\n",
    "\n",
    "9. Department id 4: Produce Department. Produce department products are often reordered as well, which is not a surprise.\n",
    "\n",
    "10. Average number of days the user usually takes to reorder.\n",
    "\n",
    "11. Department id 16: Dairy Eggs Department. Dairy Eggs also tend to get reordered a lot, which is not a surprise."
   ]
  },
  {
   "cell_type": "markdown",
   "metadata": {},
   "source": [
    "<b><h2>Model Discussion</h2></b>\n",
    "\n",
    "Here we use the F-1 score along with the ROC Curve(AUC Score) to analyze which model results in the best prediction. The F-1 score indicates a weighted average of precision and recall.\n",
    "\n",
    "<li> Dummy Classifier: The Dummy Classifier indicates an F-1 score of 0, which means that it is the worst possible model for test accuracy. Which is as expected. The ROC Curve also lies on the 45-degree angle, which means that our baseline is 0.5.\n",
    "\n",
    "<li> Logistic Regression: The Logistic Regression indicates an F-1 score of 0.4 and an AUC of 0.65, meaning that the Logistic Regression is a better model in comparison to the dummy classifier model.\n",
    "\n",
    "<li> Decision Tree: The Decision Tree indicates an F-1 score of 0.43 and an AUC of 0.68. This means that this model is an even better performer in predicting the test samples in comparison to the Logistic Regression.\n",
    "\n",
    "<li> Random Forest: The Random Forest indicates an F-1 score of 0.44 and an AUC score of 0.68. This is not much different from that of the Decision Tree in predicting the test samples.\n",
    "\n",
    "Overall, the best model is the Decision Tree since it produces roughly the same result as Random Forest and takes a lot less time to process than the Random Forest.\n",
    "\n"
   ]
  }
 ],
 "metadata": {
  "kernelspec": {
   "display_name": "Python 3",
   "language": "python",
   "name": "python3"
  },
  "language_info": {
   "codemirror_mode": {
    "name": "ipython",
    "version": 3
   },
   "file_extension": ".py",
   "mimetype": "text/x-python",
   "name": "python",
   "nbconvert_exporter": "python",
   "pygments_lexer": "ipython3",
   "version": "3.6.1"
  }
 },
 "nbformat": 4,
 "nbformat_minor": 2
}
